{
 "cells": [
  {
   "cell_type": "code",
   "execution_count": 1,
   "metadata": {
    "collapsed": false
   },
   "outputs": [],
   "source": [
    "# Get target list; this follows the selection in ../document/figures/targets.py \n",
    "import sys\n",
    "sys.path.append('..')\n",
    "\n",
    "from peerless.catalogs import KICatalog, KOICatalog, EBCatalog, BlacklistCatalog\n",
    "import numpy as np\n",
    "\n",
    "stlr = KICatalog().df\n",
    "m = (4200 <= stlr.teff) & (stlr.teff <= 6100)\n",
    "m &= stlr.radius <= 1.15\n",
    "m &= stlr.dataspan > 365.25*2.\n",
    "m &= stlr.dutycycle > 0.6\n",
    "m &= stlr.rrmscdpp07p5 <= 1000.\n",
    "m &= stlr.kepmag < 15.\n",
    "\n",
    "# known EBs\n",
    "ebs = set(np.array(EBCatalog().df[\"#KIC\"]))\n",
    "\n",
    "# KOI false positives\n",
    "kois = KOICatalog().df\n",
    "kois = kois[kois.koi_disposition == \"FALSE POSITIVE\"]\n",
    "fps = set(np.array(kois.kepid))\n",
    "\n",
    "# And then finally the blacklist.\n",
    "bl = set(np.array(BlacklistCatalog().df.kicid))\n",
    "\n",
    "# The full list of ignores.\n",
    "ignore = fps | bl #ebs | fps | bl  #Don't ignore EBs for purposes of prediction\n",
    "m &= ~stlr.kepid.isin(ignore)\n",
    "\n",
    "targets = stlr[m]"
   ]
  },
  {
   "cell_type": "code",
   "execution_count": 2,
   "metadata": {
    "collapsed": false
   },
   "outputs": [
    {
     "data": {
      "text/plain": [
       "kepid    39626\n",
       "mass     38983\n",
       "feh      39626\n",
       "dtype: int64"
      ]
     },
     "execution_count": 2,
     "metadata": {},
     "output_type": "execute_result"
    }
   ],
   "source": [
    "targets[['kepid','mass','feh']].count()"
   ]
  },
  {
   "cell_type": "code",
   "execution_count": 3,
   "metadata": {
    "collapsed": false
   },
   "outputs": [
    {
     "name": "stderr",
     "output_type": "stream",
     "text": [
      "/u/tdm/anaconda/lib/python2.7/site-packages/pandas/core/indexing.py:415: SettingWithCopyWarning: \n",
      "A value is trying to be set on a copy of a slice from a DataFrame.\n",
      "Try using .loc[row_indexer,col_indexer] = value instead\n",
      "\n",
      "See the the caveats in the documentation: http://pandas.pydata.org/pandas-docs/stable/indexing.html#indexing-view-versus-copy\n",
      "  self.obj[item] = s\n"
     ]
    }
   ],
   "source": [
    "# funny, there seem to be some missing masses.  Let's artificially add those in, with M=R\n",
    "bad = targets.mass.isnull()\n",
    "targets.loc[bad, 'mass'] = targets.loc[bad, 'radius']"
   ]
  },
  {
   "cell_type": "code",
   "execution_count": 4,
   "metadata": {
    "collapsed": false
   },
   "outputs": [
    {
     "name": "stderr",
     "output_type": "stream",
     "text": [
      "WARNING:root:progressbar not imported\n",
      "/u/tdm/anaconda/lib/python2.7/site-packages/pandas/core/indexing.py:249: SettingWithCopyWarning: \n",
      "A value is trying to be set on a copy of a slice from a DataFrame.\n",
      "Try using .loc[row_indexer,col_indexer] = value instead\n",
      "\n",
      "See the the caveats in the documentation: http://pandas.pydata.org/pandas-docs/stable/indexing.html#indexing-view-versus-copy\n",
      "  self.obj[key] = _infer_fill_value(value)\n"
     ]
    },
    {
     "data": {
      "text/plain": [
       "223"
      ]
     },
     "execution_count": 4,
     "metadata": {},
     "output_type": "execute_result"
    }
   ],
   "source": [
    "# Simulation a population of binary stars and observe them.\n",
    "\n",
    "from sims import BinaryPopulation\n",
    "ebs = BinaryPopulation(targets)\n",
    "obscols = ['period','d_pri','d_sec','T14_pri','T14_sec',\n",
    "             'b_pri','b_sec','k','n_pri','n_sec',\n",
    "            'radius_A','radius_B','flux_ratio', 'dutycycle']\n",
    "obs = ebs.observe(query='period > 5')[obscols]\n",
    "len(obs)"
   ]
  },
  {
   "cell_type": "markdown",
   "metadata": {},
   "source": [
    "OK, this is how many EBs we predict there to be with periods greater than 5 days.  How does this compare with the actual EB catalog?"
   ]
  },
  {
   "cell_type": "code",
   "execution_count": 5,
   "metadata": {
    "collapsed": false
   },
   "outputs": [
    {
     "data": {
      "text/plain": [
       "224.75436655536478"
      ]
     },
     "execution_count": 5,
     "metadata": {},
     "output_type": "execute_result"
    }
   ],
   "source": [
    "# Total number of Kepler EBs with P > 5, scaled by number of targets\n",
    "from __future__ import division\n",
    "len(EBCatalog().df.query('period>5')) * (len(targets)/len(KICatalog().df))"
   ]
  },
  {
   "cell_type": "markdown",
   "metadata": {},
   "source": [
    "OK, this is creepy-close.  But this is very encouraging.  Means we should be able to take seriously the results of this simulation.  What does it say about single/double eclipses (either only primary or only secondary)?"
   ]
  },
  {
   "cell_type": "code",
   "execution_count": 23,
   "metadata": {
    "collapsed": false
   },
   "outputs": [
    {
     "data": {
      "text/html": [
       "<div>\n",
       "<table border=\"1\" class=\"dataframe\">\n",
       "  <thead>\n",
       "    <tr style=\"text-align: right;\">\n",
       "      <th></th>\n",
       "      <th>period</th>\n",
       "      <th>d_pri</th>\n",
       "      <th>d_sec</th>\n",
       "      <th>T14_pri</th>\n",
       "      <th>T14_sec</th>\n",
       "      <th>b_pri</th>\n",
       "      <th>b_sec</th>\n",
       "      <th>k</th>\n",
       "      <th>n_pri</th>\n",
       "      <th>n_sec</th>\n",
       "      <th>radius_A</th>\n",
       "      <th>radius_B</th>\n",
       "      <th>flux_ratio</th>\n",
       "      <th>dutycycle</th>\n",
       "    </tr>\n",
       "  </thead>\n",
       "  <tbody>\n",
       "    <tr>\n",
       "      <th>27891</th>\n",
       "      <td>2626.291418</td>\n",
       "      <td>0.000000</td>\n",
       "      <td>0.000893</td>\n",
       "      <td>0.000000</td>\n",
       "      <td>0.109913</td>\n",
       "      <td>12.157805</td>\n",
       "      <td>1.708168</td>\n",
       "      <td>0.740635</td>\n",
       "      <td>0</td>\n",
       "      <td>1</td>\n",
       "      <td>1.067</td>\n",
       "      <td>0.790257</td>\n",
       "      <td>0.596234</td>\n",
       "      <td>0.6985</td>\n",
       "    </tr>\n",
       "    <tr>\n",
       "      <th>29409</th>\n",
       "      <td>1101.142723</td>\n",
       "      <td>0.027542</td>\n",
       "      <td>0.000529</td>\n",
       "      <td>0.255605</td>\n",
       "      <td>1.807807</td>\n",
       "      <td>0.049221</td>\n",
       "      <td>0.366977</td>\n",
       "      <td>0.150467</td>\n",
       "      <td>0</td>\n",
       "      <td>2</td>\n",
       "      <td>0.923</td>\n",
       "      <td>0.138881</td>\n",
       "      <td>0.000530</td>\n",
       "      <td>0.8752</td>\n",
       "    </tr>\n",
       "    <tr>\n",
       "      <th>47169</th>\n",
       "      <td>1040.425693</td>\n",
       "      <td>0.000000</td>\n",
       "      <td>0.105332</td>\n",
       "      <td>0.000000</td>\n",
       "      <td>0.503568</td>\n",
       "      <td>2.529913</td>\n",
       "      <td>1.236026</td>\n",
       "      <td>0.995191</td>\n",
       "      <td>0</td>\n",
       "      <td>1</td>\n",
       "      <td>0.927</td>\n",
       "      <td>0.922542</td>\n",
       "      <td>0.678343</td>\n",
       "      <td>0.8753</td>\n",
       "    </tr>\n",
       "    <tr>\n",
       "      <th>96406</th>\n",
       "      <td>844.868995</td>\n",
       "      <td>0.134881</td>\n",
       "      <td>0.000000</td>\n",
       "      <td>0.114677</td>\n",
       "      <td>0.000000</td>\n",
       "      <td>0.392731</td>\n",
       "      <td>7.075510</td>\n",
       "      <td>0.342273</td>\n",
       "      <td>1</td>\n",
       "      <td>0</td>\n",
       "      <td>1.000</td>\n",
       "      <td>0.342273</td>\n",
       "      <td>0.005173</td>\n",
       "      <td>0.8753</td>\n",
       "    </tr>\n",
       "    <tr>\n",
       "      <th>116165</th>\n",
       "      <td>1682.972037</td>\n",
       "      <td>0.000000</td>\n",
       "      <td>0.012252</td>\n",
       "      <td>0.000000</td>\n",
       "      <td>0.396892</td>\n",
       "      <td>3.232740</td>\n",
       "      <td>1.030641</td>\n",
       "      <td>0.455582</td>\n",
       "      <td>0</td>\n",
       "      <td>1</td>\n",
       "      <td>0.797</td>\n",
       "      <td>0.363099</td>\n",
       "      <td>0.030859</td>\n",
       "      <td>0.8753</td>\n",
       "    </tr>\n",
       "    <tr>\n",
       "      <th>123153</th>\n",
       "      <td>6465.189837</td>\n",
       "      <td>0.096377</td>\n",
       "      <td>0.000000</td>\n",
       "      <td>0.577949</td>\n",
       "      <td>0.000000</td>\n",
       "      <td>0.969990</td>\n",
       "      <td>4.367995</td>\n",
       "      <td>0.465633</td>\n",
       "      <td>1</td>\n",
       "      <td>0</td>\n",
       "      <td>0.919</td>\n",
       "      <td>0.427916</td>\n",
       "      <td>0.013937</td>\n",
       "      <td>0.8753</td>\n",
       "    </tr>\n",
       "    <tr>\n",
       "      <th>168089</th>\n",
       "      <td>561.272992</td>\n",
       "      <td>0.303038</td>\n",
       "      <td>0.000000</td>\n",
       "      <td>0.254411</td>\n",
       "      <td>0.000000</td>\n",
       "      <td>0.492015</td>\n",
       "      <td>3.908409</td>\n",
       "      <td>0.575873</td>\n",
       "      <td>2</td>\n",
       "      <td>0</td>\n",
       "      <td>1.144</td>\n",
       "      <td>0.658799</td>\n",
       "      <td>0.126028</td>\n",
       "      <td>0.8752</td>\n",
       "    </tr>\n",
       "  </tbody>\n",
       "</table>\n",
       "</div>"
      ],
      "text/plain": [
       "             period     d_pri     d_sec   T14_pri   T14_sec      b_pri  \\\n",
       "27891   2626.291418  0.000000  0.000893  0.000000  0.109913  12.157805   \n",
       "29409   1101.142723  0.027542  0.000529  0.255605  1.807807   0.049221   \n",
       "47169   1040.425693  0.000000  0.105332  0.000000  0.503568   2.529913   \n",
       "96406    844.868995  0.134881  0.000000  0.114677  0.000000   0.392731   \n",
       "116165  1682.972037  0.000000  0.012252  0.000000  0.396892   3.232740   \n",
       "123153  6465.189837  0.096377  0.000000  0.577949  0.000000   0.969990   \n",
       "168089   561.272992  0.303038  0.000000  0.254411  0.000000   0.492015   \n",
       "\n",
       "           b_sec         k  n_pri  n_sec  radius_A  radius_B  flux_ratio  \\\n",
       "27891   1.708168  0.740635      0      1     1.067  0.790257    0.596234   \n",
       "29409   0.366977  0.150467      0      2     0.923  0.138881    0.000530   \n",
       "47169   1.236026  0.995191      0      1     0.927  0.922542    0.678343   \n",
       "96406   7.075510  0.342273      1      0     1.000  0.342273    0.005173   \n",
       "116165  1.030641  0.455582      0      1     0.797  0.363099    0.030859   \n",
       "123153  4.367995  0.465633      1      0     0.919  0.427916    0.013937   \n",
       "168089  3.908409  0.575873      2      0     1.144  0.658799    0.126028   \n",
       "\n",
       "        dutycycle  \n",
       "27891      0.6985  \n",
       "29409      0.8752  \n",
       "47169      0.8753  \n",
       "96406      0.8753  \n",
       "116165     0.8753  \n",
       "123153     0.8753  \n",
       "168089     0.8752  "
      ]
     },
     "execution_count": 23,
     "metadata": {},
     "output_type": "execute_result"
    }
   ],
   "source": [
    "dfm_query = '((n_pri + n_sec) < 3) and (n_pri==0 or n_sec==0)'\n",
    "candidates = obs.query(dfm_query)\n",
    "candidates"
   ]
  },
  {
   "cell_type": "markdown",
   "metadata": {},
   "source": [
    "Let's look at the depth vs. duration for these signals."
   ]
  },
  {
   "cell_type": "code",
   "execution_count": 7,
   "metadata": {
    "collapsed": false
   },
   "outputs": [
    {
     "data": {
      "text/plain": [
       "<matplotlib.text.Text at 0x7fcb68e00f50>"
      ]
     },
     "execution_count": 7,
     "metadata": {},
     "output_type": "execute_result"
    },
    {
     "data": {
      "image/png": "[encoded data removed]",
      "text/plain": [
       "<matplotlib.figure.Figure at 0x7fcb5a4cb050>"
      ]
     },
     "metadata": {},
     "output_type": "display_data"
    }
   ],
   "source": [
    "%matplotlib inline\n",
    "import matplotlib.pyplot as plt\n",
    "\n",
    "pri = candidates.n_pri > 0\n",
    "sec = candidates.n_sec > 0\n",
    "\n",
    "depth = pri*candidates.d_pri + sec*candidates.d_sec\n",
    "duration = pri*candidates.T14_pri + sec*candidates.T14_sec\n",
    "\n",
    "plt.plot(duration, np.log10(depth), 'x', ms=10);\n",
    "plt.xlabel('Duration [days]')\n",
    "plt.ylabel('log10(depth)')"
   ]
  },
  {
   "cell_type": "markdown",
   "metadata": {},
   "source": [
    "OK, so that's for unblended EBs.  What about background EBs?  We can pretty fairly ignore hierarchical systems at these long periods, I think.\n",
    "\n",
    "OK, for the BG population, we need to probabilistically populate each target star with background stars.  This background star probability can be taken from Morton & Johnson (2011).  \n",
    "\n",
    "$$P_{BG} = C(m_{Kp}) + A(m_{Kp}) e^{-b/B(m_{Kp})}$$\n",
    "\n",
    "where $A$, $B$, and $C$ are all polynomial functions of Kepler mag"
   ]
  },
  {
   "cell_type": "code",
   "execution_count": 15,
   "metadata": {
    "collapsed": true
   },
   "outputs": [],
   "source": [
    "pA = [-2.5038e-3, 0.12912, -2.4273, 19.980, -60.931]\n",
    "pB = [3.0668e-3, -0.15902, 3.0365, -25.320, 82.605]\n",
    "pC = [-1.5465e-5, 7.5396e-4, -1.2836e-2, 9.6434e-2, -0.27166]\n",
    "\n",
    "def Pbg(Kp, b, r=4):\n",
    "    \"\"\"Expected number of BG stars within r\", in magnitude range (Kp, Kp + 10)\n",
    "    \"\"\"\n",
    "    if Kp < 11:\n",
    "        Kp = 11\n",
    "    if Kp > 16:\n",
    "        Kp = 16\n",
    "    return (r/2)**2*(np.polyval(pC, Kp) + \n",
    "                     np.polyval(pA, Kp)*np.exp(-b/np.polyval(pB, Kp)))"
   ]
  },
  {
   "cell_type": "markdown",
   "metadata": {},
   "source": [
    "OK, so then let's create a new background \"target\" star population.  For each star in the target list, give it some BG stars."
   ]
  },
  {
   "cell_type": "code",
   "execution_count": 16,
   "metadata": {
    "collapsed": false
   },
   "outputs": [],
   "source": [
    "from astropy.coordinates import SkyCoord\n",
    "import pandas as pd\n",
    "from scipy.stats import poisson\n",
    "from astropy import constants as const\n",
    "\n",
    "G = const.G.cgs.value\n",
    "MSUN = const.M_sun.cgs.value\n",
    "RSUN = const.R_sun.cgs.value\n",
    "\n",
    "from vespa.stars.populations import BGStarPopulation_TRILEGAL\n",
    "\n",
    "ra, dec = 290.665452, 44.484019 #Center of Kepler field\n",
    "bgpop = BGStarPopulation_TRILEGAL('mod13_bg.h5',ra=ra, dec=dec)\n",
    "\n",
    "def generate_bg_targets(bg):\n",
    "\n",
    "    c = SkyCoord(targets.ra, targets.dec, unit='deg')\n",
    "    bs = c.galactic.b.deg\n",
    "\n",
    "    dataspan = []\n",
    "    dutycycle = []\n",
    "    mass_A = []\n",
    "    radius_A = []\n",
    "    age = []\n",
    "    feh = []\n",
    "    kepmag_target = []\n",
    "    kepmag_A = []\n",
    "    index = []\n",
    "    for (ix, s), b in zip(targets.iterrows(), bs):\n",
    "        n = poisson(Pbg(s.kepmag, b)).rvs()\n",
    "        for i in range(n):\n",
    "            bg_star = bg.stars.ix[np.random.randint(len(bg.stars))]\n",
    "            Kp = s.kepmag\n",
    "            while not ((bg_star.Kepler_mag > Kp) and \n",
    "                       (bg_star.Kepler_mag < Kp+10)):\n",
    "                bg_star = bg.stars.ix[np.random.randint(len(bg.stars))]\n",
    "            mass = bg_star.Mact\n",
    "            radius = np.sqrt(G * mass * MSUN / 10**bg_star.logg)/RSUN\n",
    "            dataspan.append(s.dataspan)\n",
    "            dutycycle.append(s.dutycycle)\n",
    "            mass_A.append(mass)\n",
    "            radius_A.append(radius)\n",
    "            kepmag_target.append(s.kepmag)\n",
    "            kepmag_A.append(bg_star.Kepler_mag)\n",
    "            age.append(bg_star.logAge)\n",
    "            feh.append(bg_star['[M/H]'])\n",
    "            index.append(ix)\n",
    "\n",
    "    bg_targets = pd.DataFrame({'dataspan':dataspan,\n",
    "                              'dutycycle':dutycycle,\n",
    "                              'mass_A':mass_A,\n",
    "                              'radius_A':radius_A,\n",
    "                               'age':age,\n",
    "                               'feh':feh,\n",
    "                               'kepmag_target':kepmag_target,\n",
    "                               'kepmag_A':kepmag_A}, index=index)\n",
    "    return bg_targets\n",
    "\n",
    "bg_targets = generate_bg_targets(bgpop)\n",
    "bg_targets.to_hdf('bg_targets.h5', 'df')\n",
    "bg_targets = pd.read_hdf('bg_targets.h5', 'df')"
   ]
  },
  {
   "cell_type": "code",
   "execution_count": 17,
   "metadata": {
    "collapsed": false
   },
   "outputs": [
    {
     "data": {
      "text/plain": [
       "23244"
      ]
     },
     "execution_count": 17,
     "metadata": {},
     "output_type": "execute_result"
    }
   ],
   "source": [
    "len(bg_targets)"
   ]
  },
  {
   "cell_type": "code",
   "execution_count": 18,
   "metadata": {
    "collapsed": false
   },
   "outputs": [],
   "source": [
    "from sims import BG_BinaryPopulation\n",
    "bgs = BG_BinaryPopulation(bg_targets)"
   ]
  },
  {
   "cell_type": "code",
   "execution_count": 20,
   "metadata": {
    "collapsed": false
   },
   "outputs": [
    {
     "data": {
      "text/plain": [
       "56"
      ]
     },
     "execution_count": 20,
     "metadata": {},
     "output_type": "execute_result"
    }
   ],
   "source": [
    "bg_obs = bgs.observe(query='period > 5')\n",
    "len(bg_obs)"
   ]
  },
  {
   "cell_type": "code",
   "execution_count": 25,
   "metadata": {
    "collapsed": false
   },
   "outputs": [
    {
     "data": {
      "text/html": [
       "<div>\n",
       "<table border=\"1\" class=\"dataframe\">\n",
       "  <thead>\n",
       "    <tr style=\"text-align: right;\">\n",
       "      <th></th>\n",
       "      <th>period</th>\n",
       "      <th>d_pri</th>\n",
       "      <th>d_sec</th>\n",
       "      <th>T14_pri</th>\n",
       "      <th>T14_sec</th>\n",
       "      <th>b_pri</th>\n",
       "      <th>b_sec</th>\n",
       "      <th>k</th>\n",
       "      <th>n_pri</th>\n",
       "      <th>n_sec</th>\n",
       "      <th>radius_A</th>\n",
       "      <th>radius_B</th>\n",
       "      <th>flux_ratio</th>\n",
       "      <th>dutycycle</th>\n",
       "    </tr>\n",
       "  </thead>\n",
       "  <tbody>\n",
       "    <tr>\n",
       "      <th>3413</th>\n",
       "      <td>1521.384949</td>\n",
       "      <td>0.000000</td>\n",
       "      <td>0.000152</td>\n",
       "      <td>0.000000</td>\n",
       "      <td>0.103916</td>\n",
       "      <td>2.955080</td>\n",
       "      <td>0.220258</td>\n",
       "      <td>0.685077</td>\n",
       "      <td>0</td>\n",
       "      <td>1</td>\n",
       "      <td>0.199731</td>\n",
       "      <td>0.136831</td>\n",
       "      <td>0.371994</td>\n",
       "      <td>0.6990</td>\n",
       "    </tr>\n",
       "    <tr>\n",
       "      <th>34439</th>\n",
       "      <td>1665.232777</td>\n",
       "      <td>0.001584</td>\n",
       "      <td>0.000004</td>\n",
       "      <td>0.838768</td>\n",
       "      <td>1.780608</td>\n",
       "      <td>0.121298</td>\n",
       "      <td>0.261848</td>\n",
       "      <td>0.284764</td>\n",
       "      <td>0</td>\n",
       "      <td>1</td>\n",
       "      <td>1.178729</td>\n",
       "      <td>0.335659</td>\n",
       "      <td>0.000247</td>\n",
       "      <td>0.6847</td>\n",
       "    </tr>\n",
       "    <tr>\n",
       "      <th>122047</th>\n",
       "      <td>805.700953</td>\n",
       "      <td>0.000000</td>\n",
       "      <td>0.000170</td>\n",
       "      <td>0.000000</td>\n",
       "      <td>0.242835</td>\n",
       "      <td>3.620811</td>\n",
       "      <td>0.654278</td>\n",
       "      <td>0.591429</td>\n",
       "      <td>0</td>\n",
       "      <td>2</td>\n",
       "      <td>0.663036</td>\n",
       "      <td>0.392139</td>\n",
       "      <td>0.063279</td>\n",
       "      <td>0.8751</td>\n",
       "    </tr>\n",
       "  </tbody>\n",
       "</table>\n",
       "</div>"
      ],
      "text/plain": [
       "             period     d_pri     d_sec   T14_pri   T14_sec     b_pri  \\\n",
       "3413    1521.384949  0.000000  0.000152  0.000000  0.103916  2.955080   \n",
       "34439   1665.232777  0.001584  0.000004  0.838768  1.780608  0.121298   \n",
       "122047   805.700953  0.000000  0.000170  0.000000  0.242835  3.620811   \n",
       "\n",
       "           b_sec         k  n_pri  n_sec  radius_A  radius_B  flux_ratio  \\\n",
       "3413    0.220258  0.685077      0      1  0.199731  0.136831    0.371994   \n",
       "34439   0.261848  0.284764      0      1  1.178729  0.335659    0.000247   \n",
       "122047  0.654278  0.591429      0      2  0.663036  0.392139    0.063279   \n",
       "\n",
       "        dutycycle  \n",
       "3413       0.6990  \n",
       "34439      0.6847  \n",
       "122047     0.8751  "
      ]
     },
     "execution_count": 25,
     "metadata": {},
     "output_type": "execute_result"
    }
   ],
   "source": [
    "bg_obs.query(dfm_query)[obscols]"
   ]
  },
  {
   "cell_type": "code",
   "execution_count": null,
   "metadata": {
    "collapsed": true
   },
   "outputs": [],
   "source": []
  }
 ],
 "metadata": {
  "kernelspec": {
   "display_name": "Python 2",
   "language": "python",
   "name": "python2"
  },
  "language_info": {
   "codemirror_mode": {
    "name": "ipython",
    "version": 2
   },
   "file_extension": ".py",
   "mimetype": "text/x-python",
   "name": "python",
   "nbconvert_exporter": "python",
   "pygments_lexer": "ipython2",
   "version": "2.7.10"
  }
 },
 "nbformat": 4,
 "nbformat_minor": 0
}
