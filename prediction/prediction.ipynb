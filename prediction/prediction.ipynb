{
 "cells": [
  {
   "cell_type": "code",
   "execution_count": 1,
   "metadata": {
    "collapsed": false
   },
   "outputs": [],
   "source": [
    "# Get target list; this follows the selection in ../document/figures/targets.py \n",
    "import sys\n",
    "sys.path.append('..')\n",
    "\n",
    "from peerless.catalogs import KICatalog, KOICatalog, EBCatalog, BlacklistCatalog\n",
    "import numpy as np\n",
    "\n",
    "stlr = KICatalog().df\n",
    "m = (4200 <= stlr.teff) & (stlr.teff <= 6100)\n",
    "m &= stlr.radius <= 1.15\n",
    "m &= stlr.dataspan > 365.25*2.\n",
    "m &= stlr.dutycycle > 0.6\n",
    "m &= stlr.rrmscdpp07p5 <= 1000.\n",
    "m &= stlr.kepmag < 15.\n",
    "\n",
    "# known EBs\n",
    "ebs = set(np.array(EBCatalog().df[\"#KIC\"]))\n",
    "\n",
    "# KOI false positives\n",
    "kois = KOICatalog().df\n",
    "kois = kois[kois.koi_disposition == \"FALSE POSITIVE\"]\n",
    "fps = set(np.array(kois.kepid))\n",
    "\n",
    "# And then finally the blacklist.\n",
    "bl = set(np.array(BlacklistCatalog().df.kicid))\n",
    "\n",
    "# The full list of ignores.\n",
    "ignore = fps | bl #ebs | fps | bl  #Don't ignore EBs for purposes of prediction\n",
    "m &= ~stlr.kepid.isin(ignore)\n",
    "\n",
    "targets = stlr[m]"
   ]
  },
  {
   "cell_type": "code",
   "execution_count": 2,
   "metadata": {
    "collapsed": false
   },
   "outputs": [
    {
     "data": {
      "text/plain": [
       "kepid    39626\n",
       "mass     38983\n",
       "feh      39626\n",
       "dtype: int64"
      ]
     },
     "execution_count": 2,
     "metadata": {},
     "output_type": "execute_result"
    }
   ],
   "source": [
    "targets[['kepid','mass','feh']].count()"
   ]
  },
  {
   "cell_type": "code",
   "execution_count": 3,
   "metadata": {
    "collapsed": false
   },
   "outputs": [
    {
     "name": "stderr",
     "output_type": "stream",
     "text": [
      "/u/tdm/anaconda/lib/python2.7/site-packages/pandas/core/indexing.py:415: SettingWithCopyWarning: \n",
      "A value is trying to be set on a copy of a slice from a DataFrame.\n",
      "Try using .loc[row_indexer,col_indexer] = value instead\n",
      "\n",
      "See the the caveats in the documentation: http://pandas.pydata.org/pandas-docs/stable/indexing.html#indexing-view-versus-copy\n",
      "  self.obj[item] = s\n"
     ]
    }
   ],
   "source": [
    "# funny, there seem to be some missing masses.  Let's artificially add those in, with M=R\n",
    "bad = targets.mass.isnull()\n",
    "targets.loc[bad, 'mass'] = targets.loc[bad, 'radius']"
   ]
  },
  {
   "cell_type": "code",
   "execution_count": 30,
   "metadata": {
    "collapsed": false
   },
   "outputs": [
    {
     "name": "stderr",
     "output_type": "stream",
     "text": [
      "/u/tdm/anaconda/lib/python2.7/site-packages/pandas/io/pytables.py:2577: PerformanceWarning: \n",
      "your performance may suffer as PyTables will pickle object types that it cannot\n",
      "map directly to c-types [inferred_type->mixed,key->block2_values] [items->['tm_designation', 'prov_sec', 'datalink_dvr', 'st_delivname', 'st_vet_date_str', 'ra_str', 'dec_str', 'teff_prov', 'logg_prov', 'feh_prov']]\n",
      "\n",
      "  warnings.warn(ws, PerformanceWarning)\n"
     ]
    }
   ],
   "source": [
    "targets.to_hdf('targets.h5','df')"
   ]
  },
  {
   "cell_type": "code",
   "execution_count": 31,
   "metadata": {
    "collapsed": true
   },
   "outputs": [],
   "source": [
    "targets = pd.read_hdf('targets.h5', 'df')"
   ]
  },
  {
   "cell_type": "code",
   "execution_count": 4,
   "metadata": {
    "collapsed": false
   },
   "outputs": [
    {
     "name": "stderr",
     "output_type": "stream",
     "text": [
      "WARNING:root:progressbar not imported\n",
      "/u/tdm/anaconda/lib/python2.7/site-packages/pandas/core/indexing.py:249: SettingWithCopyWarning: \n",
      "A value is trying to be set on a copy of a slice from a DataFrame.\n",
      "Try using .loc[row_indexer,col_indexer] = value instead\n",
      "\n",
      "See the the caveats in the documentation: http://pandas.pydata.org/pandas-docs/stable/indexing.html#indexing-view-versus-copy\n",
      "  self.obj[key] = _infer_fill_value(value)\n"
     ]
    },
    {
     "data": {
      "text/plain": [
       "201"
      ]
     },
     "execution_count": 4,
     "metadata": {},
     "output_type": "execute_result"
    }
   ],
   "source": [
    "# Simulation a population of binary stars and observe them.\n",
    "\n",
    "from sims import BinaryPopulation\n",
    "ebs = BinaryPopulation(targets)\n",
    "obscols = ['period','d_pri','d_sec','T14_pri','T14_sec',\n",
    "             'b_pri','b_sec','k','n_pri','n_sec',\n",
    "            'radius_A','radius_B','flux_ratio', 'dutycycle']\n",
    "obs = ebs.observe(query='period > 5')[obscols]\n",
    "len(obs)"
   ]
  },
  {
   "cell_type": "markdown",
   "metadata": {},
   "source": [
    "OK, this is how many EBs we predict there to be with periods greater than 5 days.  How does this compare with the actual EB catalog?"
   ]
  },
  {
   "cell_type": "code",
   "execution_count": 5,
   "metadata": {
    "collapsed": false
   },
   "outputs": [
    {
     "data": {
      "text/plain": [
       "224.75436655536478"
      ]
     },
     "execution_count": 5,
     "metadata": {},
     "output_type": "execute_result"
    }
   ],
   "source": [
    "# Total number of Kepler EBs with P > 5, scaled by number of targets\n",
    "from __future__ import division\n",
    "len(EBCatalog().df.query('period>5')) * (len(targets)/len(KICatalog().df))"
   ]
  },
  {
   "cell_type": "markdown",
   "metadata": {},
   "source": [
    "OK, this is creepy-close.  But this is very encouraging.  Means we should be able to take seriously the results of this simulation.  What does it say about single/double eclipses (either only primary or only secondary)?"
   ]
  },
  {
   "cell_type": "code",
   "execution_count": 6,
   "metadata": {
    "collapsed": false
   },
   "outputs": [
    {
     "data": {
      "text/html": [
       "<div>\n",
       "<table border=\"1\" class=\"dataframe\">\n",
       "  <thead>\n",
       "    <tr style=\"text-align: right;\">\n",
       "      <th></th>\n",
       "      <th>period</th>\n",
       "      <th>d_pri</th>\n",
       "      <th>d_sec</th>\n",
       "      <th>T14_pri</th>\n",
       "      <th>T14_sec</th>\n",
       "      <th>b_pri</th>\n",
       "      <th>b_sec</th>\n",
       "      <th>k</th>\n",
       "      <th>n_pri</th>\n",
       "      <th>n_sec</th>\n",
       "      <th>radius_A</th>\n",
       "      <th>radius_B</th>\n",
       "      <th>flux_ratio</th>\n",
       "      <th>dutycycle</th>\n",
       "    </tr>\n",
       "  </thead>\n",
       "  <tbody>\n",
       "    <tr>\n",
       "      <th>11065</th>\n",
       "      <td>2725.835950</td>\n",
       "      <td>0.000000</td>\n",
       "      <td>0.023798</td>\n",
       "      <td>0.000000</td>\n",
       "      <td>0.102429</td>\n",
       "      <td>20.877285</td>\n",
       "      <td>0.644034</td>\n",
       "      <td>0.327732</td>\n",
       "      <td>0</td>\n",
       "      <td>1</td>\n",
       "      <td>0.616</td>\n",
       "      <td>0.201883</td>\n",
       "      <td>0.024378</td>\n",
       "      <td>0.8751</td>\n",
       "    </tr>\n",
       "    <tr>\n",
       "      <th>40861</th>\n",
       "      <td>2309.481266</td>\n",
       "      <td>0.000000</td>\n",
       "      <td>0.107174</td>\n",
       "      <td>0.000000</td>\n",
       "      <td>0.236587</td>\n",
       "      <td>15.332992</td>\n",
       "      <td>0.564515</td>\n",
       "      <td>0.856833</td>\n",
       "      <td>0</td>\n",
       "      <td>1</td>\n",
       "      <td>0.898</td>\n",
       "      <td>0.769436</td>\n",
       "      <td>0.167153</td>\n",
       "      <td>0.8751</td>\n",
       "    </tr>\n",
       "    <tr>\n",
       "      <th>64747</th>\n",
       "      <td>1098.309004</td>\n",
       "      <td>0.081113</td>\n",
       "      <td>0.000000</td>\n",
       "      <td>0.252707</td>\n",
       "      <td>0.000000</td>\n",
       "      <td>1.228755</td>\n",
       "      <td>10.394288</td>\n",
       "      <td>0.658635</td>\n",
       "      <td>1</td>\n",
       "      <td>0</td>\n",
       "      <td>1.127</td>\n",
       "      <td>0.742282</td>\n",
       "      <td>0.109136</td>\n",
       "      <td>0.6989</td>\n",
       "    </tr>\n",
       "    <tr>\n",
       "      <th>66447</th>\n",
       "      <td>751.577729</td>\n",
       "      <td>0.000000</td>\n",
       "      <td>0.047757</td>\n",
       "      <td>0.000000</td>\n",
       "      <td>0.121635</td>\n",
       "      <td>10.318855</td>\n",
       "      <td>0.423898</td>\n",
       "      <td>0.466985</td>\n",
       "      <td>0</td>\n",
       "      <td>2</td>\n",
       "      <td>0.911</td>\n",
       "      <td>0.425423</td>\n",
       "      <td>0.050152</td>\n",
       "      <td>0.8751</td>\n",
       "    </tr>\n",
       "    <tr>\n",
       "      <th>86833</th>\n",
       "      <td>2041.557141</td>\n",
       "      <td>0.097466</td>\n",
       "      <td>0.046983</td>\n",
       "      <td>0.851577</td>\n",
       "      <td>0.851577</td>\n",
       "      <td>1.463392</td>\n",
       "      <td>1.463392</td>\n",
       "      <td>0.992367</td>\n",
       "      <td>1</td>\n",
       "      <td>0</td>\n",
       "      <td>0.773</td>\n",
       "      <td>0.767099</td>\n",
       "      <td>0.474118</td>\n",
       "      <td>0.8751</td>\n",
       "    </tr>\n",
       "    <tr>\n",
       "      <th>132029</th>\n",
       "      <td>1024.360507</td>\n",
       "      <td>0.227591</td>\n",
       "      <td>0.000000</td>\n",
       "      <td>0.115892</td>\n",
       "      <td>0.000000</td>\n",
       "      <td>0.994415</td>\n",
       "      <td>49.822940</td>\n",
       "      <td>0.987206</td>\n",
       "      <td>1</td>\n",
       "      <td>0</td>\n",
       "      <td>0.722</td>\n",
       "      <td>0.712763</td>\n",
       "      <td>0.721112</td>\n",
       "      <td>0.8752</td>\n",
       "    </tr>\n",
       "  </tbody>\n",
       "</table>\n",
       "</div>"
      ],
      "text/plain": [
       "             period     d_pri     d_sec   T14_pri   T14_sec      b_pri  \\\n",
       "11065   2725.835950  0.000000  0.023798  0.000000  0.102429  20.877285   \n",
       "40861   2309.481266  0.000000  0.107174  0.000000  0.236587  15.332992   \n",
       "64747   1098.309004  0.081113  0.000000  0.252707  0.000000   1.228755   \n",
       "66447    751.577729  0.000000  0.047757  0.000000  0.121635  10.318855   \n",
       "86833   2041.557141  0.097466  0.046983  0.851577  0.851577   1.463392   \n",
       "132029  1024.360507  0.227591  0.000000  0.115892  0.000000   0.994415   \n",
       "\n",
       "            b_sec         k  n_pri  n_sec  radius_A  radius_B  flux_ratio  \\\n",
       "11065    0.644034  0.327732      0      1     0.616  0.201883    0.024378   \n",
       "40861    0.564515  0.856833      0      1     0.898  0.769436    0.167153   \n",
       "64747   10.394288  0.658635      1      0     1.127  0.742282    0.109136   \n",
       "66447    0.423898  0.466985      0      2     0.911  0.425423    0.050152   \n",
       "86833    1.463392  0.992367      1      0     0.773  0.767099    0.474118   \n",
       "132029  49.822940  0.987206      1      0     0.722  0.712763    0.721112   \n",
       "\n",
       "        dutycycle  \n",
       "11065      0.8751  \n",
       "40861      0.8751  \n",
       "64747      0.6989  \n",
       "66447      0.8751  \n",
       "86833      0.8751  \n",
       "132029     0.8752  "
      ]
     },
     "execution_count": 6,
     "metadata": {},
     "output_type": "execute_result"
    }
   ],
   "source": [
    "dfm_query = '((n_pri + n_sec) < 3) and (n_pri==0 or n_sec==0)'\n",
    "candidates = obs.query(dfm_query)\n",
    "candidates"
   ]
  },
  {
   "cell_type": "markdown",
   "metadata": {},
   "source": [
    "Let's look at the depth vs. duration for these signals."
   ]
  },
  {
   "cell_type": "code",
   "execution_count": 7,
   "metadata": {
    "collapsed": false
   },
   "outputs": [
    {
     "data": {
      "text/plain": [
       "<matplotlib.text.Text at 0x7f9473be8910>"
      ]
     },
     "execution_count": 7,
     "metadata": {},
     "output_type": "execute_result"
    },
    {
     "data": {
      "image/png": "[encoded data removed]",
      "text/plain": [
       "<matplotlib.figure.Figure at 0x7f9468ed1f10>"
      ]
     },
     "metadata": {},
     "output_type": "display_data"
    }
   ],
   "source": [
    "%matplotlib inline\n",
    "import matplotlib.pyplot as plt\n",
    "\n",
    "pri = candidates.n_pri > 0\n",
    "sec = candidates.n_sec > 0\n",
    "\n",
    "depth = pri*candidates.d_pri + sec*candidates.d_sec\n",
    "duration = pri*candidates.T14_pri + sec*candidates.T14_sec\n",
    "\n",
    "plt.plot(duration, np.log10(depth), 'x', ms=10);\n",
    "plt.xlabel('Duration [days]')\n",
    "plt.ylabel('log10(depth)')"
   ]
  },
  {
   "cell_type": "markdown",
   "metadata": {},
   "source": [
    "OK, so that's for unblended EBs.  What about background EBs?  We can pretty fairly ignore hierarchical systems at these long periods, I think.\n",
    "\n",
    "OK, for the BG population, we need to probabilistically populate each target star with background stars.  This background star probability can be taken from Morton & Johnson (2011).  \n",
    "\n",
    "$$P_{BG} = C(m_{Kp}) + A(m_{Kp}) e^{-b/B(m_{Kp})}$$\n",
    "\n",
    "where $A$, $B$, and $C$ are all polynomial functions of Kepler mag"
   ]
  },
  {
   "cell_type": "code",
   "execution_count": 8,
   "metadata": {
    "collapsed": true
   },
   "outputs": [],
   "source": [
    "pA = [-2.5038e-3, 0.12912, -2.4273, 19.980, -60.931]\n",
    "pB = [3.0668e-3, -0.15902, 3.0365, -25.320, 82.605]\n",
    "pC = [-1.5465e-5, 7.5396e-4, -1.2836e-2, 9.6434e-2, -0.27166]\n",
    "\n",
    "def Pbg(Kp, b, r=4):\n",
    "    \"\"\"Expected number of BG stars within r\", in magnitude range (Kp, Kp + 10)\n",
    "    \"\"\"\n",
    "    if Kp < 11:\n",
    "        Kp = 11\n",
    "    if Kp > 16:\n",
    "        Kp = 16\n",
    "    return (r/2)**2*(np.polyval(pC, Kp) + \n",
    "                     np.polyval(pA, Kp)*np.exp(-b/np.polyval(pB, Kp)))"
   ]
  },
  {
   "cell_type": "markdown",
   "metadata": {},
   "source": [
    "OK, so then let's create a new background \"target\" star population.  For each star in the target list, give it some BG stars."
   ]
  },
  {
   "cell_type": "code",
   "execution_count": 9,
   "metadata": {
    "collapsed": false
   },
   "outputs": [],
   "source": [
    "from astropy.coordinates import SkyCoord\n",
    "import pandas as pd\n",
    "from scipy.stats import poisson\n",
    "from astropy import constants as const\n",
    "\n",
    "G = const.G.cgs.value\n",
    "MSUN = const.M_sun.cgs.value\n",
    "RSUN = const.R_sun.cgs.value\n",
    "\n",
    "from vespa.stars.populations import BGStarPopulation_TRILEGAL\n",
    "\n",
    "ra, dec = 290.665452, 44.484019 #Center of Kepler field\n",
    "bgpop = BGStarPopulation_TRILEGAL('mod13_bg.h5',ra=ra, dec=dec)\n",
    "\n",
    "def generate_bg_targets(bg):\n",
    "\n",
    "    c = SkyCoord(targets.ra, targets.dec, unit='deg')\n",
    "    bs = c.galactic.b.deg\n",
    "\n",
    "    dataspan = []\n",
    "    dutycycle = []\n",
    "    mass_A = []\n",
    "    radius_A = []\n",
    "    age = []\n",
    "    feh = []\n",
    "    kepmag_target = []\n",
    "    kepmag_A = []\n",
    "    index = []\n",
    "    for (ix, s), b in zip(targets.iterrows(), bs):\n",
    "        n = poisson(Pbg(s.kepmag, b)).rvs()\n",
    "        for i in range(n):\n",
    "            bg_star = bg.stars.ix[np.random.randint(len(bg.stars))]\n",
    "            Kp = s.kepmag\n",
    "            while not ((bg_star.Kepler_mag > Kp) and \n",
    "                       (bg_star.Kepler_mag < Kp+10)):\n",
    "                bg_star = bg.stars.ix[np.random.randint(len(bg.stars))]\n",
    "            mass = bg_star.Mact\n",
    "            radius = np.sqrt(G * mass * MSUN / 10**bg_star.logg)/RSUN\n",
    "            dataspan.append(s.dataspan)\n",
    "            dutycycle.append(s.dutycycle)\n",
    "            mass_A.append(mass)\n",
    "            radius_A.append(radius)\n",
    "            kepmag_target.append(s.kepmag)\n",
    "            kepmag_A.append(bg_star.Kepler_mag)\n",
    "            age.append(bg_star.logAge)\n",
    "            feh.append(bg_star['[M/H]'])\n",
    "            index.append(ix)\n",
    "\n",
    "    bg_targets = pd.DataFrame({'dataspan':dataspan,\n",
    "                              'dutycycle':dutycycle,\n",
    "                              'mass_A':mass_A,\n",
    "                              'radius_A':radius_A,\n",
    "                               'age':age,\n",
    "                               'feh':feh,\n",
    "                               'kepmag_target':kepmag_target,\n",
    "                               'kepmag_A':kepmag_A}, index=index)\n",
    "    return bg_targets\n",
    "\n",
    "bg_targets = generate_bg_targets(bgpop)\n",
    "bg_targets.to_hdf('bg_targets.h5', 'df')\n",
    "bg_targets = pd.read_hdf('bg_targets.h5', 'df')"
   ]
  },
  {
   "cell_type": "code",
   "execution_count": 10,
   "metadata": {
    "collapsed": false
   },
   "outputs": [
    {
     "data": {
      "text/plain": [
       "22770"
      ]
     },
     "execution_count": 10,
     "metadata": {},
     "output_type": "execute_result"
    }
   ],
   "source": [
    "len(bg_targets)"
   ]
  },
  {
   "cell_type": "code",
   "execution_count": 11,
   "metadata": {
    "collapsed": false
   },
   "outputs": [],
   "source": [
    "from sims import BG_BinaryPopulation\n",
    "bgs = BG_BinaryPopulation(bg_targets)"
   ]
  },
  {
   "cell_type": "code",
   "execution_count": 12,
   "metadata": {
    "collapsed": false
   },
   "outputs": [
    {
     "data": {
      "text/plain": [
       "58"
      ]
     },
     "execution_count": 12,
     "metadata": {},
     "output_type": "execute_result"
    }
   ],
   "source": [
    "bg_obs = bgs.observe(query='period > 5')\n",
    "len(bg_obs)"
   ]
  },
  {
   "cell_type": "code",
   "execution_count": 13,
   "metadata": {
    "collapsed": false
   },
   "outputs": [
    {
     "data": {
      "text/html": [
       "<div>\n",
       "<table border=\"1\" class=\"dataframe\">\n",
       "  <thead>\n",
       "    <tr style=\"text-align: right;\">\n",
       "      <th></th>\n",
       "      <th>period</th>\n",
       "      <th>d_pri</th>\n",
       "      <th>d_sec</th>\n",
       "      <th>T14_pri</th>\n",
       "      <th>T14_sec</th>\n",
       "      <th>b_pri</th>\n",
       "      <th>b_sec</th>\n",
       "      <th>k</th>\n",
       "      <th>n_pri</th>\n",
       "      <th>n_sec</th>\n",
       "      <th>radius_A</th>\n",
       "      <th>radius_B</th>\n",
       "      <th>flux_ratio</th>\n",
       "      <th>dutycycle</th>\n",
       "    </tr>\n",
       "  </thead>\n",
       "  <tbody>\n",
       "    <tr>\n",
       "      <th>91817</th>\n",
       "      <td>3715.869917</td>\n",
       "      <td>0.002701</td>\n",
       "      <td>0.000971</td>\n",
       "      <td>0.170548</td>\n",
       "      <td>0.762142</td>\n",
       "      <td>0.045578</td>\n",
       "      <td>0.204931</td>\n",
       "      <td>0.809441</td>\n",
       "      <td>1</td>\n",
       "      <td>0</td>\n",
       "      <td>0.560899</td>\n",
       "      <td>0.454014</td>\n",
       "      <td>0.261950</td>\n",
       "      <td>0.8753</td>\n",
       "    </tr>\n",
       "    <tr>\n",
       "      <th>133688</th>\n",
       "      <td>675.090038</td>\n",
       "      <td>0.000000</td>\n",
       "      <td>0.000087</td>\n",
       "      <td>0.000000</td>\n",
       "      <td>0.096168</td>\n",
       "      <td>2.748664</td>\n",
       "      <td>0.270954</td>\n",
       "      <td>1.000000</td>\n",
       "      <td>0</td>\n",
       "      <td>2</td>\n",
       "      <td>0.429373</td>\n",
       "      <td>0.429373</td>\n",
       "      <td>0.774936</td>\n",
       "      <td>0.8751</td>\n",
       "    </tr>\n",
       "    <tr>\n",
       "      <th>194508</th>\n",
       "      <td>2432.795168</td>\n",
       "      <td>0.000000</td>\n",
       "      <td>0.000011</td>\n",
       "      <td>0.000000</td>\n",
       "      <td>0.083732</td>\n",
       "      <td>22.703404</td>\n",
       "      <td>0.477178</td>\n",
       "      <td>0.454831</td>\n",
       "      <td>0</td>\n",
       "      <td>1</td>\n",
       "      <td>0.414388</td>\n",
       "      <td>0.188476</td>\n",
       "      <td>0.088722</td>\n",
       "      <td>0.8751</td>\n",
       "    </tr>\n",
       "  </tbody>\n",
       "</table>\n",
       "</div>"
      ],
      "text/plain": [
       "             period     d_pri     d_sec   T14_pri   T14_sec      b_pri  \\\n",
       "91817   3715.869917  0.002701  0.000971  0.170548  0.762142   0.045578   \n",
       "133688   675.090038  0.000000  0.000087  0.000000  0.096168   2.748664   \n",
       "194508  2432.795168  0.000000  0.000011  0.000000  0.083732  22.703404   \n",
       "\n",
       "           b_sec         k  n_pri  n_sec  radius_A  radius_B  flux_ratio  \\\n",
       "91817   0.204931  0.809441      1      0  0.560899  0.454014    0.261950   \n",
       "133688  0.270954  1.000000      0      2  0.429373  0.429373    0.774936   \n",
       "194508  0.477178  0.454831      0      1  0.414388  0.188476    0.088722   \n",
       "\n",
       "        dutycycle  \n",
       "91817      0.8753  \n",
       "133688     0.8751  \n",
       "194508     0.8751  "
      ]
     },
     "execution_count": 13,
     "metadata": {},
     "output_type": "execute_result"
    }
   ],
   "source": [
    "bg_obs.query(dfm_query)[obscols]"
   ]
  },
  {
   "cell_type": "markdown",
   "metadata": {},
   "source": [
    "This is a smaller number than the EBs, for several reasons.  Fewer target stars and smaller radii (lower transit probability) explain it all."
   ]
  },
  {
   "cell_type": "code",
   "execution_count": 21,
   "metadata": {
    "collapsed": false
   },
   "outputs": [
    {
     "data": {
      "text/plain": [
       "0.56807452903595945"
      ]
     },
     "execution_count": 21,
     "metadata": {},
     "output_type": "execute_result"
    }
   ],
   "source": [
    "ok = bgs.radius_B > 0\n",
    "np.median(bgs.radius_A[ok] + bgs.radius_B[ok])"
   ]
  },
  {
   "cell_type": "code",
   "execution_count": 22,
   "metadata": {
    "collapsed": false
   },
   "outputs": [
    {
     "data": {
      "text/plain": [
       "1.3747374721977597"
      ]
     },
     "execution_count": 22,
     "metadata": {},
     "output_type": "execute_result"
    }
   ],
   "source": [
    "ok = ebs.radius_B > 0\n",
    "np.median(ebs.radius_A[ok] + ebs.radius_B[ok])"
   ]
  },
  {
   "cell_type": "code",
   "execution_count": 23,
   "metadata": {
    "collapsed": false
   },
   "outputs": [
    {
     "data": {
      "text/plain": [
       "39626"
      ]
     },
     "execution_count": 23,
     "metadata": {},
     "output_type": "execute_result"
    }
   ],
   "source": [
    "len(targets)"
   ]
  },
  {
   "cell_type": "code",
   "execution_count": 25,
   "metadata": {
    "collapsed": false
   },
   "outputs": [
    {
     "data": {
      "text/plain": [
       "53.40857013072225"
      ]
     },
     "execution_count": 25,
     "metadata": {},
     "output_type": "execute_result"
    }
   ],
   "source": [
    "22770./39626 * (0.568/1.375) * 225"
   ]
  },
  {
   "cell_type": "markdown",
   "metadata": {},
   "source": [
    "OK, now let's write scripts to generate lots of these observed single-transit catalogs, to get some averages."
   ]
  },
  {
   "cell_type": "code",
   "execution_count": 27,
   "metadata": {
    "collapsed": false
   },
   "outputs": [],
   "source": [
    "from peerless.settings import PEERLESS_DATA_DIR"
   ]
  },
  {
   "cell_type": "code",
   "execution_count": 28,
   "metadata": {
    "collapsed": false
   },
   "outputs": [
    {
     "data": {
      "text/plain": [
       "'/u/tdm/peerless'"
      ]
     },
     "execution_count": 28,
     "metadata": {},
     "output_type": "execute_result"
    }
   ],
   "source": [
    "PEERLESS_DATA_DIR"
   ]
  },
  {
   "cell_type": "code",
   "execution_count": 29,
   "metadata": {
    "collapsed": false
   },
   "outputs": [
    {
     "name": "stdout",
     "output_type": "stream",
     "text": [
      "\u001b[0m\u001b[01;34mcatalogs\u001b[0m/\r\n",
      "\u001b[m"
     ]
    }
   ],
   "source": [
    "ls /u/tdm/peerless"
   ]
  },
  {
   "cell_type": "code",
   "execution_count": null,
   "metadata": {
    "collapsed": true
   },
   "outputs": [],
   "source": []
  }
 ],
 "metadata": {
  "kernelspec": {
   "display_name": "Python 2",
   "language": "python",
   "name": "python2"
  },
  "language_info": {
   "codemirror_mode": {
    "name": "ipython",
    "version": 2
   },
   "file_extension": ".py",
   "mimetype": "text/x-python",
   "name": "python",
   "nbconvert_exporter": "python",
   "pygments_lexer": "ipython2",
   "version": "2.7.10"
  }
 },
 "nbformat": 4,
 "nbformat_minor": 0
}
