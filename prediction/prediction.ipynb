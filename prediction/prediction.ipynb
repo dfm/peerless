{
 "cells": [
  {
   "cell_type": "code",
   "execution_count": 1,
   "metadata": {
    "collapsed": false
   },
   "outputs": [],
   "source": [
    "# Get target list; this follows the selection in ../document/figures/targets.py \n",
    "import sys\n",
    "sys.path.append('..')\n",
    "\n",
    "from peerless.catalogs import KICatalog, KOICatalog, EBCatalog, BlacklistCatalog\n",
    "import numpy as np\n",
    "\n",
    "stlr = KICatalog().df\n",
    "m = (4200 <= stlr.teff) & (stlr.teff <= 6100)\n",
    "m &= stlr.radius <= 1.15\n",
    "m &= stlr.dataspan > 365.25*2.\n",
    "m &= stlr.dutycycle > 0.6\n",
    "m &= stlr.rrmscdpp07p5 <= 1000.\n",
    "m &= stlr.kepmag < 15.\n",
    "\n",
    "# known EBs\n",
    "ebs = set(np.array(EBCatalog().df[\"#KIC\"]))\n",
    "\n",
    "# KOI false positives\n",
    "kois = KOICatalog().df\n",
    "kois = kois[kois.koi_disposition == \"FALSE POSITIVE\"]\n",
    "fps = set(np.array(kois.kepid))\n",
    "\n",
    "# And then finally the blacklist.\n",
    "bl = set(np.array(BlacklistCatalog().df.kicid))\n",
    "\n",
    "# The full list of ignores.\n",
    "ignore = fps | bl #ebs | fps | bl  #Don't ignore EBs for purposes of prediction\n",
    "m &= ~stlr.kepid.isin(ignore)\n",
    "\n",
    "targets = stlr[m]"
   ]
  },
  {
   "cell_type": "code",
   "execution_count": 2,
   "metadata": {
    "collapsed": false
   },
   "outputs": [
    {
     "data": {
      "text/plain": [
       "kepid    39626\n",
       "mass     38983\n",
       "feh      39626\n",
       "dtype: int64"
      ]
     },
     "execution_count": 2,
     "metadata": {},
     "output_type": "execute_result"
    }
   ],
   "source": [
    "targets[['kepid','mass','feh']].count()"
   ]
  },
  {
   "cell_type": "code",
   "execution_count": 3,
   "metadata": {
    "collapsed": false
   },
   "outputs": [
    {
     "name": "stderr",
     "output_type": "stream",
     "text": [
      "/u/tdm/anaconda/lib/python2.7/site-packages/pandas/core/indexing.py:415: SettingWithCopyWarning: \n",
      "A value is trying to be set on a copy of a slice from a DataFrame.\n",
      "Try using .loc[row_indexer,col_indexer] = value instead\n",
      "\n",
      "See the the caveats in the documentation: http://pandas.pydata.org/pandas-docs/stable/indexing.html#indexing-view-versus-copy\n",
      "  self.obj[item] = s\n"
     ]
    }
   ],
   "source": [
    "# funny, there seem to be some missing masses.  Let's artificially add those in, with M=R\n",
    "bad = targets.mass.isnull()\n",
    "targets.loc[bad, 'mass'] = targets.loc[bad, 'radius']"
   ]
  },
  {
   "cell_type": "code",
   "execution_count": 4,
   "metadata": {
    "collapsed": false
   },
   "outputs": [
    {
     "name": "stderr",
     "output_type": "stream",
     "text": [
      "WARNING:root:progressbar not imported\n",
      "/u/tdm/anaconda/lib/python2.7/site-packages/pandas/core/indexing.py:249: SettingWithCopyWarning: \n",
      "A value is trying to be set on a copy of a slice from a DataFrame.\n",
      "Try using .loc[row_indexer,col_indexer] = value instead\n",
      "\n",
      "See the the caveats in the documentation: http://pandas.pydata.org/pandas-docs/stable/indexing.html#indexing-view-versus-copy\n",
      "  self.obj[key] = _infer_fill_value(value)\n"
     ]
    },
    {
     "data": {
      "text/plain": [
       "217"
      ]
     },
     "execution_count": 4,
     "metadata": {},
     "output_type": "execute_result"
    }
   ],
   "source": [
    "# Simulation a population of binary stars and observe them.\n",
    "\n",
    "from sims import BinaryPopulation\n",
    "ebs = BinaryPopulation(targets)\n",
    "obs = ebs.observe(query='period > 5')[['period','d_pri','d_sec','T14_pri','T14_sec',\n",
    "                                                             'b_pri','b_sec','k','n_pri','n_sec',\n",
    "                                                                   'radius_A','radius_B','flux_ratio',\n",
    "                                        'dutycycle']]\n",
    "len(obs)"
   ]
  },
  {
   "cell_type": "markdown",
   "metadata": {},
   "source": [
    "OK, this is how many EBs we predict there to be with periods greater than 5 days.  How does this compare with the actual EB catalog?"
   ]
  },
  {
   "cell_type": "code",
   "execution_count": 9,
   "metadata": {
    "collapsed": false
   },
   "outputs": [
    {
     "data": {
      "text/plain": [
       "224.75436655536478"
      ]
     },
     "execution_count": 9,
     "metadata": {},
     "output_type": "execute_result"
    }
   ],
   "source": [
    "# Total number of Kepler EBs with P > 5, scaled by number of targets\n",
    "from __future__ import division\n",
    "len(EBCatalog().df.query('period>5')) * (len(targets)/len(KICatalog().df))"
   ]
  },
  {
   "cell_type": "markdown",
   "metadata": {},
   "source": [
    "OK, this is creepy-close.  But this is very encouraging.  Means we should be able to take seriously the results of this simulation.  What does it say about single/double eclipses (either only primary or only secondary)?"
   ]
  },
  {
   "cell_type": "code",
   "execution_count": 6,
   "metadata": {
    "collapsed": false
   },
   "outputs": [
    {
     "data": {
      "text/html": [
       "<div>\n",
       "<table border=\"1\" class=\"dataframe\">\n",
       "  <thead>\n",
       "    <tr style=\"text-align: right;\">\n",
       "      <th></th>\n",
       "      <th>period</th>\n",
       "      <th>d_pri</th>\n",
       "      <th>d_sec</th>\n",
       "      <th>T14_pri</th>\n",
       "      <th>T14_sec</th>\n",
       "      <th>b_pri</th>\n",
       "      <th>b_sec</th>\n",
       "      <th>k</th>\n",
       "      <th>n_pri</th>\n",
       "      <th>n_sec</th>\n",
       "      <th>radius_A</th>\n",
       "      <th>radius_B</th>\n",
       "      <th>flux_ratio</th>\n",
       "      <th>dutycycle</th>\n",
       "    </tr>\n",
       "  </thead>\n",
       "  <tbody>\n",
       "    <tr>\n",
       "      <th>4275</th>\n",
       "      <td>1002.011194</td>\n",
       "      <td>0.000000</td>\n",
       "      <td>0.103874</td>\n",
       "      <td>0.000000</td>\n",
       "      <td>0.241317</td>\n",
       "      <td>10.570425</td>\n",
       "      <td>1.025644</td>\n",
       "      <td>0.688012</td>\n",
       "      <td>0</td>\n",
       "      <td>1</td>\n",
       "      <td>0.886</td>\n",
       "      <td>0.609578</td>\n",
       "      <td>0.343562</td>\n",
       "      <td>0.6989</td>\n",
       "    </tr>\n",
       "    <tr>\n",
       "      <th>13215</th>\n",
       "      <td>620.308117</td>\n",
       "      <td>0.000000</td>\n",
       "      <td>0.077289</td>\n",
       "      <td>0.000000</td>\n",
       "      <td>0.112696</td>\n",
       "      <td>20.046438</td>\n",
       "      <td>1.210222</td>\n",
       "      <td>0.863486</td>\n",
       "      <td>0</td>\n",
       "      <td>2</td>\n",
       "      <td>0.958</td>\n",
       "      <td>0.827219</td>\n",
       "      <td>0.408770</td>\n",
       "      <td>0.8750</td>\n",
       "    </tr>\n",
       "    <tr>\n",
       "      <th>16691</th>\n",
       "      <td>4787.278353</td>\n",
       "      <td>0.446244</td>\n",
       "      <td>0.100880</td>\n",
       "      <td>1.512231</td>\n",
       "      <td>1.604964</td>\n",
       "      <td>0.543839</td>\n",
       "      <td>0.581393</td>\n",
       "      <td>0.796694</td>\n",
       "      <td>0</td>\n",
       "      <td>1</td>\n",
       "      <td>0.881</td>\n",
       "      <td>0.701887</td>\n",
       "      <td>0.151157</td>\n",
       "      <td>0.6988</td>\n",
       "    </tr>\n",
       "    <tr>\n",
       "      <th>65781</th>\n",
       "      <td>1350.237797</td>\n",
       "      <td>0.000000</td>\n",
       "      <td>0.387652</td>\n",
       "      <td>0.000000</td>\n",
       "      <td>0.462423</td>\n",
       "      <td>2.369126</td>\n",
       "      <td>0.382477</td>\n",
       "      <td>1.000000</td>\n",
       "      <td>0</td>\n",
       "      <td>1</td>\n",
       "      <td>0.916</td>\n",
       "      <td>0.916000</td>\n",
       "      <td>0.954337</td>\n",
       "      <td>0.8752</td>\n",
       "    </tr>\n",
       "    <tr>\n",
       "      <th>72111</th>\n",
       "      <td>1557.348509</td>\n",
       "      <td>0.294107</td>\n",
       "      <td>0.130596</td>\n",
       "      <td>0.916945</td>\n",
       "      <td>0.930755</td>\n",
       "      <td>0.742573</td>\n",
       "      <td>0.756988</td>\n",
       "      <td>0.757564</td>\n",
       "      <td>0</td>\n",
       "      <td>1</td>\n",
       "      <td>0.914</td>\n",
       "      <td>0.692413</td>\n",
       "      <td>0.257859</td>\n",
       "      <td>0.6989</td>\n",
       "    </tr>\n",
       "    <tr>\n",
       "      <th>76477</th>\n",
       "      <td>2593.700323</td>\n",
       "      <td>0.300404</td>\n",
       "      <td>0.031946</td>\n",
       "      <td>0.971452</td>\n",
       "      <td>1.458108</td>\n",
       "      <td>0.559297</td>\n",
       "      <td>1.038411</td>\n",
       "      <td>0.588197</td>\n",
       "      <td>0</td>\n",
       "      <td>1</td>\n",
       "      <td>0.978</td>\n",
       "      <td>0.575257</td>\n",
       "      <td>0.087313</td>\n",
       "      <td>0.6988</td>\n",
       "    </tr>\n",
       "    <tr>\n",
       "      <th>98500</th>\n",
       "      <td>865.573230</td>\n",
       "      <td>0.000000</td>\n",
       "      <td>0.198378</td>\n",
       "      <td>0.561032</td>\n",
       "      <td>0.621218</td>\n",
       "      <td>1.698241</td>\n",
       "      <td>0.938492</td>\n",
       "      <td>0.883753</td>\n",
       "      <td>0</td>\n",
       "      <td>1</td>\n",
       "      <td>0.867</td>\n",
       "      <td>0.766214</td>\n",
       "      <td>0.775737</td>\n",
       "      <td>0.8744</td>\n",
       "    </tr>\n",
       "    <tr>\n",
       "      <th>118317</th>\n",
       "      <td>571.181697</td>\n",
       "      <td>0.407305</td>\n",
       "      <td>0.000000</td>\n",
       "      <td>0.212031</td>\n",
       "      <td>0.000000</td>\n",
       "      <td>0.535221</td>\n",
       "      <td>8.500014</td>\n",
       "      <td>0.952129</td>\n",
       "      <td>2</td>\n",
       "      <td>0</td>\n",
       "      <td>0.886</td>\n",
       "      <td>0.843587</td>\n",
       "      <td>0.607486</td>\n",
       "      <td>0.8750</td>\n",
       "    </tr>\n",
       "    <tr>\n",
       "      <th>122685</th>\n",
       "      <td>1313.712398</td>\n",
       "      <td>0.085964</td>\n",
       "      <td>0.000000</td>\n",
       "      <td>0.212197</td>\n",
       "      <td>0.000000</td>\n",
       "      <td>0.711073</td>\n",
       "      <td>2.195621</td>\n",
       "      <td>0.295115</td>\n",
       "      <td>2</td>\n",
       "      <td>0</td>\n",
       "      <td>0.770</td>\n",
       "      <td>0.227239</td>\n",
       "      <td>0.005817</td>\n",
       "      <td>0.8753</td>\n",
       "    </tr>\n",
       "  </tbody>\n",
       "</table>\n",
       "</div>"
      ],
      "text/plain": [
       "             period     d_pri     d_sec   T14_pri   T14_sec      b_pri  \\\n",
       "4275    1002.011194  0.000000  0.103874  0.000000  0.241317  10.570425   \n",
       "13215    620.308117  0.000000  0.077289  0.000000  0.112696  20.046438   \n",
       "16691   4787.278353  0.446244  0.100880  1.512231  1.604964   0.543839   \n",
       "65781   1350.237797  0.000000  0.387652  0.000000  0.462423   2.369126   \n",
       "72111   1557.348509  0.294107  0.130596  0.916945  0.930755   0.742573   \n",
       "76477   2593.700323  0.300404  0.031946  0.971452  1.458108   0.559297   \n",
       "98500    865.573230  0.000000  0.198378  0.561032  0.621218   1.698241   \n",
       "118317   571.181697  0.407305  0.000000  0.212031  0.000000   0.535221   \n",
       "122685  1313.712398  0.085964  0.000000  0.212197  0.000000   0.711073   \n",
       "\n",
       "           b_sec         k  n_pri  n_sec  radius_A  radius_B  flux_ratio  \\\n",
       "4275    1.025644  0.688012      0      1     0.886  0.609578    0.343562   \n",
       "13215   1.210222  0.863486      0      2     0.958  0.827219    0.408770   \n",
       "16691   0.581393  0.796694      0      1     0.881  0.701887    0.151157   \n",
       "65781   0.382477  1.000000      0      1     0.916  0.916000    0.954337   \n",
       "72111   0.756988  0.757564      0      1     0.914  0.692413    0.257859   \n",
       "76477   1.038411  0.588197      0      1     0.978  0.575257    0.087313   \n",
       "98500   0.938492  0.883753      0      1     0.867  0.766214    0.775737   \n",
       "118317  8.500014  0.952129      2      0     0.886  0.843587    0.607486   \n",
       "122685  2.195621  0.295115      2      0     0.770  0.227239    0.005817   \n",
       "\n",
       "        dutycycle  \n",
       "4275       0.6989  \n",
       "13215      0.8750  \n",
       "16691      0.6988  \n",
       "65781      0.8752  \n",
       "72111      0.6989  \n",
       "76477      0.6988  \n",
       "98500      0.8744  \n",
       "118317     0.8750  \n",
       "122685     0.8753  "
      ]
     },
     "execution_count": 6,
     "metadata": {},
     "output_type": "execute_result"
    }
   ],
   "source": [
    "candidates = obs.query('((n_pri + n_sec) < 3) and (n_pri==0 or n_sec==0)')\n",
    "candidates"
   ]
  },
  {
   "cell_type": "markdown",
   "metadata": {},
   "source": [
    "Let's look at the depth vs. duration for these signals."
   ]
  },
  {
   "cell_type": "code",
   "execution_count": 11,
   "metadata": {
    "collapsed": false
   },
   "outputs": [
    {
     "data": {
      "text/plain": [
       "<matplotlib.text.Text at 0x7f54e1259550>"
      ]
     },
     "execution_count": 11,
     "metadata": {},
     "output_type": "execute_result"
    },
    {
     "data": {
      "image/png": "[encoded data removed]",
      "text/plain": [
       "<matplotlib.figure.Figure at 0x7f54e12b2090>"
      ]
     },
     "metadata": {},
     "output_type": "display_data"
    }
   ],
   "source": [
    "%matplotlib inline\n",
    "import matplotlib.pyplot as plt\n",
    "\n",
    "pri = candidates.n_pri > 0\n",
    "sec = candidates.n_sec > 0\n",
    "\n",
    "depth = pri*candidates.d_pri + sec*candidates.d_sec\n",
    "duration = pri*candidates.T14_pri + sec*candidates.T14_sec\n",
    "\n",
    "plt.plot(duration, np.log10(depth), 'x', ms=10);\n",
    "plt.xlabel('Duration [days]')\n",
    "plt.ylabel('log10(depth)')"
   ]
  },
  {
   "cell_type": "code",
   "execution_count": null,
   "metadata": {
    "collapsed": true
   },
   "outputs": [],
   "source": []
  }
 ],
 "metadata": {
  "kernelspec": {
   "display_name": "Python 2",
   "language": "python",
   "name": "python2"
  },
  "language_info": {
   "codemirror_mode": {
    "name": "ipython",
    "version": 2
   },
   "file_extension": ".py",
   "mimetype": "text/x-python",
   "name": "python",
   "nbconvert_exporter": "python",
   "pygments_lexer": "ipython2",
   "version": "2.7.10"
  }
 },
 "nbformat": 4,
 "nbformat_minor": 0
}
