{
 "cells": [
  {
   "cell_type": "markdown",
   "metadata": {},
   "source": [
    "The following analysis was executed using commit `b6e4fe952` of the [exosyspop](github.com/timothydmorton/exosyspop) module."
   ]
  },
  {
   "cell_type": "code",
   "execution_count": 1,
   "metadata": {
    "collapsed": false,
    "scrolled": true
   },
   "outputs": [],
   "source": [
    "# Set up plot stuff the DFM way:\n",
    "%matplotlib inline\n",
    "import matplotlib.pyplot as plt\n",
    "\n",
    "%run ../peerless/plot_setup.py"
   ]
  },
  {
   "cell_type": "code",
   "execution_count": 76,
   "metadata": {
    "collapsed": false
   },
   "outputs": [
    {
     "name": "stdout",
     "output_type": "stream",
     "text": [
      "Saving 39036 targets to /Users/tdm/peerless/catalogs/targets.csv\r\n"
     ]
    }
   ],
   "source": [
    "!../scripts/peerless-targets"
   ]
  },
  {
   "cell_type": "code",
   "execution_count": 79,
   "metadata": {
    "collapsed": true
   },
   "outputs": [],
   "source": [
    "from peerless.catalogs import TargetCatalog, EBCatalog\n",
    "targets = TargetCatalog().df"
   ]
  },
  {
   "cell_type": "code",
   "execution_count": 80,
   "metadata": {
    "collapsed": false
   },
   "outputs": [
    {
     "data": {
      "text/plain": [
       "kepid    39036\n",
       "mass     38410\n",
       "feh      39036\n",
       "dtype: int64"
      ]
     },
     "execution_count": 80,
     "metadata": {},
     "output_type": "execute_result"
    }
   ],
   "source": [
    "targets[['kepid','mass','feh']].count()"
   ]
  },
  {
   "cell_type": "code",
   "execution_count": 81,
   "metadata": {
    "collapsed": false
   },
   "outputs": [],
   "source": [
    "# funny, there seem to be some missing masses.  Let's artificially add those in, with M=R\n",
    "bad = targets.mass.isnull()\n",
    "targets.loc[bad, 'mass'] = targets.loc[bad, 'radius']"
   ]
  },
  {
   "cell_type": "code",
   "execution_count": 82,
   "metadata": {
    "collapsed": true
   },
   "outputs": [],
   "source": [
    "# Calculate galactic latitude of target stars\n",
    "from astropy.coordinates import SkyCoord\n",
    "c = SkyCoord(targets.ra, targets.dec, unit='deg')\n",
    "targets['b'] = c.galactic.b.deg"
   ]
  },
  {
   "cell_type": "code",
   "execution_count": 83,
   "metadata": {
    "collapsed": false
   },
   "outputs": [],
   "source": [
    "from exosyspop.populations import KeplerPowerLawBinaryPopulation\n",
    "from exosyspop.populations import TRILEGAL_BGPowerLawBinaryPopulation\n",
    "\n",
    "ebpop = KeplerPowerLawBinaryPopulation(targets, ecc_empirical=True)\n",
    "bgstars = pd.read_hdf('bgstars.h5', 'df')\n",
    "bgpop = TRILEGAL_BGPowerLawBinaryPopulation(targets, bgstars, ecc_empirical=True, use_ic=True)"
   ]
  },
  {
   "cell_type": "code",
   "execution_count": 108,
   "metadata": {
    "collapsed": false
   },
   "outputs": [
    {
     "name": "stdout",
     "output_type": "stream",
     "text": [
      "136.401367662\n",
      "153\n"
     ]
    },
    {
     "data": {
      "image/png": "[encoded data removed]",
      "text/plain": [
       "<matplotlib.figure.Figure at 0x142775ad0>"
      ]
     },
     "metadata": {},
     "output_type": "display_data"
    }
   ],
   "source": [
    "from __future__ import division\n",
    "\n",
    "min_period = 20\n",
    "max_period = 25*365.25\n",
    "fB = 0.15\n",
    "beta = -1.1\n",
    "ebpop.set_params(beta=beta, period_min=min_period, period_max=max_period, fB=fB)\n",
    "\n",
    "q = 'period > {} and period < 1000 and '.format(min_period) +\\\n",
    "    '((n_pri > 0 and n_sec > 0) or ' +\\\n",
    "     '(n_pri > 2 or n_sec > 2)) and (T14_pri < 2.5 or T14_sec < 2.5)'\n",
    "\n",
    "kep_ebs = EBCatalog().df.query('{} < period < 1000'.format(min_period))\n",
    "n_exp = len(kep_ebs) * (len(targets)/len(KICatalog().df))\n",
    "print(n_exp)\n",
    "plt.hist(np.log10(kep_ebs.period), \n",
    "         histtype='step', lw=3, normed=True, label='Observed');\n",
    "new_obs = ebpop.observe(new_orbits=True).query(q)\n",
    "plt.hist(np.log10(new_obs.period), label='Simulated',\n",
    "        histtype='step', lw=3, normed=True);\n",
    "plt.legend()\n",
    "print(len(new_obs))"
   ]
  },
  {
   "cell_type": "code",
   "execution_count": 109,
   "metadata": {
    "collapsed": false
   },
   "outputs": [
    {
     "data": {
      "text/plain": [
       "{'beta': -1.1,\n",
       " 'beta_a': 0.8,\n",
       " 'beta_b': 2.0,\n",
       " 'fB': 0.15,\n",
       " 'gamma': 0.3,\n",
       " 'period_max': 9131.25,\n",
       " 'period_min': 20,\n",
       " 'qmin': 0.1}"
      ]
     },
     "execution_count": 109,
     "metadata": {},
     "output_type": "execute_result"
    }
   ],
   "source": [
    "ebpop.params"
   ]
  },
  {
   "cell_type": "code",
   "execution_count": 110,
   "metadata": {
    "collapsed": true
   },
   "outputs": [],
   "source": [
    "# Set params to match above\n",
    "pars = dict(period_min=min_period, period_max=max_period, beta=beta, fB=fB)\n",
    "ebpop.set_params(**pars)\n",
    "bgpop.set_params(**pars)\n",
    "ebpop._generate_binaries()\n",
    "bgpop._generate_binaries()"
   ]
  },
  {
   "cell_type": "markdown",
   "metadata": {},
   "source": [
    "Let's do a bunch of these observation simulations and see what it looks like:"
   ]
  },
  {
   "cell_type": "code",
   "execution_count": 111,
   "metadata": {
    "collapsed": false
   },
   "outputs": [
    {
     "data": {
      "image/png": "[encoded data removed]",
      "text/plain": [
       "<matplotlib.figure.Figure at 0x14ffb7ed0>"
      ]
     },
     "metadata": {},
     "output_type": "display_data"
    }
   ],
   "source": [
    "n_obs = [len(ebpop.observe(new_orbits=True).query(q)) for i in range(100)]\n",
    "\n",
    "plt.hist(n_obs, histtype='step', lw=3, bins=10, color='k');\n",
    "plt.axvline(n_exp, color='r', ls='--', lw=3);"
   ]
  },
  {
   "cell_type": "markdown",
   "metadata": {},
   "source": [
    "OK, now that we can roughly match the Kepler EB catalog from 20 to 1000d with these EB population parameters, we want to know what's the typical number of single/double eclipse signals."
   ]
  },
  {
   "cell_type": "code",
   "execution_count": 112,
   "metadata": {
    "collapsed": false
   },
   "outputs": [
    {
     "name": "stdout",
     "output_type": "stream",
     "text": [
      "EB: Depth trained: R2=0.998841943165\n",
      "EB: Duration trained: R2=0.997435262402\n",
      "EB: Slope trained: R2=0.980777458662\n",
      "BGEB: Depth trained: R2=0.994487728442\n",
      "BGEB: Duration trained: R2=0.998174985036\n",
      "BGEB: Slope trained: R2=0.985989102635\n"
     ]
    }
   ],
   "source": [
    "ebpop._train_trap(N=1000);\n",
    "bgpop._train_trap(N=1000);"
   ]
  },
  {
   "cell_type": "code",
   "execution_count": 113,
   "metadata": {
    "collapsed": false
   },
   "outputs": [],
   "source": [
    "n_sim = 100\n",
    "dfm_q = 'n_pri < 3 and n_sec < 3 and ((n_pri==0 and snr_sec > 15) or (n_sec==0 and snr_pri > 15))'\n",
    "dfm_q += ' and ((T14_pri < 2.5 and n_pri > 0) or (T14_sec < 2.5 and n_sec > 0))'\n",
    "nobs_eb = [len(ebpop.observe(new_orbits=True, regr_trap=True).query(dfm_q)) for i in range(n_sim)]\n",
    "nobs_bg = [len(bgpop.observe(new_orbits=True, regr_trap=True).query(dfm_q)) for i in range(n_sim)]"
   ]
  },
  {
   "cell_type": "code",
   "execution_count": 114,
   "metadata": {
    "collapsed": false
   },
   "outputs": [
    {
     "data": {
      "image/png": "[encoded data removed]",
      "text/plain": [
       "<matplotlib.figure.Figure at 0x139cac510>"
      ]
     },
     "metadata": {},
     "output_type": "display_data"
    }
   ],
   "source": [
    "plt.figure(figsize=(8,6))\n",
    "plt.hist(nobs_eb, histtype='step', lw=3, label='EB')#, bins=np.arange(16));\n",
    "plt.hist(nobs_bg, histtype='step', lw=3, label='BEB')#, bins=np.arange(16));\n",
    "plt.legend();\n",
    "plt.xlim(xmin=-0.3)\n",
    "plt.yticks([])\n",
    "plt.ylabel('Normalized frequency')\n",
    "plt.xlabel('Number of observed single/double eclipses');\n",
    "plt.savefig('N_EBs.pdf', bbox_inches='tight')"
   ]
  },
  {
   "cell_type": "markdown",
   "metadata": {},
   "source": [
    "OK, now let's determine the typical shapes.  Let's do this with a big sample of simulated observations."
   ]
  },
  {
   "cell_type": "code",
   "execution_count": 115,
   "metadata": {
    "collapsed": false
   },
   "outputs": [
    {
     "data": {
      "text/plain": [
       "(5.4199999999999999, 0.14999999999999999)"
      ]
     },
     "execution_count": 115,
     "metadata": {},
     "output_type": "execute_result"
    }
   ],
   "source": [
    "np.mean(nobs_eb), np.mean(nobs_bg)"
   ]
  },
  {
   "cell_type": "code",
   "execution_count": 116,
   "metadata": {
    "collapsed": false,
    "scrolled": true
   },
   "outputs": [],
   "source": [
    "eb_obs = ebpop.get_N_observed(query=dfm_q, N=2000, new_orbits=True)\n",
    "bg_obs = bgpop.get_N_observed(query=dfm_q, N=200, use_ic=True, new_orbits=True) #takes longer; use fewer"
   ]
  },
  {
   "cell_type": "markdown",
   "metadata": {},
   "source": [
    "OK, now let's load up the candidates."
   ]
  },
  {
   "cell_type": "code",
   "execution_count": 245,
   "metadata": {
    "collapsed": true
   },
   "outputs": [],
   "source": [
    "from keputils import kicutils as kicu"
   ]
  },
  {
   "cell_type": "code",
   "execution_count": 251,
   "metadata": {
    "collapsed": false
   },
   "outputs": [
    {
     "name": "stdout",
     "output_type": "stream",
     "text": [
      "18\n"
     ]
    },
    {
     "data": {
      "text/html": [
       "<div>\n",
       "<table border=\"1\" class=\"dataframe\">\n",
       "  <thead>\n",
       "    <tr style=\"text-align: right;\">\n",
       "      <th></th>\n",
       "      <th>depth</th>\n",
       "      <th>transit_duration</th>\n",
       "      <th>s2n</th>\n",
       "      <th>rp</th>\n",
       "    </tr>\n",
       "  </thead>\n",
       "  <tbody>\n",
       "    <tr>\n",
       "      <th>6</th>\n",
       "      <td>0.000346</td>\n",
       "      <td>0.716957</td>\n",
       "      <td>28.485282</td>\n",
       "      <td>0.184335</td>\n",
       "    </tr>\n",
       "    <tr>\n",
       "      <th>33</th>\n",
       "      <td>0.004086</td>\n",
       "      <td>0.496911</td>\n",
       "      <td>78.893061</td>\n",
       "      <td>0.629314</td>\n",
       "    </tr>\n",
       "    <tr>\n",
       "      <th>35</th>\n",
       "      <td>0.000881</td>\n",
       "      <td>0.405306</td>\n",
       "      <td>34.391561</td>\n",
       "      <td>0.280589</td>\n",
       "    </tr>\n",
       "    <tr>\n",
       "      <th>47</th>\n",
       "      <td>0.003687</td>\n",
       "      <td>0.515208</td>\n",
       "      <td>88.882287</td>\n",
       "      <td>0.703130</td>\n",
       "    </tr>\n",
       "    <tr>\n",
       "      <th>69</th>\n",
       "      <td>0.004205</td>\n",
       "      <td>1.509684</td>\n",
       "      <td>77.287999</td>\n",
       "      <td>0.683020</td>\n",
       "    </tr>\n",
       "    <tr>\n",
       "      <th>88</th>\n",
       "      <td>0.007903</td>\n",
       "      <td>0.780640</td>\n",
       "      <td>158.604425</td>\n",
       "      <td>0.853172</td>\n",
       "    </tr>\n",
       "    <tr>\n",
       "      <th>123</th>\n",
       "      <td>0.004480</td>\n",
       "      <td>0.888443</td>\n",
       "      <td>75.278868</td>\n",
       "      <td>0.457690</td>\n",
       "    </tr>\n",
       "    <tr>\n",
       "      <th>126</th>\n",
       "      <td>0.015872</td>\n",
       "      <td>0.672062</td>\n",
       "      <td>392.762344</td>\n",
       "      <td>0.844417</td>\n",
       "    </tr>\n",
       "    <tr>\n",
       "      <th>127</th>\n",
       "      <td>0.015061</td>\n",
       "      <td>0.670561</td>\n",
       "      <td>390.821950</td>\n",
       "      <td>0.829935</td>\n",
       "    </tr>\n",
       "    <tr>\n",
       "      <th>161</th>\n",
       "      <td>0.002230</td>\n",
       "      <td>0.681862</td>\n",
       "      <td>39.953932</td>\n",
       "      <td>0.668581</td>\n",
       "    </tr>\n",
       "    <tr>\n",
       "      <th>245</th>\n",
       "      <td>0.000626</td>\n",
       "      <td>0.468938</td>\n",
       "      <td>18.096212</td>\n",
       "      <td>0.360650</td>\n",
       "    </tr>\n",
       "    <tr>\n",
       "      <th>329</th>\n",
       "      <td>0.001732</td>\n",
       "      <td>0.843986</td>\n",
       "      <td>97.748140</td>\n",
       "      <td>0.280612</td>\n",
       "    </tr>\n",
       "    <tr>\n",
       "      <th>340</th>\n",
       "      <td>0.005252</td>\n",
       "      <td>0.841373</td>\n",
       "      <td>173.653495</td>\n",
       "      <td>0.657260</td>\n",
       "    </tr>\n",
       "    <tr>\n",
       "      <th>341</th>\n",
       "      <td>0.004939</td>\n",
       "      <td>0.833006</td>\n",
       "      <td>117.457815</td>\n",
       "      <td>0.657074</td>\n",
       "    </tr>\n",
       "    <tr>\n",
       "      <th>350</th>\n",
       "      <td>0.005200</td>\n",
       "      <td>1.387042</td>\n",
       "      <td>171.725011</td>\n",
       "      <td>0.350858</td>\n",
       "    </tr>\n",
       "    <tr>\n",
       "      <th>351</th>\n",
       "      <td>0.002495</td>\n",
       "      <td>0.663874</td>\n",
       "      <td>113.531869</td>\n",
       "      <td>0.371780</td>\n",
       "    </tr>\n",
       "    <tr>\n",
       "      <th>352</th>\n",
       "      <td>0.002495</td>\n",
       "      <td>0.656530</td>\n",
       "      <td>93.918784</td>\n",
       "      <td>0.361077</td>\n",
       "    </tr>\n",
       "    <tr>\n",
       "      <th>363</th>\n",
       "      <td>0.001137</td>\n",
       "      <td>1.221386</td>\n",
       "      <td>35.482753</td>\n",
       "      <td>0.376173</td>\n",
       "    </tr>\n",
       "  </tbody>\n",
       "</table>\n",
       "</div>"
      ],
      "text/plain": [
       "        depth  transit_duration         s2n        rp\n",
       "6    0.000346          0.716957   28.485282  0.184335\n",
       "33   0.004086          0.496911   78.893061  0.629314\n",
       "35   0.000881          0.405306   34.391561  0.280589\n",
       "47   0.003687          0.515208   88.882287  0.703130\n",
       "69   0.004205          1.509684   77.287999  0.683020\n",
       "88   0.007903          0.780640  158.604425  0.853172\n",
       "123  0.004480          0.888443   75.278868  0.457690\n",
       "126  0.015872          0.672062  392.762344  0.844417\n",
       "127  0.015061          0.670561  390.821950  0.829935\n",
       "161  0.002230          0.681862   39.953932  0.668581\n",
       "245  0.000626          0.468938   18.096212  0.360650\n",
       "329  0.001732          0.843986   97.748140  0.280612\n",
       "340  0.005252          0.841373  173.653495  0.657260\n",
       "341  0.004939          0.833006  117.457815  0.657074\n",
       "350  0.005200          1.387042  171.725011  0.350858\n",
       "351  0.002495          0.663874  113.531869  0.371780\n",
       "352  0.002495          0.656530   93.918784  0.361077\n",
       "363  0.001137          1.221386   35.482753  0.376173"
      ]
     },
     "execution_count": 251,
     "metadata": {},
     "output_type": "execute_result"
    }
   ],
   "source": [
    "candidates_all = pd.read_csv('../results/candidates.csv')\n",
    "targets.index = targets['kepid']\n",
    "rstar = []\n",
    "for k in candidates.kicid:\n",
    "    if k in targets.index:\n",
    "        rstar.append(targets.ix[k, 'radius'])\n",
    "    else:\n",
    "        print('{} not in target list'.format(k))\n",
    "        rstar.append(kicu.DATA.ix[k, 'radius'])\n",
    "rstar = np.array(rstar) \n",
    "candidates_all['rp'] = candidates.transit_ror * rstar * RSUN/RJUP\n",
    "candidates = candidates_all.query('accept_bic and accept_time and num_peaks <= 2 and rp < 1')\n",
    "\n",
    "print(len(candidates))\n",
    "candidates[['depth','transit_duration','s2n','rp']]"
   ]
  },
  {
   "cell_type": "code",
   "execution_count": 242,
   "metadata": {
    "collapsed": false
   },
   "outputs": [
    {
     "name": "stdout",
     "output_type": "stream",
     "text": [
      "10271691\n",
      "10613792\n",
      "10613792\n",
      "11038446\n",
      "12204153\n",
      "6751029\n",
      "7987086\n",
      "7987086\n",
      "7987086\n",
      "7971363\n",
      "8540644\n",
      "8584610\n",
      "9159119\n",
      "9730194\n",
      "9701988\n",
      "9701988\n"
     ]
    }
   ],
   "source": [
    "for k in candidates_all.kicid:\n",
    "    try:\n",
    "        targets.ix[k, 'radius']\n",
    "    except KeyError:\n",
    "        print(k)"
   ]
  },
  {
   "cell_type": "code",
   "execution_count": 232,
   "metadata": {
    "collapsed": false
   },
   "outputs": [
    {
     "data": {
      "text/html": [
       "<div>\n",
       "<table border=\"1\" class=\"dataframe\">\n",
       "  <thead>\n",
       "    <tr style=\"text-align: right;\">\n",
       "      <th></th>\n",
       "      <th>kepid</th>\n",
       "      <th>tm_designation</th>\n",
       "      <th>teff</th>\n",
       "      <th>teff_err1</th>\n",
       "      <th>teff_err2</th>\n",
       "      <th>logg</th>\n",
       "      <th>logg_err1</th>\n",
       "      <th>logg_err2</th>\n",
       "      <th>feh</th>\n",
       "      <th>feh_err1</th>\n",
       "      <th>...</th>\n",
       "      <th>rrmscdpp07p5</th>\n",
       "      <th>rrmscdpp09p0</th>\n",
       "      <th>rrmscdpp10p5</th>\n",
       "      <th>rrmscdpp12p0</th>\n",
       "      <th>rrmscdpp12p5</th>\n",
       "      <th>rrmscdpp15p0</th>\n",
       "      <th>av</th>\n",
       "      <th>av_err1</th>\n",
       "      <th>av_err2</th>\n",
       "      <th>b</th>\n",
       "    </tr>\n",
       "    <tr>\n",
       "      <th>kepid</th>\n",
       "      <th></th>\n",
       "      <th></th>\n",
       "      <th></th>\n",
       "      <th></th>\n",
       "      <th></th>\n",
       "      <th></th>\n",
       "      <th></th>\n",
       "      <th></th>\n",
       "      <th></th>\n",
       "      <th></th>\n",
       "      <th></th>\n",
       "      <th></th>\n",
       "      <th></th>\n",
       "      <th></th>\n",
       "      <th></th>\n",
       "      <th></th>\n",
       "      <th></th>\n",
       "      <th></th>\n",
       "      <th></th>\n",
       "      <th></th>\n",
       "      <th></th>\n",
       "    </tr>\n",
       "  </thead>\n",
       "  <tbody>\n",
       "    <tr>\n",
       "      <th>10022908</th>\n",
       "      <td>10022908</td>\n",
       "      <td>2MASS J19444255+4659564</td>\n",
       "      <td>4848</td>\n",
       "      <td>151.0</td>\n",
       "      <td>-126.0</td>\n",
       "      <td>4.598</td>\n",
       "      <td>0.016</td>\n",
       "      <td>-0.072</td>\n",
       "      <td>0.34</td>\n",
       "      <td>0.12</td>\n",
       "      <td>...</td>\n",
       "      <td>124.355</td>\n",
       "      <td>116.900</td>\n",
       "      <td>112.088</td>\n",
       "      <td>108.182</td>\n",
       "      <td>107.503</td>\n",
       "      <td>102.807</td>\n",
       "      <td>NaN</td>\n",
       "      <td>NaN</td>\n",
       "      <td>NaN</td>\n",
       "      <td>11.166494</td>\n",
       "    </tr>\n",
       "    <tr>\n",
       "      <th>10023002</th>\n",
       "      <td>10023002</td>\n",
       "      <td>2MASS J19444948+4657598</td>\n",
       "      <td>5823</td>\n",
       "      <td>142.0</td>\n",
       "      <td>-196.0</td>\n",
       "      <td>4.473</td>\n",
       "      <td>0.043</td>\n",
       "      <td>-0.292</td>\n",
       "      <td>0.36</td>\n",
       "      <td>0.08</td>\n",
       "      <td>...</td>\n",
       "      <td>25.008</td>\n",
       "      <td>23.527</td>\n",
       "      <td>22.575</td>\n",
       "      <td>21.715</td>\n",
       "      <td>21.496</td>\n",
       "      <td>20.204</td>\n",
       "      <td>NaN</td>\n",
       "      <td>NaN</td>\n",
       "      <td>NaN</td>\n",
       "      <td>11.133867</td>\n",
       "    </tr>\n",
       "    <tr>\n",
       "      <th>10023076</th>\n",
       "      <td>10023076</td>\n",
       "      <td>2MASS J19445637+4659198</td>\n",
       "      <td>5918</td>\n",
       "      <td>153.0</td>\n",
       "      <td>-157.0</td>\n",
       "      <td>4.546</td>\n",
       "      <td>0.028</td>\n",
       "      <td>-0.288</td>\n",
       "      <td>-0.26</td>\n",
       "      <td>0.28</td>\n",
       "      <td>...</td>\n",
       "      <td>48.607</td>\n",
       "      <td>44.790</td>\n",
       "      <td>41.917</td>\n",
       "      <td>39.582</td>\n",
       "      <td>38.903</td>\n",
       "      <td>35.278</td>\n",
       "      <td>NaN</td>\n",
       "      <td>NaN</td>\n",
       "      <td>NaN</td>\n",
       "      <td>11.127013</td>\n",
       "    </tr>\n",
       "    <tr>\n",
       "      <th>10026901</th>\n",
       "      <td>10026901</td>\n",
       "      <td>2MASS J19493252+4654151</td>\n",
       "      <td>5695</td>\n",
       "      <td>154.0</td>\n",
       "      <td>-162.0</td>\n",
       "      <td>4.545</td>\n",
       "      <td>0.027</td>\n",
       "      <td>-0.240</td>\n",
       "      <td>-0.02</td>\n",
       "      <td>0.23</td>\n",
       "      <td>...</td>\n",
       "      <td>111.503</td>\n",
       "      <td>103.698</td>\n",
       "      <td>97.152</td>\n",
       "      <td>91.653</td>\n",
       "      <td>90.019</td>\n",
       "      <td>83.076</td>\n",
       "      <td>NaN</td>\n",
       "      <td>NaN</td>\n",
       "      <td>NaN</td>\n",
       "      <td>10.396107</td>\n",
       "    </tr>\n",
       "    <tr>\n",
       "      <th>10026977</th>\n",
       "      <td>10026977</td>\n",
       "      <td>2MASS J19493720+4657282</td>\n",
       "      <td>5858</td>\n",
       "      <td>161.0</td>\n",
       "      <td>-185.0</td>\n",
       "      <td>4.495</td>\n",
       "      <td>0.038</td>\n",
       "      <td>-0.295</td>\n",
       "      <td>0.10</td>\n",
       "      <td>0.18</td>\n",
       "      <td>...</td>\n",
       "      <td>130.213</td>\n",
       "      <td>124.733</td>\n",
       "      <td>120.421</td>\n",
       "      <td>117.553</td>\n",
       "      <td>116.963</td>\n",
       "      <td>115.482</td>\n",
       "      <td>NaN</td>\n",
       "      <td>NaN</td>\n",
       "      <td>NaN</td>\n",
       "      <td>10.410278</td>\n",
       "    </tr>\n",
       "  </tbody>\n",
       "</table>\n",
       "<p>5 rows × 77 columns</p>\n",
       "</div>"
      ],
      "text/plain": [
       "             kepid           tm_designation  teff  teff_err1  teff_err2  \\\n",
       "kepid                                                                     \n",
       "10022908  10022908  2MASS J19444255+4659564  4848      151.0     -126.0   \n",
       "10023002  10023002  2MASS J19444948+4657598  5823      142.0     -196.0   \n",
       "10023076  10023076  2MASS J19445637+4659198  5918      153.0     -157.0   \n",
       "10026901  10026901  2MASS J19493252+4654151  5695      154.0     -162.0   \n",
       "10026977  10026977  2MASS J19493720+4657282  5858      161.0     -185.0   \n",
       "\n",
       "           logg  logg_err1  logg_err2   feh  feh_err1    ...      \\\n",
       "kepid                                                    ...       \n",
       "10022908  4.598      0.016     -0.072  0.34      0.12    ...       \n",
       "10023002  4.473      0.043     -0.292  0.36      0.08    ...       \n",
       "10023076  4.546      0.028     -0.288 -0.26      0.28    ...       \n",
       "10026901  4.545      0.027     -0.240 -0.02      0.23    ...       \n",
       "10026977  4.495      0.038     -0.295  0.10      0.18    ...       \n",
       "\n",
       "          rrmscdpp07p5  rrmscdpp09p0  rrmscdpp10p5  rrmscdpp12p0  \\\n",
       "kepid                                                              \n",
       "10022908       124.355       116.900       112.088       108.182   \n",
       "10023002        25.008        23.527        22.575        21.715   \n",
       "10023076        48.607        44.790        41.917        39.582   \n",
       "10026901       111.503       103.698        97.152        91.653   \n",
       "10026977       130.213       124.733       120.421       117.553   \n",
       "\n",
       "          rrmscdpp12p5  rrmscdpp15p0  av  av_err1  av_err2          b  \n",
       "kepid                                                                  \n",
       "10022908       107.503       102.807 NaN      NaN      NaN  11.166494  \n",
       "10023002        21.496        20.204 NaN      NaN      NaN  11.133867  \n",
       "10023076        38.903        35.278 NaN      NaN      NaN  11.127013  \n",
       "10026901        90.019        83.076 NaN      NaN      NaN  10.396107  \n",
       "10026977       116.963       115.482 NaN      NaN      NaN  10.410278  \n",
       "\n",
       "[5 rows x 77 columns]"
      ]
     },
     "execution_count": 232,
     "metadata": {},
     "output_type": "execute_result"
    }
   ],
   "source": [
    "targets.head()"
   ]
  },
  {
   "cell_type": "code",
   "execution_count": 254,
   "metadata": {
    "collapsed": false
   },
   "outputs": [
    {
     "data": {
      "text/plain": [
       "18.096212254112913"
      ]
     },
     "execution_count": 254,
     "metadata": {},
     "output_type": "execute_result"
    }
   ],
   "source": [
    "candidates.s2n.min()"
   ]
  },
  {
   "cell_type": "code",
   "execution_count": 255,
   "metadata": {
    "collapsed": false
   },
   "outputs": [
    {
     "data": {
      "image/png": "[encoded data removed]",
      "text/plain": [
       "<matplotlib.figure.Figure at 0x177195950>"
      ]
     },
     "metadata": {},
     "output_type": "display_data"
    }
   ],
   "source": [
    "from corner import hist2d\n",
    "\n",
    "fix, (ax1, ax2) = plt.subplots(1,2, figsize=(10,4))\n",
    "\n",
    "hist2d(eb_obs.observed.dur_pri.values, eb_obs.observed.logd_pri.values,\n",
    "          plot_contours=False, ax=ax1, range=[(0,2.5), (-3, -0.3)], bins=10);\n",
    "hist2d(bg_obs.observed.dur_pri.values, bg_obs.observed.logd_pri.values,\n",
    "          plot_contours=False, ax=ax2, range=[(0,2.5), (-3, -0.3)], bins=10);\n",
    "\n",
    "for ax in (ax1, ax2):\n",
    "    ax.plot(candidates.transit_duration, np.log10(candidates.transit_depth), 'rx', ms=10)\n"
   ]
  },
  {
   "cell_type": "code",
   "execution_count": 256,
   "metadata": {
    "collapsed": true
   },
   "outputs": [],
   "source": [
    "from scipy.stats import gaussian_kde\n",
    "\n",
    "eb_kde = gaussian_kde(np.array([eb_obs.observed.dur_pri, eb_obs.observed.logd_pri]))\n",
    "bg_kde = gaussian_kde(np.array([bg_obs.observed.dur_pri, bg_obs.observed.logd_pri]))"
   ]
  },
  {
   "cell_type": "code",
   "execution_count": 257,
   "metadata": {
    "collapsed": false
   },
   "outputs": [
    {
     "data": {
      "image/png": "[encoded data removed]",
      "text/plain": [
       "<matplotlib.figure.Figure at 0x16eab1650>"
      ]
     },
     "metadata": {},
     "output_type": "display_data"
    }
   ],
   "source": [
    "def plot_kde(kde, ax=None, dur_range=(0,2.), depth_range=(-3.5,-0.5), \n",
    "            cands=candidates, **kwargs):\n",
    "    if ax is None:\n",
    "        fig, ax = plt.subplots(1,1)\n",
    "        \n",
    "    dur_grid = np.arange(dur_range[0], dur_range[1], 0.02)\n",
    "    depth_grid = np.arange(depth_range[0], depth_range[1], 0.02)\n",
    "    xx, yy = np.meshgrid(dur_grid, depth_grid)\n",
    "    f = kde(np.vstack([xx.ravel(),yy.ravel()])).reshape(xx.shape)\n",
    "    ax.imshow(f, origin='lower', extent=[dur_range[0], dur_range[1],\n",
    "                                         depth_range[0], depth_range[1]], \n",
    "               aspect='auto', cmap='binary', **kwargs)\n",
    "    ax.set_xlabel('Duration [days]')\n",
    "    ax.set_ylabel('log(depth)')\n",
    "    \n",
    "    if cands is not None:\n",
    "        ax.plot(cands.transit_duration, np.log10(cands.transit_depth), 'rx', ms=10)\n",
    "    \n",
    "fig, axes = plt.subplots(1,2, figsize=(10,4), sharey=True)\n",
    "plot_kde(eb_kde, ax=axes[0])\n",
    "plot_kde(bg_kde, ax=axes[1])\n",
    "axes[1].set_ylabel('')\n",
    "plt.subplots_adjust(wspace=0)\n",
    "for ax,title in zip(axes, ['EB','BEB']):\n",
    "    ax.annotate(title, xy=(0.8,0.1), xycoords='axes fraction', fontsize=22)"
   ]
  },
  {
   "cell_type": "code",
   "execution_count": 258,
   "metadata": {
    "collapsed": false
   },
   "outputs": [
    {
     "data": {
      "text/plain": [
       "18"
      ]
     },
     "execution_count": 258,
     "metadata": {},
     "output_type": "execute_result"
    }
   ],
   "source": [
    "len(candidates)"
   ]
  },
  {
   "cell_type": "code",
   "execution_count": 259,
   "metadata": {
    "collapsed": true
   },
   "outputs": [],
   "source": [
    "# Here, defining population to match what was fit for in the paper\n",
    "from exosyspop.populations import PlanetPopulation, REARTH, RSUN\n",
    "\n",
    "import astropy.constants as const\n",
    "RJUP = const.R_jup.cgs\n",
    "\n",
    "class LongPeriodPlanetPopulation(PlanetPopulation):\n",
    "    \"\"\"\n",
    "    Poisson Population in two bins: 0.1-0.4 RJup and 0.4-1.0 RJup\n",
    "    \n",
    "    From 2 to 25 years, with beta eccentricity distribution\n",
    "    \"\"\"\n",
    "    min_period = 2*365.25\n",
    "    max_period = 25*365.25\n",
    "    \n",
    "    param_names = ('Gam1', 'Gam2', 'beta_a', 'beta_b')\n",
    "    default_params = {'Gam1':0.24, 'Gam2':0.18,\n",
    "                      'beta_a':0.8, 'beta_b':2.0}\n",
    "    \n",
    "    def _sample_period(self, N):\n",
    "        lo = np.log(self.min_period)\n",
    "        hi = np.log(self.max_period)\n",
    "        logp = np.random.random(N)*(hi - lo) + lo\n",
    "        return np.exp(logp)\n",
    "    \n",
    "    def _sample_Np(self, N):\n",
    "        Gam1, Gam2 = self._get_params(['Gam1', 'Gam2'])\n",
    "        N_pl = Gam1 + Gam2 # Sum of both bins is total rate\n",
    "        return np.random.poisson(N_pl, size=N)\n",
    "    \n",
    "    def _sample_Rp(self, N):\n",
    "        Gam1, Gam2 = self._get_params(['Gam1', 'Gam2'])\n",
    "        \n",
    "        # Assign radii uniformly in each bin, with appropriate ratio given to each bin\n",
    "        f1 = Gam1 / (Gam1 + Gam2)\n",
    "        u = np.random.random(N)\n",
    "        in_1 = u < f1\n",
    "        in_2 = u >= f1\n",
    "        N1 = in_1.sum()\n",
    "        N2 = in_2.sum()\n",
    "        \n",
    "        Rp = np.ones(N)\n",
    "        lo1, hi1 = np.log(0.1), np.log(0.4)\n",
    "        lo2, hi2 = np.log(0.4), np.log(1)\n",
    "        Rp[in_1] = np.exp(np.random.random(N1)*(hi1 - lo1) + lo1)\n",
    "        Rp[in_2] = np.exp(np.random.random(N2)*(hi2 - lo2) + lo2)\n",
    "        return Rp * RJUP/RSUN"
   ]
  },
  {
   "cell_type": "code",
   "execution_count": 260,
   "metadata": {
    "collapsed": false
   },
   "outputs": [],
   "source": [
    "plpop = LongPeriodPlanetPopulation(targets)"
   ]
  },
  {
   "cell_type": "code",
   "execution_count": 261,
   "metadata": {
    "collapsed": false
   },
   "outputs": [
    {
     "name": "stdout",
     "output_type": "stream",
     "text": [
      "Planet: Depth trained: R2=0.999631351961\n",
      "Planet: Duration trained: R2=0.996814106923\n",
      "Planet: Slope trained: R2=0.9825439937\n"
     ]
    }
   ],
   "source": [
    "plpop._train_trap(N=1000);"
   ]
  },
  {
   "cell_type": "code",
   "execution_count": 262,
   "metadata": {
    "collapsed": false
   },
   "outputs": [
    {
     "data": {
      "text/plain": [
       "{'Gam1': 0.24, 'Gam2': 0.18, 'beta_a': 0.8, 'beta_b': 2.0}"
      ]
     },
     "execution_count": 262,
     "metadata": {},
     "output_type": "execute_result"
    }
   ],
   "source": [
    "plpop.params"
   ]
  },
  {
   "cell_type": "code",
   "execution_count": 263,
   "metadata": {
    "collapsed": false
   },
   "outputs": [
    {
     "data": {
      "image/png": "[encoded data removed]",
      "text/plain": [
       "<matplotlib.figure.Figure at 0x1354db110>"
      ]
     },
     "metadata": {},
     "output_type": "display_data"
    }
   ],
   "source": [
    "fig, (ax1, ax2) = plt.subplots(1, 2, figsize=(10,4))\n",
    "ax1.hist(plpop.period, histtype='step', lw=3);\n",
    "ax1.set_yticks([])\n",
    "ax2.hist(plpop.radius_B*RSUN/RJUP, histtype='step', lw=3);\n",
    "ax2.set_yticks([]);"
   ]
  },
  {
   "cell_type": "code",
   "execution_count": 264,
   "metadata": {
    "collapsed": false
   },
   "outputs": [
    {
     "data": {
      "image/png": "[encoded data removed]",
      "text/plain": [
       "<matplotlib.figure.Figure at 0x139ef37d0>"
      ]
     },
     "metadata": {},
     "output_type": "display_data"
    }
   ],
   "source": [
    "dfm_q_pl = 'n_pri < 3 and snr_pri > 15 and T14_pri < 2.5'\n",
    "dfm_q_pl_nosnr = 'n_pri < 3 and T14_pri < 2.5 and snr_pri > 0'\n",
    "\n",
    "nobs_pl = [len(plpop.observe(new_orbits=True, regr_trap=True).query(dfm_q_pl)) for i in range(100)]\n",
    "nobs_pl2 = [len(plpop.observe(new_orbits=True, regr_trap=True).query(dfm_q_pl_nosnr)) for i in range(100)]\n",
    "\n",
    "plt.hist(nobs_pl, histtype='step', lw=3, label='SNR $>$ 15');\n",
    "plt.hist(nobs_pl2, histtype='step', lw=3, color='k', ls=':', label='all')\n",
    "plt.legend(loc='upper right');"
   ]
  },
  {
   "cell_type": "code",
   "execution_count": 265,
   "metadata": {
    "collapsed": false
   },
   "outputs": [
    {
     "data": {
      "text/plain": [
       "6.5700000000000003"
      ]
     },
     "execution_count": 265,
     "metadata": {},
     "output_type": "execute_result"
    }
   ],
   "source": [
    "np.mean(nobs_pl)"
   ]
  },
  {
   "cell_type": "code",
   "execution_count": 266,
   "metadata": {
    "collapsed": false
   },
   "outputs": [
    {
     "data": {
      "image/png": "[encoded data removed]",
      "text/plain": [
       "<matplotlib.figure.Figure at 0x139970b90>"
      ]
     },
     "metadata": {},
     "output_type": "display_data"
    }
   ],
   "source": [
    "N = 1000\n",
    "pl_obs = plpop.get_N_observed(query=dfm_q_pl, N=N)\n",
    "\n",
    "hist2d(pl_obs.observed.dur_pri.values, pl_obs.observed.logd_pri.values,\n",
    "          plot_contours=False, bins=10);\n",
    "\n",
    "plt.plot(candidates.transit_duration, np.log10(candidates.transit_depth), 'rx', ms=10);"
   ]
  },
  {
   "cell_type": "code",
   "execution_count": 267,
   "metadata": {
    "collapsed": false
   },
   "outputs": [
    {
     "data": {
      "text/plain": [
       "Index([u'index', u'host', u'period', u'ecc', u'w', u'inc', u'a', u'aR',\n",
       "       u'b_pri', u'b_sec', u'k', u'tra', u'occ', u'd_pri', u'd_sec',\n",
       "       u'T14_pri', u'T14_sec', u'T23_pri', u'T23_sec', u'dataspan',\n",
       "       u'dutycycle', u'flux_ratio', u'dilution', u'n_pri', u'n_sec',\n",
       "       u'phase_sec', u'trap_dur_pri_regr', u'trap_depth_pri_regr',\n",
       "       u'trap_slope_pri_regr', u'trap_dur_sec_regr', u'trap_depth_sec_regr',\n",
       "       u'trap_slope_sec_regr', u'noise_pri', u'noise_sec', u'snr_pri',\n",
       "       u'snr_sec', u'mean_depth_pri', u'mean_depth_sec'],\n",
       "      dtype='object')"
      ]
     },
     "execution_count": 267,
     "metadata": {},
     "output_type": "execute_result"
    }
   ],
   "source": [
    "pl_obs.columns"
   ]
  },
  {
   "cell_type": "code",
   "execution_count": 268,
   "metadata": {
    "collapsed": false
   },
   "outputs": [
    {
     "data": {
      "image/png": "[encoded data removed]",
      "text/plain": [
       "<matplotlib.figure.Figure at 0x14dfb8750>"
      ]
     },
     "metadata": {},
     "output_type": "display_data"
    }
   ],
   "source": [
    "pl_kde = gaussian_kde(np.array([pl_obs.observed.dur_pri, pl_obs.observed.logd_pri]))\n",
    "plot_kde(pl_kde)"
   ]
  },
  {
   "cell_type": "code",
   "execution_count": 269,
   "metadata": {
    "collapsed": false
   },
   "outputs": [
    {
     "data": {
      "image/png": "[encoded data removed]",
      "text/plain": [
       "<matplotlib.figure.Figure at 0x14df86890>"
      ]
     },
     "metadata": {},
     "output_type": "display_data"
    }
   ],
   "source": [
    "fig, axes = plt.subplots(1,3, figsize=(12,4), sharey=True)\n",
    "plot_kde(eb_kde, ax=axes[0])\n",
    "plot_kde(bg_kde, ax=axes[1])\n",
    "plot_kde(pl_kde, ax=axes[2])\n",
    "axes[1].set_ylabel('')\n",
    "axes[2].set_ylabel('')\n",
    "plt.subplots_adjust(wspace=0)\n",
    "for ax,title in zip(axes, ['EB','BEB','Planet']):\n",
    "    ax.set_yticks(np.arange(-3,-0.5,0.5))\n",
    "    ax.annotate(title, xy=(0.95,0.1), xycoords='axes fraction', fontsize=20, ha='right')\n",
    "    \n",
    "plt.savefig('shape_kdes.pdf', bbox_inches='tight')"
   ]
  },
  {
   "cell_type": "code",
   "execution_count": 270,
   "metadata": {
    "collapsed": false
   },
   "outputs": [
    {
     "data": {
      "image/png": "[encoded data removed]",
      "text/plain": [
       "<matplotlib.figure.Figure at 0x151840810>"
      ]
     },
     "metadata": {},
     "output_type": "display_data"
    }
   ],
   "source": [
    "# Just curious...\n",
    "plt.hist(np.log10(pl_obs.snr_pri), normed=True);\n",
    "plt.hist(np.log10(candidates.s2n.values), histtype='step', color='r', lw=3, normed=True);"
   ]
  },
  {
   "cell_type": "code",
   "execution_count": 271,
   "metadata": {
    "collapsed": false
   },
   "outputs": [
    {
     "data": {
      "text/plain": [
       "18"
      ]
     },
     "execution_count": 271,
     "metadata": {},
     "output_type": "execute_result"
    }
   ],
   "source": [
    "len(candidates)"
   ]
  },
  {
   "cell_type": "markdown",
   "metadata": {},
   "source": [
    "OK, now we can guess as to the nature of each individual signal, given our predicted rates and the depth-duration shape information:"
   ]
  },
  {
   "cell_type": "code",
   "execution_count": 272,
   "metadata": {
    "collapsed": true
   },
   "outputs": [],
   "source": [
    "pts = [candidates.transit_duration, np.log10(candidates.transit_depth)]\n",
    "L_eb = eb_kde(pts)\n",
    "L_bg = bg_kde(pts)\n",
    "L_pl = pl_kde(pts)\n",
    "\n",
    "pi_eb = 5.4\n",
    "pi_bg = 0.15\n",
    "pi_pl = 6.57\n",
    "\n",
    "norm = L_eb*pi_eb + L_bg*pi_bg + L_pl*pi_pl\n",
    "\n",
    "candidates['pr_eb'] = L_eb*pi_eb / norm\n",
    "candidates['pr_bg'] = L_bg*pi_bg / norm\n",
    "candidates['pr_pl'] = L_pl*pi_pl / norm"
   ]
  },
  {
   "cell_type": "code",
   "execution_count": 273,
   "metadata": {
    "collapsed": false
   },
   "outputs": [
    {
     "data": {
      "text/plain": [
       "pr_eb     0.903568\n",
       "pr_bg     0.401223\n",
       "pr_pl    16.695209\n",
       "dtype: float64"
      ]
     },
     "execution_count": 273,
     "metadata": {},
     "output_type": "execute_result"
    }
   ],
   "source": [
    "candidates[['pr_eb', 'pr_bg', 'pr_pl']].sum()"
   ]
  },
  {
   "cell_type": "code",
   "execution_count": 275,
   "metadata": {
    "collapsed": false
   },
   "outputs": [
    {
     "data": {
      "text/html": [
       "<div>\n",
       "<table border=\"1\" class=\"dataframe\">\n",
       "  <thead>\n",
       "    <tr style=\"text-align: right;\">\n",
       "      <th></th>\n",
       "      <th>kicid</th>\n",
       "      <th>rp</th>\n",
       "      <th>transit_depth</th>\n",
       "      <th>transit_duration</th>\n",
       "      <th>pr_eb</th>\n",
       "      <th>pr_bg</th>\n",
       "      <th>pr_pl</th>\n",
       "    </tr>\n",
       "  </thead>\n",
       "  <tbody>\n",
       "    <tr>\n",
       "      <th>6</th>\n",
       "      <td>10321319</td>\n",
       "      <td>0.184335</td>\n",
       "      <td>0.000390</td>\n",
       "      <td>0.716957</td>\n",
       "      <td>0.000016</td>\n",
       "      <td>0.158817</td>\n",
       "      <td>0.841167</td>\n",
       "    </tr>\n",
       "    <tr>\n",
       "      <th>33</th>\n",
       "      <td>10187159</td>\n",
       "      <td>0.629314</td>\n",
       "      <td>0.006585</td>\n",
       "      <td>0.496911</td>\n",
       "      <td>0.065952</td>\n",
       "      <td>0.008464</td>\n",
       "      <td>0.925584</td>\n",
       "    </tr>\n",
       "    <tr>\n",
       "      <th>35</th>\n",
       "      <td>10287723</td>\n",
       "      <td>0.280589</td>\n",
       "      <td>0.001466</td>\n",
       "      <td>0.405306</td>\n",
       "      <td>0.040975</td>\n",
       "      <td>0.031507</td>\n",
       "      <td>0.927518</td>\n",
       "    </tr>\n",
       "    <tr>\n",
       "      <th>47</th>\n",
       "      <td>10668646</td>\n",
       "      <td>0.703130</td>\n",
       "      <td>0.005746</td>\n",
       "      <td>0.515208</td>\n",
       "      <td>0.056870</td>\n",
       "      <td>0.008642</td>\n",
       "      <td>0.934488</td>\n",
       "    </tr>\n",
       "    <tr>\n",
       "      <th>69</th>\n",
       "      <td>10842718</td>\n",
       "      <td>0.683020</td>\n",
       "      <td>0.005981</td>\n",
       "      <td>1.509684</td>\n",
       "      <td>0.001625</td>\n",
       "      <td>0.022154</td>\n",
       "      <td>0.976222</td>\n",
       "    </tr>\n",
       "    <tr>\n",
       "      <th>88</th>\n",
       "      <td>11709124</td>\n",
       "      <td>0.853172</td>\n",
       "      <td>0.008887</td>\n",
       "      <td>0.780640</td>\n",
       "      <td>0.053408</td>\n",
       "      <td>0.005088</td>\n",
       "      <td>0.941503</td>\n",
       "    </tr>\n",
       "    <tr>\n",
       "      <th>123</th>\n",
       "      <td>3218908</td>\n",
       "      <td>0.457690</td>\n",
       "      <td>0.005104</td>\n",
       "      <td>0.888443</td>\n",
       "      <td>0.064324</td>\n",
       "      <td>0.005156</td>\n",
       "      <td>0.930520</td>\n",
       "    </tr>\n",
       "    <tr>\n",
       "      <th>126</th>\n",
       "      <td>3239945</td>\n",
       "      <td>0.844417</td>\n",
       "      <td>0.019503</td>\n",
       "      <td>0.672062</td>\n",
       "      <td>0.190234</td>\n",
       "      <td>0.010643</td>\n",
       "      <td>0.799123</td>\n",
       "    </tr>\n",
       "    <tr>\n",
       "      <th>127</th>\n",
       "      <td>3239945</td>\n",
       "      <td>0.829935</td>\n",
       "      <td>0.018841</td>\n",
       "      <td>0.670561</td>\n",
       "      <td>0.173386</td>\n",
       "      <td>0.010187</td>\n",
       "      <td>0.816428</td>\n",
       "    </tr>\n",
       "    <tr>\n",
       "      <th>161</th>\n",
       "      <td>4754460</td>\n",
       "      <td>0.668581</td>\n",
       "      <td>0.002955</td>\n",
       "      <td>0.681862</td>\n",
       "      <td>0.032905</td>\n",
       "      <td>0.008639</td>\n",
       "      <td>0.958455</td>\n",
       "    </tr>\n",
       "    <tr>\n",
       "      <th>245</th>\n",
       "      <td>6551440</td>\n",
       "      <td>0.360650</td>\n",
       "      <td>0.001092</td>\n",
       "      <td>0.468938</td>\n",
       "      <td>0.009473</td>\n",
       "      <td>0.022588</td>\n",
       "      <td>0.967939</td>\n",
       "    </tr>\n",
       "    <tr>\n",
       "      <th>329</th>\n",
       "      <td>8505215</td>\n",
       "      <td>0.280612</td>\n",
       "      <td>0.001886</td>\n",
       "      <td>0.843986</td>\n",
       "      <td>0.010994</td>\n",
       "      <td>0.007600</td>\n",
       "      <td>0.981405</td>\n",
       "    </tr>\n",
       "    <tr>\n",
       "      <th>340</th>\n",
       "      <td>8410697</td>\n",
       "      <td>0.657260</td>\n",
       "      <td>0.005932</td>\n",
       "      <td>0.841373</td>\n",
       "      <td>0.065259</td>\n",
       "      <td>0.005122</td>\n",
       "      <td>0.929620</td>\n",
       "    </tr>\n",
       "    <tr>\n",
       "      <th>341</th>\n",
       "      <td>8410697</td>\n",
       "      <td>0.657074</td>\n",
       "      <td>0.005928</td>\n",
       "      <td>0.833006</td>\n",
       "      <td>0.063753</td>\n",
       "      <td>0.005129</td>\n",
       "      <td>0.931118</td>\n",
       "    </tr>\n",
       "    <tr>\n",
       "      <th>350</th>\n",
       "      <td>8426957</td>\n",
       "      <td>0.350858</td>\n",
       "      <td>0.001459</td>\n",
       "      <td>1.387042</td>\n",
       "      <td>0.000070</td>\n",
       "      <td>0.052694</td>\n",
       "      <td>0.947236</td>\n",
       "    </tr>\n",
       "    <tr>\n",
       "      <th>351</th>\n",
       "      <td>8800954</td>\n",
       "      <td>0.371780</td>\n",
       "      <td>0.003040</td>\n",
       "      <td>0.663874</td>\n",
       "      <td>0.035883</td>\n",
       "      <td>0.008782</td>\n",
       "      <td>0.955335</td>\n",
       "    </tr>\n",
       "    <tr>\n",
       "      <th>352</th>\n",
       "      <td>8800954</td>\n",
       "      <td>0.361077</td>\n",
       "      <td>0.003119</td>\n",
       "      <td>0.656530</td>\n",
       "      <td>0.037372</td>\n",
       "      <td>0.008749</td>\n",
       "      <td>0.953879</td>\n",
       "    </tr>\n",
       "    <tr>\n",
       "      <th>363</th>\n",
       "      <td>8738735</td>\n",
       "      <td>0.376173</td>\n",
       "      <td>0.001313</td>\n",
       "      <td>1.221386</td>\n",
       "      <td>0.001071</td>\n",
       "      <td>0.021260</td>\n",
       "      <td>0.977669</td>\n",
       "    </tr>\n",
       "  </tbody>\n",
       "</table>\n",
       "</div>"
      ],
      "text/plain": [
       "        kicid        rp  transit_depth  transit_duration     pr_eb     pr_bg  \\\n",
       "6    10321319  0.184335       0.000390          0.716957  0.000016  0.158817   \n",
       "33   10187159  0.629314       0.006585          0.496911  0.065952  0.008464   \n",
       "35   10287723  0.280589       0.001466          0.405306  0.040975  0.031507   \n",
       "47   10668646  0.703130       0.005746          0.515208  0.056870  0.008642   \n",
       "69   10842718  0.683020       0.005981          1.509684  0.001625  0.022154   \n",
       "88   11709124  0.853172       0.008887          0.780640  0.053408  0.005088   \n",
       "123   3218908  0.457690       0.005104          0.888443  0.064324  0.005156   \n",
       "126   3239945  0.844417       0.019503          0.672062  0.190234  0.010643   \n",
       "127   3239945  0.829935       0.018841          0.670561  0.173386  0.010187   \n",
       "161   4754460  0.668581       0.002955          0.681862  0.032905  0.008639   \n",
       "245   6551440  0.360650       0.001092          0.468938  0.009473  0.022588   \n",
       "329   8505215  0.280612       0.001886          0.843986  0.010994  0.007600   \n",
       "340   8410697  0.657260       0.005932          0.841373  0.065259  0.005122   \n",
       "341   8410697  0.657074       0.005928          0.833006  0.063753  0.005129   \n",
       "350   8426957  0.350858       0.001459          1.387042  0.000070  0.052694   \n",
       "351   8800954  0.371780       0.003040          0.663874  0.035883  0.008782   \n",
       "352   8800954  0.361077       0.003119          0.656530  0.037372  0.008749   \n",
       "363   8738735  0.376173       0.001313          1.221386  0.001071  0.021260   \n",
       "\n",
       "        pr_pl  \n",
       "6    0.841167  \n",
       "33   0.925584  \n",
       "35   0.927518  \n",
       "47   0.934488  \n",
       "69   0.976222  \n",
       "88   0.941503  \n",
       "123  0.930520  \n",
       "126  0.799123  \n",
       "127  0.816428  \n",
       "161  0.958455  \n",
       "245  0.967939  \n",
       "329  0.981405  \n",
       "340  0.929620  \n",
       "341  0.931118  \n",
       "350  0.947236  \n",
       "351  0.955335  \n",
       "352  0.953879  \n",
       "363  0.977669  "
      ]
     },
     "execution_count": 275,
     "metadata": {},
     "output_type": "execute_result"
    }
   ],
   "source": [
    "candidates[['kicid','rp','transit_depth', 'transit_duration', 'pr_eb', 'pr_bg', 'pr_pl']]"
   ]
  },
  {
   "cell_type": "code",
   "execution_count": null,
   "metadata": {
    "collapsed": true
   },
   "outputs": [],
   "source": []
  }
 ],
 "metadata": {
  "kernelspec": {
   "display_name": "Python 2",
   "language": "python",
   "name": "python2"
  },
  "language_info": {
   "codemirror_mode": {
    "name": "ipython",
    "version": 2
   },
   "file_extension": ".py",
   "mimetype": "text/x-python",
   "name": "python",
   "nbconvert_exporter": "python",
   "pygments_lexer": "ipython2",
   "version": "2.7.11"
  }
 },
 "nbformat": 4,
 "nbformat_minor": 0
}
