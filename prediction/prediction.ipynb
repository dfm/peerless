{
 "cells": [
  {
   "cell_type": "code",
   "execution_count": 1,
   "metadata": {
    "collapsed": false
   },
   "outputs": [],
   "source": [
    "# Set up plot stuff the DFM way:\n",
    "\n",
    "%run ../document/figures/plot_setup.py"
   ]
  },
  {
   "cell_type": "code",
   "execution_count": 2,
   "metadata": {
    "collapsed": false
   },
   "outputs": [],
   "source": [
    "# Get target list; this follows the selection in ../document/figures/targets.py \n",
    "import sys\n",
    "sys.path.append('..')\n",
    "\n",
    "from peerless.catalogs import KICatalog, KOICatalog, EBCatalog, BlacklistCatalog\n",
    "import numpy as np\n",
    "import pandas as pd\n",
    "\n",
    "stlr = KICatalog().df\n",
    "m = (4200 <= stlr.teff) & (stlr.teff <= 6100)\n",
    "m &= stlr.radius <= 1.15\n",
    "m &= stlr.dataspan > 365.25*2.\n",
    "m &= stlr.dutycycle > 0.6\n",
    "m &= stlr.rrmscdpp07p5 <= 1000.\n",
    "m &= stlr.kepmag < 15.\n",
    "\n",
    "# known EBs\n",
    "ebs = set(np.array(EBCatalog().df[\"#KIC\"]))\n",
    "\n",
    "# KOI false positives\n",
    "kois = KOICatalog().df\n",
    "kois = kois[kois.koi_disposition == \"FALSE POSITIVE\"]\n",
    "fps = set(np.array(kois.kepid))\n",
    "\n",
    "# And then finally the blacklist.\n",
    "bl = set(np.array(BlacklistCatalog().df.kicid))\n",
    "\n",
    "# The full list of ignores.\n",
    "ignore = fps | bl #ebs | fps | bl  #Don't ignore EBs for purposes of prediction\n",
    "m &= ~stlr.kepid.isin(ignore)\n",
    "\n",
    "targets = stlr[m]"
   ]
  },
  {
   "cell_type": "code",
   "execution_count": 3,
   "metadata": {
    "collapsed": false
   },
   "outputs": [
    {
     "data": {
      "text/plain": [
       "kepid    39626\n",
       "mass     38983\n",
       "feh      39626\n",
       "dtype: int64"
      ]
     },
     "execution_count": 3,
     "metadata": {},
     "output_type": "execute_result"
    }
   ],
   "source": [
    "targets[['kepid','mass','feh']].count()"
   ]
  },
  {
   "cell_type": "code",
   "execution_count": 4,
   "metadata": {
    "collapsed": false
   },
   "outputs": [
    {
     "name": "stderr",
     "output_type": "stream",
     "text": [
      "/u/tdm/anaconda/lib/python2.7/site-packages/pandas/core/indexing.py:426: SettingWithCopyWarning: \n",
      "A value is trying to be set on a copy of a slice from a DataFrame.\n",
      "Try using .loc[row_indexer,col_indexer] = value instead\n",
      "\n",
      "See the caveats in the documentation: http://pandas.pydata.org/pandas-docs/stable/indexing.html#indexing-view-versus-copy\n",
      "  self.obj[item] = s\n"
     ]
    }
   ],
   "source": [
    "# funny, there seem to be some missing masses.  Let's artificially add those in, with M=R\n",
    "bad = targets.mass.isnull()\n",
    "targets.loc[bad, 'mass'] = targets.loc[bad, 'radius']"
   ]
  },
  {
   "cell_type": "code",
   "execution_count": 5,
   "metadata": {
    "collapsed": false,
    "scrolled": true
   },
   "outputs": [
    {
     "name": "stderr",
     "output_type": "stream",
     "text": [
      "/u/tdm/anaconda/lib/python2.7/site-packages/matplotlib/font_manager.py:273: UserWarning: Matplotlib is building the font cache using fc-list. This may take a moment.\n",
      "  warnings.warn('Matplotlib is building the font cache using fc-list. This may take a moment.')\n",
      "WARNING:root:progressbar not imported\n"
     ]
    }
   ],
   "source": [
    "from exosyspop import KeplerBinaryPopulation, TRILEGAL_BGBinaryPopulation"
   ]
  },
  {
   "cell_type": "code",
   "execution_count": 6,
   "metadata": {
    "collapsed": true
   },
   "outputs": [],
   "source": [
    "ebpop = KeplerBinaryPopulation(targets, ecc_empirical=True)\n",
    "bgstars = pd.read_hdf('bgstars.h5','df')\n",
    "bgpop = TRILEGAL_BGBinaryPopulation(targets, bgstars, ecc_empirical=True)"
   ]
  },
  {
   "cell_type": "code",
   "execution_count": 7,
   "metadata": {
    "collapsed": false
   },
   "outputs": [
    {
     "name": "stdout",
     "output_type": "stream",
     "text": [
      "EB: dmag regressor trained, R2=0.999512166935\n",
      "EB: qR regressor trained, R2=0.999467814601\n"
     ]
    },
    {
     "name": "stderr",
     "output_type": "stream",
     "text": [
      "/u/tdm/anaconda/lib/python2.7/site-packages/matplotlib/figure.py:1744: UserWarning: This figure includes Axes that are not compatible with tight_layout, so its results might be incorrect.\n",
      "  warnings.warn(\"This figure includes Axes that are not \"\n"
     ]
    },
    {
     "data": {
      "image/png": "[encoded data removed]",
      "text/plain": [
       "<matplotlib.figure.Figure at 0x7f95644ddf10>"
      ]
     },
     "metadata": {},
     "output_type": "display_data"
    }
   ],
   "source": [
    "%matplotlib inline\n",
    "import matplotlib.pyplot as plt\n",
    "\n",
    "plt.hist(np.log10(ebpop.period), bins=20, histtype='step', lw=3);\n",
    "plt.xlabel('log10(Period)');"
   ]
  },
  {
   "cell_type": "code",
   "execution_count": 8,
   "metadata": {
    "collapsed": false
   },
   "outputs": [
    {
     "data": {
      "text/plain": [
       "{'beta_a': 0.8,\n",
       " 'beta_b': 2.0,\n",
       " 'fB': 0.44,\n",
       " 'gamma': 0.3,\n",
       " 'mu_logp': 2.3979400086720375,\n",
       " 'period_min': 5.0,\n",
       " 'qmin': 0.1,\n",
       " 'sig_logp': 2.3}"
      ]
     },
     "execution_count": 8,
     "metadata": {},
     "output_type": "execute_result"
    }
   ],
   "source": [
    "ebpop.params"
   ]
  },
  {
   "cell_type": "code",
   "execution_count": 9,
   "metadata": {
    "collapsed": false
   },
   "outputs": [
    {
     "name": "stdout",
     "output_type": "stream",
     "text": [
      "BGEB: dmag regressor trained, R2=0.961960907614\n",
      "BGEB: qR regressor trained, R2=0.826769870541\n",
      "53 EBs\n",
      "49 BEBs\n"
     ]
    }
   ],
   "source": [
    "q = 'period > 20 and period < 1000 and ((n_pri > 0 and ' +\\\n",
    "    'n_sec > 0) or (n_pri > 2 or n_sec > 2)) and (T14_pri < 2.5 or T14_sec < 2.5)'\n",
    "ebs = ebpop.observe(new=True).query(q)\n",
    "bgs = bgpop.observe(new=True).query(q)\n",
    "print('{} EBs'.format(len(ebs)))\n",
    "print('{} BEBs'.format(len(bgs)))"
   ]
  },
  {
   "cell_type": "markdown",
   "metadata": {},
   "source": [
    "OK, this is how many EBs we predict there to be with periods between 20 and 1000 days.  How does this compare with the actual EB catalog?"
   ]
  },
  {
   "cell_type": "code",
   "execution_count": 10,
   "metadata": {
    "collapsed": false
   },
   "outputs": [
    {
     "data": {
      "text/plain": [
       "104.73989897725737"
      ]
     },
     "execution_count": 10,
     "metadata": {},
     "output_type": "execute_result"
    }
   ],
   "source": [
    "# Total number of Kepler EBs with 20 < P < 1000, scaled by number of targets\n",
    "from __future__ import division\n",
    "len(EBCatalog().df.query('period>20 and period < 1000')) * (len(targets)/len(KICatalog().df))"
   ]
  },
  {
   "cell_type": "markdown",
   "metadata": {},
   "source": [
    "Let's do a bunch of these observation simulations and see what it looks like:"
   ]
  },
  {
   "cell_type": "code",
   "execution_count": 11,
   "metadata": {
    "collapsed": true
   },
   "outputs": [],
   "source": [
    "n_obs = [len(ebpop.observe(new=True).query(q)) for i in range(200)]"
   ]
  },
  {
   "cell_type": "code",
   "execution_count": 12,
   "metadata": {
    "collapsed": false
   },
   "outputs": [
    {
     "data": {
      "image/png": "[encoded data removed]",
      "text/plain": [
       "<matplotlib.figure.Figure at 0x7f956660f4d0>"
      ]
     },
     "metadata": {},
     "output_type": "display_data"
    }
   ],
   "source": [
    "plt.hist(n_obs, histtype='step', lw=3, bins=10, color='k');\n",
    "plt.axvline(104.74, color='r', ls='--', lw=3);"
   ]
  },
  {
   "cell_type": "markdown",
   "metadata": {},
   "source": [
    "Now we want to know what's the typical number of single/double eclipse signals."
   ]
  },
  {
   "cell_type": "code",
   "execution_count": 13,
   "metadata": {
    "collapsed": false
   },
   "outputs": [],
   "source": [
    "dfm_q = 'n_pri < 3 and n_sec < 3 and (n_pri==0 or n_sec==0)'\n",
    "dfm_q += ' and ((T14_pri < 2.5 or n_pri==0) or (T14_sec < 2.5 or n_sec==0))'\n",
    "nobs_eb = [len(ebpop.observe(new=True).query(dfm_q)) for i in range(200)]\n",
    "nobs_bg = [len(bgpop.observe(new=True).query(dfm_q)) for i in range(200)]"
   ]
  },
  {
   "cell_type": "code",
   "execution_count": 14,
   "metadata": {
    "collapsed": false
   },
   "outputs": [
    {
     "data": {
      "text/plain": [
       "<matplotlib.legend.Legend at 0x7f95568287d0>"
      ]
     },
     "execution_count": 14,
     "metadata": {},
     "output_type": "execute_result"
    },
    {
     "data": {
      "image/png": "[encoded data removed]",
      "text/plain": [
       "<matplotlib.figure.Figure at 0x7f95644e4510>"
      ]
     },
     "metadata": {},
     "output_type": "display_data"
    }
   ],
   "source": [
    "plt.hist(nobs_eb, histtype='step', lw=3, label='EB');\n",
    "plt.hist(nobs_bg, histtype='step', lw=3, label='BEB');\n",
    "plt.legend()"
   ]
  },
  {
   "cell_type": "markdown",
   "metadata": {},
   "source": [
    "OK, now let's determine the typical shapes.  Let's do this with a big sample of simulated observations.  The secondary property/trapezoid shape regressions need some debugging for the background population, so let's just use isochrones and fit trapezoids directly."
   ]
  },
  {
   "cell_type": "code",
   "execution_count": 16,
   "metadata": {
    "collapsed": false,
    "scrolled": true
   },
   "outputs": [
    {
     "name": "stdout",
     "output_type": "stream",
     "text": [
      "7\n",
      "14\n",
      "21\n",
      "26\n",
      "32\n",
      "41\n",
      "50\n",
      "60\n",
      "66\n",
      "78\n",
      "83\n",
      "91\n",
      "97\n",
      "107\n",
      "108\n",
      "113\n",
      "119\n",
      "127\n",
      "130\n",
      "134\n",
      "146\n",
      "158\n",
      "160\n",
      "166\n",
      "173\n",
      "179\n",
      "190\n",
      "202\n",
      "206\n",
      "210\n",
      "219\n",
      "231\n",
      "240\n",
      "242\n",
      "252\n",
      "255\n",
      "264\n",
      "274\n",
      "286\n",
      "294\n",
      "308\n",
      "314\n",
      "320\n",
      "327\n",
      "333\n",
      "340\n",
      "346\n",
      "349\n",
      "359\n",
      "366\n",
      "369\n",
      "376\n",
      "387\n",
      "393\n",
      "397\n",
      "403\n",
      "406\n",
      "410\n",
      "414\n",
      "421\n",
      "425\n",
      "433\n",
      "439\n",
      "445\n",
      "456\n",
      "459\n",
      "468\n",
      "473\n",
      "478\n",
      "485\n",
      "496\n",
      "504\n",
      "510\n",
      "513\n",
      "519\n",
      "528\n",
      "538\n",
      "543\n",
      "552\n",
      "560\n",
      "567\n",
      "574\n",
      "582\n",
      "587\n",
      "599\n",
      "606\n",
      "613\n",
      "621\n",
      "630\n",
      "634\n",
      "646\n",
      "652\n",
      "657\n",
      "663\n",
      "671\n",
      "677\n",
      "682\n",
      "688\n",
      "700\n",
      "709\n",
      "717\n",
      "730\n",
      "740\n",
      "745\n",
      "753\n",
      "765\n",
      "773\n",
      "779\n",
      "788\n",
      "793\n",
      "798\n",
      "804\n",
      "813\n",
      "822\n",
      "829\n",
      "837\n",
      "840\n",
      "844\n",
      "855\n",
      "862\n",
      "865\n",
      "872\n",
      "882\n",
      "889\n",
      "898\n",
      "902\n",
      "910\n",
      "916\n",
      "922\n",
      "928\n",
      "938\n",
      "948\n",
      "957\n",
      "963\n",
      "971\n",
      "978\n",
      "986\n",
      "994\n",
      "1001\n",
      "3\n",
      "7\n",
      "10\n",
      "17\n",
      "21\n",
      "26\n",
      "33\n",
      "39\n",
      "41\n",
      "44\n",
      "49\n",
      "57\n",
      "59\n",
      "65\n",
      "71\n",
      "74\n",
      "79\n",
      "84\n",
      "90\n",
      "97\n",
      "102\n",
      "108\n",
      "110\n",
      "112\n",
      "116\n",
      "123\n",
      "130\n",
      "139\n",
      "143\n",
      "148\n",
      "152\n",
      "159\n",
      "163\n",
      "169\n",
      "175\n",
      "181\n",
      "184\n",
      "191\n",
      "198\n",
      "200\n",
      "205\n",
      "207\n",
      "211\n",
      "216\n",
      "219\n",
      "225\n",
      "226\n",
      "229\n",
      "233\n",
      "236\n",
      "239\n",
      "247\n",
      "254\n",
      "256\n",
      "260\n",
      "264\n",
      "269\n",
      "271\n",
      "276\n",
      "279\n",
      "282\n",
      "284\n",
      "292\n",
      "297\n",
      "301\n",
      "309\n",
      "311\n",
      "317\n",
      "322\n",
      "325\n",
      "326\n",
      "332\n",
      "338\n",
      "344\n",
      "349\n",
      "351\n",
      "359\n",
      "367\n",
      "369\n",
      "376\n",
      "377\n",
      "381\n",
      "385\n",
      "391\n",
      "395\n",
      "399\n",
      "406\n",
      "408\n",
      "413\n",
      "415\n",
      "420\n",
      "423\n",
      "425\n",
      "432\n",
      "439\n",
      "446\n",
      "450\n",
      "455\n",
      "461\n",
      "462\n",
      "463\n",
      "467\n",
      "469\n",
      "477\n",
      "481\n",
      "487\n",
      "498\n",
      "501\n",
      "507\n",
      "511\n",
      "513\n",
      "517\n",
      "523\n",
      "530\n",
      "538\n",
      "542\n",
      "546\n",
      "553\n",
      "561\n",
      "564\n",
      "567\n",
      "573\n",
      "576\n",
      "582\n",
      "586\n",
      "589\n",
      "590\n",
      "594\n",
      "599\n",
      "606\n",
      "607\n",
      "612\n",
      "614\n",
      "620\n",
      "625\n",
      "627\n",
      "630\n",
      "634\n",
      "636\n",
      "638\n",
      "643\n",
      "648\n",
      "654\n",
      "661\n",
      "665\n",
      "672\n",
      "674\n",
      "675\n",
      "679\n",
      "685\n",
      "688\n",
      "694\n",
      "696\n",
      "699\n",
      "707\n",
      "713\n",
      "715\n",
      "723\n",
      "726\n",
      "729\n",
      "736\n",
      "740\n",
      "748\n",
      "753\n",
      "757\n",
      "761\n",
      "766\n",
      "774\n",
      "783\n",
      "790\n",
      "794\n",
      "799\n",
      "800\n",
      "806\n",
      "814\n",
      "817\n",
      "821\n",
      "822\n",
      "825\n",
      "830\n",
      "836\n",
      "845\n",
      "850\n",
      "859\n",
      "863\n",
      "867\n",
      "869\n",
      "876\n",
      "883\n",
      "888\n",
      "891\n",
      "897\n",
      "906\n",
      "912\n",
      "915\n",
      "920\n",
      "924\n",
      "928\n",
      "935\n",
      "944\n",
      "949\n",
      "958\n",
      "964\n",
      "969\n",
      "972\n",
      "975\n",
      "978\n",
      "984\n",
      "993\n",
      "997\n",
      "1000\n"
     ]
    }
   ],
   "source": [
    "#Be patient, this takes a few minutes...verbosity to keep you company.\n",
    "N = 1000\n",
    "#q = 'period > 20 and period < 1000 and (T14_pri < 2.5 or T14_sec < 2.5)'\n",
    "eb_obs = ebpop.get_N_observed(query=dfm_q, N=N, fit_trap=True, regr_trap=False, \n",
    "                              use_ic=True, verbose=True)\n",
    "bg_obs = bgpop.get_N_observed(query=dfm_q, N=N, fit_trap=True, regr_trap=False,\n",
    "                              use_ic=True, verbose=True)"
   ]
  },
  {
   "cell_type": "code",
   "execution_count": 26,
   "metadata": {
    "collapsed": false
   },
   "outputs": [],
   "source": [
    "from scipy.stats import gaussian_kde\n",
    "\n",
    "def get_kde(df, max_duration=2.5):\n",
    "    \n",
    "    pri = df.n_pri > 0\n",
    "    sec = df.n_sec > 0\n",
    "\n",
    "    depth = (pri*df.trap_depth_pri + sec*df.trap_depth_sec) * df.dilution\n",
    "    duration = pri*df.trap_dur_pri + sec*df.trap_dur_sec            \n",
    "        \n",
    "    ok = np.isfinite(np.log10(depth)) & (duration < max_duration)\n",
    "    return gaussian_kde(np.array([duration[ok], np.log10(depth)[ok]]))\n",
    "\n",
    "eb_kde = get_kde(eb_obs)\n",
    "bg_kde = get_kde(bg_obs)"
   ]
  },
  {
   "cell_type": "markdown",
   "metadata": {},
   "source": [
    "OK, now let's load up the candidates."
   ]
  },
  {
   "cell_type": "code",
   "execution_count": 27,
   "metadata": {
    "collapsed": false
   },
   "outputs": [
    {
     "data": {
      "text/html": [
       "<div>\n",
       "<table border=\"1\" class=\"dataframe\">\n",
       "  <thead>\n",
       "    <tr style=\"text-align: right;\">\n",
       "      <th></th>\n",
       "      <th>depth</th>\n",
       "      <th>transit_duration</th>\n",
       "    </tr>\n",
       "  </thead>\n",
       "  <tbody>\n",
       "    <tr>\n",
       "      <th>17</th>\n",
       "      <td>0.003340</td>\n",
       "      <td>0.393807</td>\n",
       "    </tr>\n",
       "    <tr>\n",
       "      <th>27</th>\n",
       "      <td>0.078353</td>\n",
       "      <td>1.157742</td>\n",
       "    </tr>\n",
       "    <tr>\n",
       "      <th>39</th>\n",
       "      <td>0.015872</td>\n",
       "      <td>0.684503</td>\n",
       "    </tr>\n",
       "    <tr>\n",
       "      <th>40</th>\n",
       "      <td>0.015061</td>\n",
       "      <td>0.684186</td>\n",
       "    </tr>\n",
       "    <tr>\n",
       "      <th>43</th>\n",
       "      <td>0.023301</td>\n",
       "      <td>0.361075</td>\n",
       "    </tr>\n",
       "  </tbody>\n",
       "</table>\n",
       "</div>"
      ],
      "text/plain": [
       "       depth  transit_duration\n",
       "17  0.003340          0.393807\n",
       "27  0.078353          1.157742\n",
       "39  0.015872          0.684503\n",
       "40  0.015061          0.684186\n",
       "43  0.023301          0.361075"
      ]
     },
     "execution_count": 27,
     "metadata": {},
     "output_type": "execute_result"
    }
   ],
   "source": [
    "candidates = pd.read_csv('../results/candidates.csv').query('accept_bic and accept_time and num_peaks <= 2')\n",
    "candidates[['depth','transit_duration']].head()"
   ]
  },
  {
   "cell_type": "code",
   "execution_count": 28,
   "metadata": {
    "collapsed": false
   },
   "outputs": [
    {
     "data": {
      "image/png": "[encoded data removed]",
      "text/plain": [
       "<matplotlib.figure.Figure at 0x7f9556b46610>"
      ]
     },
     "metadata": {},
     "output_type": "display_data"
    }
   ],
   "source": [
    "def plot_kde(kde, ax=None, dur_range=(0,2.5), depth_range=(-6,0), \n",
    "            cands=candidates, **kwargs):\n",
    "    if ax is None:\n",
    "        fig, ax = plt.subplots(1,1)\n",
    "        \n",
    "    dur_grid = np.arange(dur_range[0], dur_range[1], 0.02)\n",
    "    depth_grid = np.arange(depth_range[0], depth_range[1], 0.02)\n",
    "    xx, yy = np.meshgrid(dur_grid, depth_grid)\n",
    "    f = kde(np.vstack([xx.ravel(),yy.ravel()])).reshape(xx.shape)\n",
    "    ax.imshow(f, origin='lower', extent=[dur_range[0], dur_range[1],\n",
    "                                         depth_range[0], depth_range[1]], \n",
    "               aspect='auto', cmap='binary', **kwargs)\n",
    "    ax.set_xlabel('Duration [days]')\n",
    "    ax.set_ylabel('log(depth)')\n",
    "    \n",
    "    if cands is not None:\n",
    "        ax.plot(cands.transit_duration, np.log10(cands.depth), 'rx', ms=10)\n",
    "    \n",
    "fig, axes = plt.subplots(1,2, figsize=(10,4), sharey=True)\n",
    "plot_kde(eb_kde, ax=axes[0])\n",
    "plot_kde(bg_kde, ax=axes[1])\n",
    "axes[1].set_ylabel('')\n",
    "plt.subplots_adjust(wspace=0)\n",
    "for ax,title in zip(axes, ['EB','BEB']):\n",
    "    ax.annotate(title, xy=(0.8,0.1), xycoords='axes fraction', fontsize=22)"
   ]
  }
 ],
 "metadata": {
  "kernelspec": {
   "display_name": "Python 2",
   "language": "python",
   "name": "python2"
  },
  "language_info": {
   "codemirror_mode": {
    "name": "ipython",
    "version": 2
   },
   "file_extension": ".py",
   "mimetype": "text/x-python",
   "name": "python",
   "nbconvert_exporter": "python",
   "pygments_lexer": "ipython2",
   "version": "2.7.11"
  }
 },
 "nbformat": 4,
 "nbformat_minor": 0
}
