{
 "cells": [
  {
   "cell_type": "markdown",
   "metadata": {},
   "source": [
    "# False Positive predictions for single/double-transit Kepler signals "
   ]
  },
  {
   "cell_type": "markdown",
   "metadata": {},
   "source": [
    "The following analysis was executed using commit `e4f54288` of the [exosyspop](github.com/timothydmorton/exosyspop) module."
   ]
  },
  {
   "cell_type": "markdown",
   "metadata": {},
   "source": [
    "## Setup"
   ]
  },
  {
   "cell_type": "code",
   "execution_count": 1,
   "metadata": {
    "collapsed": false,
    "scrolled": true
   },
   "outputs": [
    {
     "name": "stdout",
     "output_type": "stream",
     "text": [
      "Saving 39036 targets to /Users/tdm/peerless/catalogs/targets.csv\r\n"
     ]
    }
   ],
   "source": [
    "%matplotlib inline\n",
    "from __future__ import print_function, division\n",
    "\n",
    "import matplotlib.pyplot as plt\n",
    "import pandas as pd\n",
    "import numpy as np\n",
    "\n",
    "# Set up plot stuff the DFM way:\n",
    "%run ../peerless/plot_setup.py\n",
    "\n",
    "# Retrieve the target catalog\n",
    "!../scripts/peerless-targets\n",
    "\n",
    "from peerless.catalogs import TargetCatalog, EBCatalog, KICatalog\n",
    "targets = TargetCatalog().df\n",
    "targets.index = targets.kepid\n",
    "\n",
    "# Some targets have missing masses.  Let's artificially add those in, with M=R\n",
    "bad = targets.mass.isnull()\n",
    "targets.loc[bad, 'mass'] = targets.loc[bad, 'radius']\n",
    "\n",
    "# Calculate galactic latitude of target stars, for later use.\n",
    "from astropy.coordinates import SkyCoord\n",
    "c = SkyCoord(targets.ra, targets.dec, unit='deg')\n",
    "targets['b'] = c.galactic.b.deg\n",
    "\n",
    "# Download (or load) BG star simulation of the middle of the Kepler field, using TRILEGAL, via vespa\n",
    "try:\n",
    "    bgstars = pd.read_hdf('bgstars.h5', 'df')\n",
    "except:\n",
    "    from vespa.stars.trilegal import get_trilegal    \n",
    "    get_trilegal('bgstars.h5', 290.6654895, 44.48410232)\n",
    "    bgstars = pd.read_hdf('bgstars.h5', 'df')"
   ]
  },
  {
   "cell_type": "markdown",
   "metadata": {},
   "source": [
    "## Calibrate EB population parameters to match Kepler EB catalog"
   ]
  },
  {
   "cell_type": "code",
   "execution_count": 2,
   "metadata": {
    "collapsed": false
   },
   "outputs": [
    {
     "name": "stdout",
     "output_type": "stream",
     "text": [
      "136.401367662\n",
      "EB: dmag regressor trained, R2=0.999481037605\n",
      "EB: qR regressor trained, R2=0.999475105147\n",
      "145\n"
     ]
    },
    {
     "name": "stderr",
     "output_type": "stream",
     "text": [
      "/Users/tdm/anaconda/lib/python2.7/site-packages/matplotlib/figure.py:1744: UserWarning: This figure includes Axes that are not compatible with tight_layout, so its results might be incorrect.\n",
      "  warnings.warn(\"This figure includes Axes that are not \"\n"
     ]
    },
    {
     "data": {
      "image/png": "[encoded data removed]",
      "text/plain": [
       "<matplotlib.figure.Figure at 0x11f219990>"
      ]
     },
     "metadata": {},
     "output_type": "display_data"
    }
   ],
   "source": [
    "from exosyspop.populations import KeplerPowerLawBinaryPopulation\n",
    "\n",
    "# Initialize population object\n",
    "ebpop = KeplerPowerLawBinaryPopulation(targets)\n",
    "\n",
    "# These parameters have been found to work well\n",
    "min_period = 20\n",
    "max_period = 25*365.25\n",
    "fB = 0.25\n",
    "beta = -1.0\n",
    "ebpop.set_params(beta=beta, period_min=min_period, period_max=max_period, fB=fB)\n",
    "\n",
    "# Query to emulate Kepler EB selection: less than 1000 days;\n",
    "#  both primary and secondary eclipse found, or greater than two of either;\n",
    "#  duration less than 2.5 days.\n",
    "q = 'period > {} and period < 1000 and '.format(min_period) +\\\n",
    "    '((n_pri > 0 and n_sec > 0) or ' +\\\n",
    "     '(n_pri > 2 or n_sec > 2)) and (T14_pri < 2.5 or T14_sec < 2.5)'\n",
    "\n",
    "kep_ebs = EBCatalog().df.query('{} < period < 1000'.format(min_period))\n",
    "n_exp = len(kep_ebs) * (len(targets)/len(KICatalog().df))\n",
    "print(n_exp)\n",
    "plt.hist(np.log10(kep_ebs.period), \n",
    "         histtype='step', lw=3, normed=True, label='Observed');\n",
    "new_obs = ebpop.observe(new_orbits=True).query(q)\n",
    "plt.hist(np.log10(new_obs.period), label='Simulated',\n",
    "        histtype='step', lw=3, normed=True);\n",
    "plt.legend()\n",
    "print(len(new_obs))"
   ]
  },
  {
   "cell_type": "code",
   "execution_count": 3,
   "metadata": {
    "collapsed": false
   },
   "outputs": [
    {
     "data": {
      "text/plain": [
       "{'beta': -1.0,\n",
       " 'beta_a': 0.8,\n",
       " 'beta_b': 2.0,\n",
       " 'fB': 0.25,\n",
       " 'gamma': 0.3,\n",
       " 'period_max': 9131.25,\n",
       " 'period_min': 20,\n",
       " 'qmin': 0.1}"
      ]
     },
     "execution_count": 3,
     "metadata": {},
     "output_type": "execute_result"
    }
   ],
   "source": [
    "ebpop.params"
   ]
  },
  {
   "cell_type": "markdown",
   "metadata": {},
   "source": [
    "OK, the above parameters qualitatively match the period distribution well, what about the total number of detections?  Let's do a bunch of these observation simulations and confirm it looks good:"
   ]
  },
  {
   "cell_type": "code",
   "execution_count": 4,
   "metadata": {
    "collapsed": false
   },
   "outputs": [
    {
     "data": {
      "image/png": "[encoded data removed]",
      "text/plain": [
       "<matplotlib.figure.Figure at 0x142358610>"
      ]
     },
     "metadata": {},
     "output_type": "display_data"
    }
   ],
   "source": [
    "n_obs = [len(ebpop.observe(new_orbits=True).query(q)) for i in range(100)]\n",
    "\n",
    "plt.hist(n_obs, histtype='step', lw=3, bins=10, color='k');\n",
    "plt.axvline(n_exp, color='r', ls='--', lw=3);"
   ]
  },
  {
   "cell_type": "markdown",
   "metadata": {},
   "source": [
    "## Define EB and BEB populations with these parameters.\n",
    "\n",
    "Now that we can roughly match the Kepler EB catalog from 20 to 1000d with these EB population parameters, we want to know what's the typical number of single/double eclipse signals."
   ]
  },
  {
   "cell_type": "code",
   "execution_count": 5,
   "metadata": {
    "collapsed": false
   },
   "outputs": [],
   "source": [
    "# Define a BEB population\n",
    "from exosyspop.populations import TRILEGAL_BGPowerLawBinaryPopulation\n",
    "\n",
    "ebpop = KeplerPowerLawBinaryPopulation(targets)\n",
    "bgpop = TRILEGAL_BGPowerLawBinaryPopulation(targets, bgstars, use_ic=True)"
   ]
  },
  {
   "cell_type": "code",
   "execution_count": 6,
   "metadata": {
    "collapsed": true
   },
   "outputs": [],
   "source": [
    "# Set params to match above\n",
    "pars = dict(period_min=min_period, period_max=max_period, beta=beta, fB=fB)\n",
    "ebpop.set_params(**pars)\n",
    "bgpop.set_params(**pars)\n",
    "\n",
    "## Just \n",
    "#ebpop._generate_binaries()\n",
    "#bgpop._generate_binaries()"
   ]
  },
  {
   "cell_type": "code",
   "execution_count": 7,
   "metadata": {
    "collapsed": false
   },
   "outputs": [
    {
     "name": "stdout",
     "output_type": "stream",
     "text": [
      "EB: dmag regressor trained, R2=0.999500036883\n",
      "EB: qR regressor trained, R2=0.99947245989\n",
      "EB: Depth trained: R2=0.999702660929\n",
      "EB: Duration trained: R2=0.998343729032\n",
      "EB: Slope trained: R2=0.983507073922\n",
      "BGEB: Depth trained: R2=0.998040263779\n",
      "BGEB: Duration trained: R2=0.992783188554\n",
      "BGEB: Slope trained: R2=0.989069626741\n"
     ]
    }
   ],
   "source": [
    "# Train the regressions; calling explicitly allows to do this with N=1000 rather than N=10000\n",
    "ebpop._train_trap(N=1000);\n",
    "bgpop._train_trap(N=1000);"
   ]
  },
  {
   "cell_type": "markdown",
   "metadata": {},
   "source": [
    "## Simulate detected populations of EBs and BEBs\n",
    "\n",
    "Here, we simulate how many EBs and BEBs will be typically detected with \n",
    "\n",
    "* only primary OR secondary eclipses showing\n",
    "* fewer than 3 eclipses \n",
    "* SNR > 15\n",
    "* duration < 2.5d"
   ]
  },
  {
   "cell_type": "code",
   "execution_count": 8,
   "metadata": {
    "collapsed": false
   },
   "outputs": [],
   "source": [
    "n_sim = 100\n",
    "dfm_q = 'n_pri < 3 and n_sec < 3 and ' +\\\n",
    "        '(((n_pri==0 or snr_pri < 15) and snr_sec > 15) or ' +\\\n",
    "        '((n_sec==0 or snr_sec < 15)  and snr_pri > 15))'\n",
    "dfm_q += ' and ((T14_pri < 2.5 and n_pri > 0) or (T14_sec < 2.5 and n_sec > 0))'\n",
    "nobs_eb = [len(ebpop.observe(new_orbits=True, regr_trap=True).query(dfm_q)) for i in range(n_sim)]\n",
    "nobs_bg = [len(bgpop.observe(new_orbits=True, regr_trap=True).query(dfm_q)) for i in range(n_sim)]"
   ]
  },
  {
   "cell_type": "code",
   "execution_count": 26,
   "metadata": {
    "collapsed": false
   },
   "outputs": [
    {
     "data": {
      "text/plain": [
       "(7.2300000000000004,\n",
       " 2.5054141374231924,\n",
       " (0.40999999999999998, 0.58472215624174884))"
      ]
     },
     "execution_count": 26,
     "metadata": {},
     "output_type": "execute_result"
    },
    {
     "data": {
      "image/png": "[encoded data removed]",
      "text/plain": [
       "<matplotlib.figure.Figure at 0x14205ed50>"
      ]
     },
     "metadata": {},
     "output_type": "display_data"
    }
   ],
   "source": [
    "plt.figure(figsize=(8,6))\n",
    "plt.hist(nobs_eb, histtype='step', lw=3, label='EB', bins=10)\n",
    "plt.hist(nobs_bg, histtype='step', lw=3, label='BEB', bins=3)\n",
    "plt.legend();\n",
    "plt.xlim(xmin=-0.3)\n",
    "plt.yticks([])\n",
    "plt.ylabel('Normalized frequency')\n",
    "plt.xlabel('Number of observed single/double eclipses');\n",
    "plt.savefig('N_EBs.pdf', bbox_inches='tight')\n",
    "(np.mean(nobs_eb), np.std(nobs_eb), (np.mean(nobs_bg), np.std(nobs_bg)))"
   ]
  },
  {
   "cell_type": "markdown",
   "metadata": {},
   "source": [
    "## Simulate detected population of planets\n",
    "\n",
    "As a good sanity check, let's make sure we reproduce the detected population of planet signals, given the population model constrained in the paper."
   ]
  },
  {
   "cell_type": "code",
   "execution_count": 10,
   "metadata": {
    "collapsed": false
   },
   "outputs": [],
   "source": [
    "# Here, defining population to match what was fit for in the paper\n",
    "from exosyspop.populations import PlanetPopulation\n",
    "\n",
    "import astropy.constants as const\n",
    "RJUP = const.R_jup.cgs\n",
    "RSUN = const.R_sun.cgs\n",
    "REARTH = const.R_earth.cgs\n",
    "\n",
    "class LongPeriodPlanetPopulation(PlanetPopulation):\n",
    "    \"\"\"\n",
    "    Poisson Population in two bins: 0.1-0.4 RJup and 0.4-1.0 RJup\n",
    "    \n",
    "    From 2 to 25 years, with beta eccentricity distribution\n",
    "    \"\"\"\n",
    "    min_period = 2*365.25\n",
    "    max_period = 25*365.25\n",
    "    \n",
    "    vol1 = (np.log(0.4) - np.log(0.1))*(np.log(max_period) - np.log(min_period))\n",
    "    vol2 = (np.log(1) - np.log(0.4))*(np.log(max_period) - np.log(min_period))\n",
    "    \n",
    "    param_names = ('Gam1', 'Gam2', 'beta_a', 'beta_b')\n",
    "    default_params = {'Gam1':0.4, 'Gam2':0.18,\n",
    "                      'beta_a':1.12, 'beta_b':3.09}\n",
    "    \n",
    "    def _sample_period(self, N):\n",
    "        lo = np.log(self.min_period)\n",
    "        hi = np.log(self.max_period)\n",
    "        logp = np.random.random(N)*(hi - lo) + lo\n",
    "        return np.exp(logp)\n",
    "    \n",
    "    def _sample_Np(self, N):\n",
    "        Gam1, Gam2 = self._get_params(['Gam1', 'Gam2'])\n",
    "        \n",
    "        N_pl = Gam1*self.vol1 + Gam2*self.vol2 # Sum of both bins is total rate\n",
    "        return np.random.poisson(N_pl, size=N)\n",
    "    \n",
    "    def _sample_Rp(self, N):\n",
    "        Gam1, Gam2 = self._get_params(['Gam1', 'Gam2'])\n",
    "        Nexp1 = Gam1*self.vol1\n",
    "        Nexp2 = Gam2*self.vol2\n",
    "        \n",
    "        # Assign radii uniformly in each bin, with appropriate ratio given to each bin\n",
    "        f1 = Nexp1 / (Nexp1 + Nexp2)\n",
    "        u = np.random.random(N)\n",
    "        in_1 = u < f1\n",
    "        in_2 = u >= f1\n",
    "        N1 = in_1.sum()\n",
    "        N2 = in_2.sum()\n",
    "        \n",
    "        Rp = np.ones(N)\n",
    "        lo1, hi1 = np.log(0.1), np.log(0.4)\n",
    "        lo2, hi2 = np.log(0.4), np.log(1)\n",
    "        Rp[in_1] = np.exp(np.random.random(N1)*(hi1 - lo1) + lo1)\n",
    "        Rp[in_2] = np.exp(np.random.random(N2)*(hi2 - lo2) + lo2)\n",
    "        return Rp * RJUP/RSUN"
   ]
  },
  {
   "cell_type": "code",
   "execution_count": 11,
   "metadata": {
    "collapsed": false
   },
   "outputs": [
    {
     "name": "stdout",
     "output_type": "stream",
     "text": [
      "Planet: Depth trained: R2=0.999350816606\n",
      "Planet: Duration trained: R2=0.998843932513\n",
      "Planet: Slope trained: R2=0.978945299494\n"
     ]
    }
   ],
   "source": [
    "plpop = LongPeriodPlanetPopulation(targets)\n",
    "\n",
    "plpop._train_trap(N=1000);\n",
    "#_ = plpop.observe() # There was a point where this was necessary to avoid a bug..."
   ]
  },
  {
   "cell_type": "markdown",
   "metadata": {},
   "source": [
    "OK, now let's load up the candidates, so we'll have something to compare to."
   ]
  },
  {
   "cell_type": "code",
   "execution_count": 12,
   "metadata": {
    "collapsed": false
   },
   "outputs": [
    {
     "data": {
      "text/html": [
       "<div>\n",
       "<table border=\"1\" class=\"dataframe\">\n",
       "  <thead>\n",
       "    <tr style=\"text-align: right;\">\n",
       "      <th></th>\n",
       "      <th>depth</th>\n",
       "      <th>duration</th>\n",
       "      <th>period</th>\n",
       "      <th>radius</th>\n",
       "      <th>rstar</th>\n",
       "      <th>impact</th>\n",
       "      <th>n_transits</th>\n",
       "      <th>s2n</th>\n",
       "    </tr>\n",
       "    <tr>\n",
       "      <th>kicid</th>\n",
       "      <th></th>\n",
       "      <th></th>\n",
       "      <th></th>\n",
       "      <th></th>\n",
       "      <th></th>\n",
       "      <th></th>\n",
       "      <th></th>\n",
       "      <th></th>\n",
       "    </tr>\n",
       "  </thead>\n",
       "  <tbody>\n",
       "    <tr>\n",
       "      <th>11709124</th>\n",
       "      <td>0.008777</td>\n",
       "      <td>0.739623</td>\n",
       "      <td>4.264997</td>\n",
       "      <td>0.828526</td>\n",
       "      <td>0.971</td>\n",
       "      <td>0.512708</td>\n",
       "      <td>1</td>\n",
       "      <td>103.742952</td>\n",
       "    </tr>\n",
       "    <tr>\n",
       "      <th>9306307</th>\n",
       "      <td>0.060297</td>\n",
       "      <td>0.354141</td>\n",
       "      <td>4.252540</td>\n",
       "      <td>1.220102</td>\n",
       "      <td>0.915</td>\n",
       "      <td>0.639900</td>\n",
       "      <td>1</td>\n",
       "      <td>424.324242</td>\n",
       "    </tr>\n",
       "    <tr>\n",
       "      <th>10321319</th>\n",
       "      <td>0.000374</td>\n",
       "      <td>0.701656</td>\n",
       "      <td>5.522778</td>\n",
       "      <td>0.163172</td>\n",
       "      <td>0.941</td>\n",
       "      <td>0.473659</td>\n",
       "      <td>1</td>\n",
       "      <td>15.994137</td>\n",
       "    </tr>\n",
       "    <tr>\n",
       "      <th>3239945</th>\n",
       "      <td>0.018865</td>\n",
       "      <td>0.675076</td>\n",
       "      <td>2.932872</td>\n",
       "      <td>0.875794</td>\n",
       "      <td>0.710</td>\n",
       "      <td>0.206589</td>\n",
       "      <td>2</td>\n",
       "      <td>402.787682</td>\n",
       "    </tr>\n",
       "    <tr>\n",
       "      <th>8410697</th>\n",
       "      <td>0.005724</td>\n",
       "      <td>0.823828</td>\n",
       "      <td>2.868810</td>\n",
       "      <td>0.698399</td>\n",
       "      <td>1.003</td>\n",
       "      <td>0.153588</td>\n",
       "      <td>2</td>\n",
       "      <td>148.615011</td>\n",
       "    </tr>\n",
       "    <tr>\n",
       "      <th>10287723</th>\n",
       "      <td>0.001458</td>\n",
       "      <td>0.395524</td>\n",
       "      <td>4.878759</td>\n",
       "      <td>0.265570</td>\n",
       "      <td>0.726</td>\n",
       "      <td>0.680744</td>\n",
       "      <td>1</td>\n",
       "      <td>26.992640</td>\n",
       "    </tr>\n",
       "    <tr>\n",
       "      <th>8426957</th>\n",
       "      <td>0.005522</td>\n",
       "      <td>1.640239</td>\n",
       "      <td>54.248522</td>\n",
       "      <td>1.039960</td>\n",
       "      <td>1.080</td>\n",
       "      <td>0.889371</td>\n",
       "      <td>1</td>\n",
       "      <td>127.168467</td>\n",
       "    </tr>\n",
       "    <tr>\n",
       "      <th>8738735</th>\n",
       "      <td>0.001237</td>\n",
       "      <td>1.143376</td>\n",
       "      <td>9.860707</td>\n",
       "      <td>0.354537</td>\n",
       "      <td>1.044</td>\n",
       "      <td>0.283580</td>\n",
       "      <td>1</td>\n",
       "      <td>19.297674</td>\n",
       "    </tr>\n",
       "    <tr>\n",
       "      <th>6551440</th>\n",
       "      <td>0.001072</td>\n",
       "      <td>0.452081</td>\n",
       "      <td>4.020863</td>\n",
       "      <td>0.281950</td>\n",
       "      <td>1.096</td>\n",
       "      <td>0.604324</td>\n",
       "      <td>1</td>\n",
       "      <td>20.423233</td>\n",
       "    </tr>\n",
       "    <tr>\n",
       "      <th>10602068</th>\n",
       "      <td>0.087133</td>\n",
       "      <td>0.533501</td>\n",
       "      <td>3.159743</td>\n",
       "      <td>2.001200</td>\n",
       "      <td>0.910</td>\n",
       "      <td>0.602741</td>\n",
       "      <td>1</td>\n",
       "      <td>1097.418488</td>\n",
       "    </tr>\n",
       "    <tr>\n",
       "      <th>10187159</th>\n",
       "      <td>0.006272</td>\n",
       "      <td>0.491928</td>\n",
       "      <td>4.888803</td>\n",
       "      <td>0.434498</td>\n",
       "      <td>0.910</td>\n",
       "      <td>0.231216</td>\n",
       "      <td>1</td>\n",
       "      <td>58.340024</td>\n",
       "    </tr>\n",
       "    <tr>\n",
       "      <th>8800954</th>\n",
       "      <td>0.002967</td>\n",
       "      <td>0.656744</td>\n",
       "      <td>1.927996</td>\n",
       "      <td>0.386359</td>\n",
       "      <td>0.760</td>\n",
       "      <td>0.181905</td>\n",
       "      <td>2</td>\n",
       "      <td>139.611249</td>\n",
       "    </tr>\n",
       "    <tr>\n",
       "      <th>3218908</th>\n",
       "      <td>0.005095</td>\n",
       "      <td>0.893745</td>\n",
       "      <td>6.962198</td>\n",
       "      <td>0.514202</td>\n",
       "      <td>0.753</td>\n",
       "      <td>0.239244</td>\n",
       "      <td>1</td>\n",
       "      <td>66.403938</td>\n",
       "    </tr>\n",
       "    <tr>\n",
       "      <th>4754460</th>\n",
       "      <td>0.002888</td>\n",
       "      <td>0.663353</td>\n",
       "      <td>5.889479</td>\n",
       "      <td>0.674383</td>\n",
       "      <td>1.131</td>\n",
       "      <td>0.893378</td>\n",
       "      <td>1</td>\n",
       "      <td>28.051786</td>\n",
       "    </tr>\n",
       "    <tr>\n",
       "      <th>10842718</th>\n",
       "      <td>0.005119</td>\n",
       "      <td>1.496501</td>\n",
       "      <td>12.689679</td>\n",
       "      <td>0.742417</td>\n",
       "      <td>1.038</td>\n",
       "      <td>0.257651</td>\n",
       "      <td>1</td>\n",
       "      <td>48.734070</td>\n",
       "    </tr>\n",
       "    <tr>\n",
       "      <th>8505215</th>\n",
       "      <td>0.001820</td>\n",
       "      <td>0.835830</td>\n",
       "      <td>9.107808</td>\n",
       "      <td>0.277132</td>\n",
       "      <td>0.707</td>\n",
       "      <td>0.283046</td>\n",
       "      <td>1</td>\n",
       "      <td>48.878405</td>\n",
       "    </tr>\n",
       "  </tbody>\n",
       "</table>\n",
       "</div>"
      ],
      "text/plain": [
       "             depth  duration     period    radius  rstar    impact  \\\n",
       "kicid                                                                \n",
       "11709124  0.008777  0.739623   4.264997  0.828526  0.971  0.512708   \n",
       "9306307   0.060297  0.354141   4.252540  1.220102  0.915  0.639900   \n",
       "10321319  0.000374  0.701656   5.522778  0.163172  0.941  0.473659   \n",
       "3239945   0.018865  0.675076   2.932872  0.875794  0.710  0.206589   \n",
       "8410697   0.005724  0.823828   2.868810  0.698399  1.003  0.153588   \n",
       "10287723  0.001458  0.395524   4.878759  0.265570  0.726  0.680744   \n",
       "8426957   0.005522  1.640239  54.248522  1.039960  1.080  0.889371   \n",
       "8738735   0.001237  1.143376   9.860707  0.354537  1.044  0.283580   \n",
       "6551440   0.001072  0.452081   4.020863  0.281950  1.096  0.604324   \n",
       "10602068  0.087133  0.533501   3.159743  2.001200  0.910  0.602741   \n",
       "10187159  0.006272  0.491928   4.888803  0.434498  0.910  0.231216   \n",
       "8800954   0.002967  0.656744   1.927996  0.386359  0.760  0.181905   \n",
       "3218908   0.005095  0.893745   6.962198  0.514202  0.753  0.239244   \n",
       "4754460   0.002888  0.663353   5.889479  0.674383  1.131  0.893378   \n",
       "10842718  0.005119  1.496501  12.689679  0.742417  1.038  0.257651   \n",
       "8505215   0.001820  0.835830   9.107808  0.277132  0.707  0.283046   \n",
       "\n",
       "          n_transits          s2n  \n",
       "kicid                              \n",
       "11709124           1   103.742952  \n",
       "9306307            1   424.324242  \n",
       "10321319           1    15.994137  \n",
       "3239945            2   402.787682  \n",
       "8410697            2   148.615011  \n",
       "10287723           1    26.992640  \n",
       "8426957            1   127.168467  \n",
       "8738735            1    19.297674  \n",
       "6551440            1    20.423233  \n",
       "10602068           1  1097.418488  \n",
       "10187159           1    58.340024  \n",
       "8800954            2   139.611249  \n",
       "3218908            1    66.403938  \n",
       "4754460            1    28.051786  \n",
       "10842718           1    48.734070  \n",
       "8505215            1    48.878405  "
      ]
     },
     "execution_count": 12,
     "metadata": {},
     "output_type": "execute_result"
    }
   ],
   "source": [
    "candidates = pd.read_csv('../results/fits.csv', index_col=0)\n",
    "\n",
    "# add a few columns of interest\n",
    "candidates['s2n'] = candidates.depth*1000/plpop.get_noise(candidates.index, candidates.duration) * np.sqrt(candidates.n_transits)\n",
    "candidates['rstar'] = targets.ix[candidates.index, 'radius']\n",
    "\n",
    "# convert depth from ppt to relative \n",
    "for p in ['depth', 'depth_uncert_minus', 'depth_uncert_plus']:\n",
    "    candidates[p] *= 1e-3\n",
    "\n",
    "# convert from hours to days\n",
    "for p in ['duration', 'duration_uncert_minus', 'duration_uncert_plus']:\n",
    "    candidates[p] /= 24. \n",
    "\n",
    "candidates[['depth','duration','period','radius','rstar','impact','n_transits','s2n']]"
   ]
  },
  {
   "cell_type": "code",
   "execution_count": 13,
   "metadata": {
    "collapsed": false
   },
   "outputs": [
    {
     "data": {
      "image/png": "[encoded data removed]",
      "text/plain": [
       "<matplotlib.figure.Figure at 0x144695c90>"
      ]
     },
     "metadata": {},
     "output_type": "display_data"
    }
   ],
   "source": [
    "# Check out the period and radius distributions of the planets in this population\n",
    "\n",
    "fig, (ax1, ax2) = plt.subplots(1, 2, figsize=(10,4))\n",
    "ax1.hist(plpop.period, histtype='step', lw=3);\n",
    "ax1.set_yticks([])\n",
    "ax2.hist(plpop.radius_B*RSUN/RJUP, histtype='step', lw=3);\n",
    "ax2.set_yticks([]);"
   ]
  },
  {
   "cell_type": "code",
   "execution_count": 14,
   "metadata": {
    "collapsed": false
   },
   "outputs": [
    {
     "data": {
      "image/png": "[encoded data removed]",
      "text/plain": [
       "<matplotlib.figure.Figure at 0x1446d9450>"
      ]
     },
     "metadata": {},
     "output_type": "display_data"
    }
   ],
   "source": [
    "# Emulate detection criteria: fewer than three transits, SNR > 15, duration < 2.5d\n",
    "dfm_q_pl = 'n_pri < 3 and snr_pri > 15 and T14_pri < 2.5'\n",
    "dfm_q_pl_nosnr = 'n_pri < 3 and T14_pri < 2.5 and snr_pri > 0'\n",
    "\n",
    "nobs_pl = [len(plpop.observe(new_orbits=True, regr_trap=True).query(dfm_q_pl)) for i in range(100)]\n",
    "nobs_pl2 = [len(plpop.observe(new_orbits=True, regr_trap=True).query(dfm_q_pl_nosnr)) for i in range(100)]\n",
    "\n",
    "plt.hist(nobs_pl, histtype='step', lw=3, label='SNR $>$ 15');\n",
    "plt.hist(nobs_pl2, histtype='step', lw=3, color='k', ls=':', label='all')\n",
    "plt.legend(loc='upper right');\n"
   ]
  },
  {
   "cell_type": "code",
   "execution_count": 15,
   "metadata": {
    "collapsed": false
   },
   "outputs": [
    {
     "data": {
      "text/plain": [
       "(16.579999999999998, 13)"
      ]
     },
     "execution_count": 15,
     "metadata": {},
     "output_type": "execute_result"
    }
   ],
   "source": [
    "# This matches up pretty well with what was actually detected\n",
    "np.mean(nobs_pl), len(candidates.query('radius < 1.0'))"
   ]
  },
  {
   "cell_type": "code",
   "execution_count": 16,
   "metadata": {
    "collapsed": false
   },
   "outputs": [
    {
     "data": {
      "image/png": "[encoded data removed]",
      "text/plain": [
       "<matplotlib.figure.Figure at 0x12793ead0>"
      ]
     },
     "metadata": {},
     "output_type": "display_data"
    }
   ],
   "source": [
    "# Of course, this isn't an exact match because the detection/veto criteria\n",
    "#  are much more complicated than SNR > 15...\n",
    "\n",
    "# Simulate a large population of observed single/double transits\n",
    "N = 1000\n",
    "pl_obs = plpop.get_N_observed(query=dfm_q_pl, N=N)\n",
    "\n",
    "plt.hist(np.log10(pl_obs.snr_pri), normed=True);\n",
    "plt.hist(np.log10(candidates.s2n.values), histtype='step', color='r', lw=3, normed=True);"
   ]
  },
  {
   "cell_type": "markdown",
   "metadata": {},
   "source": [
    "Let's put all the number-of-detections simulations together on the same plot:"
   ]
  },
  {
   "cell_type": "code",
   "execution_count": 17,
   "metadata": {
    "collapsed": false
   },
   "outputs": [
    {
     "data": {
      "image/png": "[encoded data removed]",
      "text/plain": [
       "<matplotlib.figure.Figure at 0x13d4e1210>"
      ]
     },
     "metadata": {},
     "output_type": "display_data"
    }
   ],
   "source": [
    "plt.figure(figsize=(8,6))\n",
    "plt.hist(nobs_eb, histtype='step', lw=3, label='EBs', bins=10)#, bins=np.arange(16));\n",
    "plt.hist(nobs_bg, histtype='step', lw=3, label='BEBs', bins=3)#, bins=np.arange(16));\n",
    "plt.hist(nobs_pl, histtype='step', lw=3, label='Planets')\n",
    "plt.legend();\n",
    "plt.xlim(xmin=-0.3)\n",
    "plt.yticks([])\n",
    "plt.ylabel('Normalized frequency')\n",
    "plt.xlabel('Number of observed single/double eclipses');\n",
    "plt.savefig('N_predicted.pdf', bbox_inches='tight')"
   ]
  },
  {
   "cell_type": "markdown",
   "metadata": {},
   "source": [
    "## Shape comparison\n",
    "\n",
    "Now that we know the typical numbers of signals to expect, let's look at their typical shapes, and compare with the observed signals."
   ]
  },
  {
   "cell_type": "code",
   "execution_count": 18,
   "metadata": {
    "collapsed": true
   },
   "outputs": [],
   "source": [
    "def plot_kde(kde, ax=None, dur_range=(0,2.), depth_range=(-3.5,-0.5), \n",
    "            cands=candidates, **kwargs):\n",
    "    if ax is None:\n",
    "        fig, ax = plt.subplots(1,1)\n",
    "        \n",
    "    dur_grid = np.arange(dur_range[0], dur_range[1], 0.025)\n",
    "    depth_grid = np.arange(depth_range[0], depth_range[1], 0.025)\n",
    "    xx, yy = np.meshgrid(dur_grid, depth_grid)\n",
    "    f = kde(np.vstack([xx.ravel(),yy.ravel()])).reshape(xx.shape)\n",
    "    ax.imshow(f, origin='lower', extent=[dur_range[0], dur_range[1],\n",
    "                                         depth_range[0], depth_range[1]], \n",
    "               aspect='auto', cmap='binary', interpolation='nearest',\n",
    "               **kwargs)\n",
    "    ax.set_xlabel('Duration [days]')\n",
    "    ax.set_ylabel('log$_{10}$(depth)')\n",
    "    \n",
    "    if cands is not None:\n",
    "        xval = cands.duration\n",
    "        xerr = [cands.duration_uncert_minus, cands.duration_uncert_plus]\n",
    "\n",
    "        yval = np.log10(cands.depth)\n",
    "        yerr = [yval - np.log10(cands.depth - cands.depth_uncert_minus),\n",
    "                np.log10(cands.depth + cands.depth_uncert_plus) - yval]\n",
    "        \n",
    "        ax.plot(xval, yval, 'w.', ms=14)\n",
    "        ax.plot(xval, yval, 'g.', ms=10)\n",
    "        #ax.errorbar(xval, yval, xerr=xerr, yerr=yerr,\n",
    "        #            color='g', marker='.', ms=10, ls='none', capsize=0)\n",
    "        "
   ]
  },
  {
   "cell_type": "code",
   "execution_count": 19,
   "metadata": {
    "collapsed": true
   },
   "outputs": [],
   "source": [
    "# First, simulate large populations of EBs, BEBs\n",
    "eb_obs = ebpop.get_N_observed(query=dfm_q, N=2000, new_orbits=True)\n",
    "bg_obs = bgpop.get_N_observed(query=dfm_q, N=200, use_ic=True, new_orbits=True) #takes longer, so use fewer"
   ]
  },
  {
   "cell_type": "code",
   "execution_count": 20,
   "metadata": {
    "collapsed": true
   },
   "outputs": [],
   "source": [
    "from scipy.stats import gaussian_kde\n",
    "\n",
    "eb_kde = gaussian_kde(np.array([eb_obs.observed.dur_pri, eb_obs.observed.logd_pri]))\n",
    "bg_kde = gaussian_kde(np.array([bg_obs.observed.dur_pri, bg_obs.observed.logd_pri]))\n",
    "pl_kde = gaussian_kde(np.array([pl_obs.observed.dur_pri, pl_obs.observed.logd_pri]))"
   ]
  },
  {
   "cell_type": "code",
   "execution_count": 21,
   "metadata": {
    "collapsed": false
   },
   "outputs": [
    {
     "data": {
      "image/png": "[encoded data removed]",
      "text/plain": [
       "<matplotlib.figure.Figure at 0x118ac3610>"
      ]
     },
     "metadata": {},
     "output_type": "display_data"
    }
   ],
   "source": [
    "fig, axes = plt.subplots(1,3, figsize=(12,4), sharey=True)\n",
    "plot_kde(eb_kde, ax=axes[0])\n",
    "plot_kde(bg_kde, ax=axes[1])\n",
    "plot_kde(pl_kde, ax=axes[2])\n",
    "axes[1].set_ylabel('')\n",
    "axes[2].set_ylabel('')\n",
    "plt.subplots_adjust(wspace=0)\n",
    "for ax,title in zip(axes, ['EB','BEB','Planet']):\n",
    "    ax.set_yticks(np.arange(-3,-0.5,0.5))\n",
    "    ax.annotate(title, xy=(0.95,0.1), xycoords='axes fraction', fontsize=20, ha='right')\n",
    "    \n",
    "plt.savefig('shape_kdes.pdf', bbox_inches='tight')"
   ]
  },
  {
   "cell_type": "markdown",
   "metadata": {},
   "source": [
    "## False positive probabilities.\n",
    "\n",
    "OK, now we can guess the nature of each individual signal, given our predicted rates and the depth-duration shape information."
   ]
  },
  {
   "cell_type": "code",
   "execution_count": 44,
   "metadata": {
    "collapsed": false
   },
   "outputs": [],
   "source": [
    "pts = [candidates.duration, np.log10(candidates.depth)]\n",
    "L_eb = eb_kde(pts)\n",
    "L_bg = bg_kde(pts)\n",
    "L_pl = pl_kde(pts)\n",
    "\n",
    "pi_eb = 7.2\n",
    "pi_bg = 0.41\n",
    "pi_pl = 12 # for example.\n",
    "\n",
    "norm = L_eb*pi_eb + L_bg*pi_bg + L_pl*pi_pl\n",
    "\n",
    "candidates['pr_eb'] = L_eb*pi_eb / norm\n",
    "candidates['pr_bg'] = L_bg*pi_bg / norm\n",
    "candidates['pr_pl'] = L_pl*pi_pl / norm"
   ]
  },
  {
   "cell_type": "code",
   "execution_count": 49,
   "metadata": {
    "collapsed": false
   },
   "outputs": [
    {
     "data": {
      "text/plain": [
       "pr_eb     2.726062\n",
       "pr_bg     0.332295\n",
       "pr_pl    12.941642\n",
       "dtype: float64"
      ]
     },
     "execution_count": 49,
     "metadata": {},
     "output_type": "execute_result"
    }
   ],
   "source": [
    "candidates[['pr_eb', 'pr_bg', 'pr_pl']].sum()"
   ]
  },
  {
   "cell_type": "code",
   "execution_count": 46,
   "metadata": {
    "collapsed": false
   },
   "outputs": [
    {
     "data": {
      "text/html": [
       "<div>\n",
       "<table border=\"1\" class=\"dataframe\">\n",
       "  <thead>\n",
       "    <tr style=\"text-align: right;\">\n",
       "      <th></th>\n",
       "      <th>radius</th>\n",
       "      <th>depth</th>\n",
       "      <th>duration</th>\n",
       "      <th>pr_eb</th>\n",
       "      <th>pr_bg</th>\n",
       "      <th>pr_pl</th>\n",
       "    </tr>\n",
       "    <tr>\n",
       "      <th>kicid</th>\n",
       "      <th></th>\n",
       "      <th></th>\n",
       "      <th></th>\n",
       "      <th></th>\n",
       "      <th></th>\n",
       "      <th></th>\n",
       "    </tr>\n",
       "  </thead>\n",
       "  <tbody>\n",
       "    <tr>\n",
       "      <th>11709124</th>\n",
       "      <td>0.828526</td>\n",
       "      <td>0.008777</td>\n",
       "      <td>0.739623</td>\n",
       "      <td>0.052284</td>\n",
       "      <td>0.010690</td>\n",
       "      <td>9.370254e-01</td>\n",
       "    </tr>\n",
       "    <tr>\n",
       "      <th>9306307</th>\n",
       "      <td>1.220102</td>\n",
       "      <td>0.060297</td>\n",
       "      <td>0.354141</td>\n",
       "      <td>0.995772</td>\n",
       "      <td>0.004219</td>\n",
       "      <td>8.714941e-06</td>\n",
       "    </tr>\n",
       "    <tr>\n",
       "      <th>10321319</th>\n",
       "      <td>0.163172</td>\n",
       "      <td>0.000374</td>\n",
       "      <td>0.701656</td>\n",
       "      <td>0.000205</td>\n",
       "      <td>0.000667</td>\n",
       "      <td>9.991277e-01</td>\n",
       "    </tr>\n",
       "    <tr>\n",
       "      <th>3239945</th>\n",
       "      <td>0.875794</td>\n",
       "      <td>0.018865</td>\n",
       "      <td>0.675076</td>\n",
       "      <td>0.250492</td>\n",
       "      <td>0.015676</td>\n",
       "      <td>7.338320e-01</td>\n",
       "    </tr>\n",
       "    <tr>\n",
       "      <th>8410697</th>\n",
       "      <td>0.698399</td>\n",
       "      <td>0.005724</td>\n",
       "      <td>0.823828</td>\n",
       "      <td>0.031286</td>\n",
       "      <td>0.015073</td>\n",
       "      <td>9.536416e-01</td>\n",
       "    </tr>\n",
       "    <tr>\n",
       "      <th>10287723</th>\n",
       "      <td>0.265570</td>\n",
       "      <td>0.001458</td>\n",
       "      <td>0.395524</td>\n",
       "      <td>0.031426</td>\n",
       "      <td>0.023016</td>\n",
       "      <td>9.455589e-01</td>\n",
       "    </tr>\n",
       "    <tr>\n",
       "      <th>8426957</th>\n",
       "      <td>1.039960</td>\n",
       "      <td>0.005522</td>\n",
       "      <td>1.640239</td>\n",
       "      <td>0.125445</td>\n",
       "      <td>0.075844</td>\n",
       "      <td>7.987111e-01</td>\n",
       "    </tr>\n",
       "    <tr>\n",
       "      <th>8738735</th>\n",
       "      <td>0.354537</td>\n",
       "      <td>0.001237</td>\n",
       "      <td>1.143376</td>\n",
       "      <td>0.003223</td>\n",
       "      <td>0.026579</td>\n",
       "      <td>9.701981e-01</td>\n",
       "    </tr>\n",
       "    <tr>\n",
       "      <th>6551440</th>\n",
       "      <td>0.281950</td>\n",
       "      <td>0.001072</td>\n",
       "      <td>0.452081</td>\n",
       "      <td>0.012068</td>\n",
       "      <td>0.014184</td>\n",
       "      <td>9.737478e-01</td>\n",
       "    </tr>\n",
       "    <tr>\n",
       "      <th>10602068</th>\n",
       "      <td>2.001200</td>\n",
       "      <td>0.087133</td>\n",
       "      <td>0.533501</td>\n",
       "      <td>0.997658</td>\n",
       "      <td>0.002342</td>\n",
       "      <td>3.893206e-09</td>\n",
       "    </tr>\n",
       "    <tr>\n",
       "      <th>10187159</th>\n",
       "      <td>0.434498</td>\n",
       "      <td>0.006272</td>\n",
       "      <td>0.491928</td>\n",
       "      <td>0.072767</td>\n",
       "      <td>0.016390</td>\n",
       "      <td>9.108432e-01</td>\n",
       "    </tr>\n",
       "    <tr>\n",
       "      <th>8800954</th>\n",
       "      <td>0.386359</td>\n",
       "      <td>0.002967</td>\n",
       "      <td>0.656744</td>\n",
       "      <td>0.022953</td>\n",
       "      <td>0.023078</td>\n",
       "      <td>9.539691e-01</td>\n",
       "    </tr>\n",
       "    <tr>\n",
       "      <th>3218908</th>\n",
       "      <td>0.514202</td>\n",
       "      <td>0.005095</td>\n",
       "      <td>0.893745</td>\n",
       "      <td>0.027878</td>\n",
       "      <td>0.016680</td>\n",
       "      <td>9.554429e-01</td>\n",
       "    </tr>\n",
       "    <tr>\n",
       "      <th>4754460</th>\n",
       "      <td>0.674383</td>\n",
       "      <td>0.002888</td>\n",
       "      <td>0.663353</td>\n",
       "      <td>0.022085</td>\n",
       "      <td>0.023038</td>\n",
       "      <td>9.548769e-01</td>\n",
       "    </tr>\n",
       "    <tr>\n",
       "      <th>10842718</th>\n",
       "      <td>0.742417</td>\n",
       "      <td>0.005119</td>\n",
       "      <td>1.496501</td>\n",
       "      <td>0.061135</td>\n",
       "      <td>0.039662</td>\n",
       "      <td>8.992025e-01</td>\n",
       "    </tr>\n",
       "    <tr>\n",
       "      <th>8505215</th>\n",
       "      <td>0.277132</td>\n",
       "      <td>0.001820</td>\n",
       "      <td>0.835830</td>\n",
       "      <td>0.019386</td>\n",
       "      <td>0.025157</td>\n",
       "      <td>9.554563e-01</td>\n",
       "    </tr>\n",
       "  </tbody>\n",
       "</table>\n",
       "</div>"
      ],
      "text/plain": [
       "            radius     depth  duration     pr_eb     pr_bg         pr_pl\n",
       "kicid                                                                   \n",
       "11709124  0.828526  0.008777  0.739623  0.052284  0.010690  9.370254e-01\n",
       "9306307   1.220102  0.060297  0.354141  0.995772  0.004219  8.714941e-06\n",
       "10321319  0.163172  0.000374  0.701656  0.000205  0.000667  9.991277e-01\n",
       "3239945   0.875794  0.018865  0.675076  0.250492  0.015676  7.338320e-01\n",
       "8410697   0.698399  0.005724  0.823828  0.031286  0.015073  9.536416e-01\n",
       "10287723  0.265570  0.001458  0.395524  0.031426  0.023016  9.455589e-01\n",
       "8426957   1.039960  0.005522  1.640239  0.125445  0.075844  7.987111e-01\n",
       "8738735   0.354537  0.001237  1.143376  0.003223  0.026579  9.701981e-01\n",
       "6551440   0.281950  0.001072  0.452081  0.012068  0.014184  9.737478e-01\n",
       "10602068  2.001200  0.087133  0.533501  0.997658  0.002342  3.893206e-09\n",
       "10187159  0.434498  0.006272  0.491928  0.072767  0.016390  9.108432e-01\n",
       "8800954   0.386359  0.002967  0.656744  0.022953  0.023078  9.539691e-01\n",
       "3218908   0.514202  0.005095  0.893745  0.027878  0.016680  9.554429e-01\n",
       "4754460   0.674383  0.002888  0.663353  0.022085  0.023038  9.548769e-01\n",
       "10842718  0.742417  0.005119  1.496501  0.061135  0.039662  8.992025e-01\n",
       "8505215   0.277132  0.001820  0.835830  0.019386  0.025157  9.554563e-01"
      ]
     },
     "execution_count": 46,
     "metadata": {},
     "output_type": "execute_result"
    }
   ],
   "source": [
    "candidates[['radius','depth', 'duration', 'pr_eb', 'pr_bg', 'pr_pl']]"
   ]
  },
  {
   "cell_type": "code",
   "execution_count": 47,
   "metadata": {
    "collapsed": true
   },
   "outputs": [],
   "source": [
    "candidates[['pr_eb', 'pr_bg', 'pr_pl']].to_csv('../results/fpp.csv')"
   ]
  },
  {
   "cell_type": "code",
   "execution_count": 43,
   "metadata": {
    "collapsed": false
   },
   "outputs": [
    {
     "data": {
      "text/plain": [
       "pr_eb     2.213045\n",
       "pr_bg     0.177410\n",
       "pr_pl    13.609545\n",
       "dtype: float64"
      ]
     },
     "execution_count": 43,
     "metadata": {},
     "output_type": "execute_result"
    }
   ],
   "source": [
    "pi_eb = 2.21# 6.5\n",
    "pi_bg = 0.22# 0.33\n",
    "pi_pl = 13.57# 12 # for example.\n",
    "\n",
    "norm = L_eb*pi_eb + L_bg*pi_bg + L_pl*pi_pl\n",
    "\n",
    "candidates['pr_eb'] = L_eb*pi_eb / norm\n",
    "candidates['pr_bg'] = L_bg*pi_bg / norm\n",
    "candidates['pr_pl'] = L_pl*pi_pl / norm\n",
    "\n",
    "candidates[['pr_eb', 'pr_bg', 'pr_pl']].sum()"
   ]
  },
  {
   "cell_type": "code",
   "execution_count": null,
   "metadata": {
    "collapsed": true
   },
   "outputs": [],
   "source": []
  }
 ],
 "metadata": {
  "kernelspec": {
   "display_name": "Python 2",
   "language": "python",
   "name": "python2"
  },
  "language_info": {
   "codemirror_mode": {
    "name": "ipython",
    "version": 2
   },
   "file_extension": ".py",
   "mimetype": "text/x-python",
   "name": "python",
   "nbconvert_exporter": "python",
   "pygments_lexer": "ipython2",
   "version": "2.7.12"
  }
 },
 "nbformat": 4,
 "nbformat_minor": 0
}
