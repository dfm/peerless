{
 "cells": [
  {
   "cell_type": "code",
   "execution_count": 6,
   "metadata": {
    "collapsed": false
   },
   "outputs": [],
   "source": [
    "# Get target list; this follows the selection in ../document/figures/targets.py \n",
    "import sys\n",
    "sys.path.append('..')\n",
    "\n",
    "from peerless.catalogs import KICatalog, KOICatalog, EBCatalog, BlacklistCatalog\n",
    "import numpy as np\n",
    "import pandas as pd\n",
    "\n",
    "stlr = KICatalog().df\n",
    "m = (4200 <= stlr.teff) & (stlr.teff <= 6100)\n",
    "m &= stlr.radius <= 1.15\n",
    "m &= stlr.dataspan > 365.25*2.\n",
    "m &= stlr.dutycycle > 0.6\n",
    "m &= stlr.rrmscdpp07p5 <= 1000.\n",
    "m &= stlr.kepmag < 15.\n",
    "\n",
    "# known EBs\n",
    "ebs = set(np.array(EBCatalog().df[\"#KIC\"]))\n",
    "\n",
    "# KOI false positives\n",
    "kois = KOICatalog().df\n",
    "kois = kois[kois.koi_disposition == \"FALSE POSITIVE\"]\n",
    "fps = set(np.array(kois.kepid))\n",
    "\n",
    "# And then finally the blacklist.\n",
    "bl = set(np.array(BlacklistCatalog().df.kicid))\n",
    "\n",
    "# The full list of ignores.\n",
    "ignore = fps | bl #ebs | fps | bl  #Don't ignore EBs for purposes of prediction\n",
    "m &= ~stlr.kepid.isin(ignore)\n",
    "\n",
    "targets = stlr[m]"
   ]
  },
  {
   "cell_type": "code",
   "execution_count": 7,
   "metadata": {
    "collapsed": false
   },
   "outputs": [
    {
     "data": {
      "text/plain": [
       "kepid    39626\n",
       "mass     38983\n",
       "feh      39626\n",
       "dtype: int64"
      ]
     },
     "execution_count": 7,
     "metadata": {},
     "output_type": "execute_result"
    }
   ],
   "source": [
    "targets[['kepid','mass','feh']].count()"
   ]
  },
  {
   "cell_type": "code",
   "execution_count": 8,
   "metadata": {
    "collapsed": false
   },
   "outputs": [],
   "source": [
    "# funny, there seem to be some missing masses.  Let's artificially add those in, with M=R\n",
    "bad = targets.mass.isnull()\n",
    "targets.loc[bad, 'mass'] = targets.loc[bad, 'radius']"
   ]
  },
  {
   "cell_type": "code",
   "execution_count": 9,
   "metadata": {
    "collapsed": false
   },
   "outputs": [],
   "source": [
    "targets.to_hdf('targets.h5','df')"
   ]
  },
  {
   "cell_type": "code",
   "execution_count": 10,
   "metadata": {
    "collapsed": false
   },
   "outputs": [],
   "source": [
    "targets = pd.read_hdf('targets.h5', 'df')"
   ]
  },
  {
   "cell_type": "code",
   "execution_count": 11,
   "metadata": {
    "collapsed": false
   },
   "outputs": [
    {
     "name": "stderr",
     "output_type": "stream",
     "text": [
      "WARNING:root:progressbar not imported\n"
     ]
    },
    {
     "data": {
      "text/plain": [
       "260"
      ]
     },
     "execution_count": 11,
     "metadata": {},
     "output_type": "execute_result"
    }
   ],
   "source": [
    "# Simulation a population of binary stars and observe them.\n",
    "\n",
    "from sims import BinaryPopulation\n",
    "ebs = BinaryPopulation(targets)\n",
    "obscols = ['period','d_pri','d_sec','T14_pri','T14_sec',\n",
    "             'b_pri','b_sec','k','n_pri','n_sec',\n",
    "            'radius_A','radius_B','flux_ratio', 'dutycycle']\n",
    "obs = ebs.observe(query='period > 5')[obscols]\n",
    "len(obs)"
   ]
  },
  {
   "cell_type": "markdown",
   "metadata": {},
   "source": [
    "OK, this is how many EBs we predict there to be with periods greater than 5 days.  How does this compare with the actual EB catalog?"
   ]
  },
  {
   "cell_type": "code",
   "execution_count": 12,
   "metadata": {
    "collapsed": false
   },
   "outputs": [
    {
     "data": {
      "text/plain": [
       "224.75436655536478"
      ]
     },
     "execution_count": 12,
     "metadata": {},
     "output_type": "execute_result"
    }
   ],
   "source": [
    "# Total number of Kepler EBs with P > 5, scaled by number of targets\n",
    "from __future__ import division\n",
    "len(EBCatalog().df.query('period>5')) * (len(targets)/len(KICatalog().df))"
   ]
  },
  {
   "cell_type": "markdown",
   "metadata": {},
   "source": [
    "OK, this is creepy-close.  But this is very encouraging.  Means we should be able to take seriously the results of this simulation.  What does it say about single/double eclipses (either only primary or only secondary)?"
   ]
  },
  {
   "cell_type": "code",
   "execution_count": 13,
   "metadata": {
    "collapsed": false
   },
   "outputs": [
    {
     "data": {
      "text/html": [
       "<div>\n",
       "<table border=\"1\" class=\"dataframe\">\n",
       "  <thead>\n",
       "    <tr style=\"text-align: right;\">\n",
       "      <th></th>\n",
       "      <th>period</th>\n",
       "      <th>d_pri</th>\n",
       "      <th>d_sec</th>\n",
       "      <th>T14_pri</th>\n",
       "      <th>T14_sec</th>\n",
       "      <th>b_pri</th>\n",
       "      <th>b_sec</th>\n",
       "      <th>k</th>\n",
       "      <th>n_pri</th>\n",
       "      <th>n_sec</th>\n",
       "      <th>radius_A</th>\n",
       "      <th>radius_B</th>\n",
       "      <th>flux_ratio</th>\n",
       "      <th>dutycycle</th>\n",
       "    </tr>\n",
       "  </thead>\n",
       "  <tbody>\n",
       "    <tr>\n",
       "      <th>3423</th>\n",
       "      <td>680.394766</td>\n",
       "      <td>0.040282</td>\n",
       "      <td>0.000000</td>\n",
       "      <td>0.272439</td>\n",
       "      <td>0.000000</td>\n",
       "      <td>1.547536</td>\n",
       "      <td>2.769887</td>\n",
       "      <td>0.834402</td>\n",
       "      <td>2</td>\n",
       "      <td>0</td>\n",
       "      <td>0.665</td>\n",
       "      <td>0.554877</td>\n",
       "      <td>0.229791</td>\n",
       "      <td>0.8750</td>\n",
       "    </tr>\n",
       "    <tr>\n",
       "      <th>7122</th>\n",
       "      <td>449.164236</td>\n",
       "      <td>0.000000</td>\n",
       "      <td>0.014445</td>\n",
       "      <td>0.000000</td>\n",
       "      <td>0.365022</td>\n",
       "      <td>2.057679</td>\n",
       "      <td>0.963680</td>\n",
       "      <td>0.526056</td>\n",
       "      <td>0</td>\n",
       "      <td>2</td>\n",
       "      <td>1.000</td>\n",
       "      <td>0.526056</td>\n",
       "      <td>0.030151</td>\n",
       "      <td>0.6991</td>\n",
       "    </tr>\n",
       "    <tr>\n",
       "      <th>39294</th>\n",
       "      <td>447.059718</td>\n",
       "      <td>0.000000</td>\n",
       "      <td>0.003467</td>\n",
       "      <td>0.000000</td>\n",
       "      <td>0.110144</td>\n",
       "      <td>7.901852</td>\n",
       "      <td>1.121759</td>\n",
       "      <td>0.342611</td>\n",
       "      <td>0</td>\n",
       "      <td>2</td>\n",
       "      <td>0.844</td>\n",
       "      <td>0.289164</td>\n",
       "      <td>0.014809</td>\n",
       "      <td>0.6985</td>\n",
       "    </tr>\n",
       "    <tr>\n",
       "      <th>51252</th>\n",
       "      <td>2374.561499</td>\n",
       "      <td>0.502187</td>\n",
       "      <td>0.084604</td>\n",
       "      <td>1.292954</td>\n",
       "      <td>1.008188</td>\n",
       "      <td>0.191903</td>\n",
       "      <td>0.149256</td>\n",
       "      <td>0.697183</td>\n",
       "      <td>0</td>\n",
       "      <td>1</td>\n",
       "      <td>0.871</td>\n",
       "      <td>0.607247</td>\n",
       "      <td>0.092423</td>\n",
       "      <td>0.8753</td>\n",
       "    </tr>\n",
       "    <tr>\n",
       "      <th>77566</th>\n",
       "      <td>485.155306</td>\n",
       "      <td>0.038619</td>\n",
       "      <td>0.000000</td>\n",
       "      <td>0.212011</td>\n",
       "      <td>0.000000</td>\n",
       "      <td>0.935911</td>\n",
       "      <td>1.460014</td>\n",
       "      <td>0.271427</td>\n",
       "      <td>2</td>\n",
       "      <td>0</td>\n",
       "      <td>0.549</td>\n",
       "      <td>0.149013</td>\n",
       "      <td>0.016698</td>\n",
       "      <td>0.8752</td>\n",
       "    </tr>\n",
       "    <tr>\n",
       "      <th>82878</th>\n",
       "      <td>612.018485</td>\n",
       "      <td>0.000000</td>\n",
       "      <td>0.001977</td>\n",
       "      <td>0.000000</td>\n",
       "      <td>0.171913</td>\n",
       "      <td>4.504709</td>\n",
       "      <td>0.573666</td>\n",
       "      <td>0.303657</td>\n",
       "      <td>0</td>\n",
       "      <td>2</td>\n",
       "      <td>0.941</td>\n",
       "      <td>0.285741</td>\n",
       "      <td>0.001981</td>\n",
       "      <td>0.6988</td>\n",
       "    </tr>\n",
       "    <tr>\n",
       "      <th>94218</th>\n",
       "      <td>1634.551438</td>\n",
       "      <td>0.019109</td>\n",
       "      <td>0.059083</td>\n",
       "      <td>0.648717</td>\n",
       "      <td>0.777045</td>\n",
       "      <td>1.509829</td>\n",
       "      <td>1.043800</td>\n",
       "      <td>0.695299</td>\n",
       "      <td>0</td>\n",
       "      <td>1</td>\n",
       "      <td>0.967</td>\n",
       "      <td>0.672354</td>\n",
       "      <td>0.179081</td>\n",
       "      <td>0.6925</td>\n",
       "    </tr>\n",
       "    <tr>\n",
       "      <th>136688</th>\n",
       "      <td>829.003013</td>\n",
       "      <td>0.285762</td>\n",
       "      <td>0.000000</td>\n",
       "      <td>0.487663</td>\n",
       "      <td>0.000000</td>\n",
       "      <td>0.552052</td>\n",
       "      <td>1.618288</td>\n",
       "      <td>0.563803</td>\n",
       "      <td>2</td>\n",
       "      <td>0</td>\n",
       "      <td>0.890</td>\n",
       "      <td>0.501785</td>\n",
       "      <td>0.081835</td>\n",
       "      <td>0.8752</td>\n",
       "    </tr>\n",
       "    <tr>\n",
       "      <th>138910</th>\n",
       "      <td>2471.296229</td>\n",
       "      <td>0.093660</td>\n",
       "      <td>0.000000</td>\n",
       "      <td>0.633033</td>\n",
       "      <td>0.000000</td>\n",
       "      <td>0.797463</td>\n",
       "      <td>2.399667</td>\n",
       "      <td>0.347700</td>\n",
       "      <td>1</td>\n",
       "      <td>0</td>\n",
       "      <td>1.098</td>\n",
       "      <td>0.381775</td>\n",
       "      <td>0.015444</td>\n",
       "      <td>0.8753</td>\n",
       "    </tr>\n",
       "    <tr>\n",
       "      <th>153561</th>\n",
       "      <td>2253.352362</td>\n",
       "      <td>0.000000</td>\n",
       "      <td>0.051476</td>\n",
       "      <td>0.000000</td>\n",
       "      <td>0.217343</td>\n",
       "      <td>6.052653</td>\n",
       "      <td>1.247650</td>\n",
       "      <td>0.893361</td>\n",
       "      <td>0</td>\n",
       "      <td>1</td>\n",
       "      <td>0.708</td>\n",
       "      <td>0.632499</td>\n",
       "      <td>0.265037</td>\n",
       "      <td>0.8751</td>\n",
       "    </tr>\n",
       "    <tr>\n",
       "      <th>162188</th>\n",
       "      <td>1183.544781</td>\n",
       "      <td>0.000000</td>\n",
       "      <td>0.108067</td>\n",
       "      <td>0.000000</td>\n",
       "      <td>0.570875</td>\n",
       "      <td>2.750999</td>\n",
       "      <td>1.135901</td>\n",
       "      <td>0.790433</td>\n",
       "      <td>0</td>\n",
       "      <td>1</td>\n",
       "      <td>1.085</td>\n",
       "      <td>0.857619</td>\n",
       "      <td>0.526629</td>\n",
       "      <td>0.8748</td>\n",
       "    </tr>\n",
       "    <tr>\n",
       "      <th>163506</th>\n",
       "      <td>854.886771</td>\n",
       "      <td>0.028228</td>\n",
       "      <td>0.000000</td>\n",
       "      <td>0.234229</td>\n",
       "      <td>0.000000</td>\n",
       "      <td>1.408534</td>\n",
       "      <td>6.308844</td>\n",
       "      <td>0.642208</td>\n",
       "      <td>1</td>\n",
       "      <td>0</td>\n",
       "      <td>0.912</td>\n",
       "      <td>0.585694</td>\n",
       "      <td>0.146807</td>\n",
       "      <td>0.8752</td>\n",
       "    </tr>\n",
       "  </tbody>\n",
       "</table>\n",
       "</div>"
      ],
      "text/plain": [
       "             period     d_pri     d_sec   T14_pri   T14_sec     b_pri  \\\n",
       "3423     680.394766  0.040282  0.000000  0.272439  0.000000  1.547536   \n",
       "7122     449.164236  0.000000  0.014445  0.000000  0.365022  2.057679   \n",
       "39294    447.059718  0.000000  0.003467  0.000000  0.110144  7.901852   \n",
       "51252   2374.561499  0.502187  0.084604  1.292954  1.008188  0.191903   \n",
       "77566    485.155306  0.038619  0.000000  0.212011  0.000000  0.935911   \n",
       "82878    612.018485  0.000000  0.001977  0.000000  0.171913  4.504709   \n",
       "94218   1634.551438  0.019109  0.059083  0.648717  0.777045  1.509829   \n",
       "136688   829.003013  0.285762  0.000000  0.487663  0.000000  0.552052   \n",
       "138910  2471.296229  0.093660  0.000000  0.633033  0.000000  0.797463   \n",
       "153561  2253.352362  0.000000  0.051476  0.000000  0.217343  6.052653   \n",
       "162188  1183.544781  0.000000  0.108067  0.000000  0.570875  2.750999   \n",
       "163506   854.886771  0.028228  0.000000  0.234229  0.000000  1.408534   \n",
       "\n",
       "           b_sec         k  n_pri  n_sec  radius_A  radius_B  flux_ratio  \\\n",
       "3423    2.769887  0.834402      2      0     0.665  0.554877    0.229791   \n",
       "7122    0.963680  0.526056      0      2     1.000  0.526056    0.030151   \n",
       "39294   1.121759  0.342611      0      2     0.844  0.289164    0.014809   \n",
       "51252   0.149256  0.697183      0      1     0.871  0.607247    0.092423   \n",
       "77566   1.460014  0.271427      2      0     0.549  0.149013    0.016698   \n",
       "82878   0.573666  0.303657      0      2     0.941  0.285741    0.001981   \n",
       "94218   1.043800  0.695299      0      1     0.967  0.672354    0.179081   \n",
       "136688  1.618288  0.563803      2      0     0.890  0.501785    0.081835   \n",
       "138910  2.399667  0.347700      1      0     1.098  0.381775    0.015444   \n",
       "153561  1.247650  0.893361      0      1     0.708  0.632499    0.265037   \n",
       "162188  1.135901  0.790433      0      1     1.085  0.857619    0.526629   \n",
       "163506  6.308844  0.642208      1      0     0.912  0.585694    0.146807   \n",
       "\n",
       "        dutycycle  \n",
       "3423       0.8750  \n",
       "7122       0.6991  \n",
       "39294      0.6985  \n",
       "51252      0.8753  \n",
       "77566      0.8752  \n",
       "82878      0.6988  \n",
       "94218      0.6925  \n",
       "136688     0.8752  \n",
       "138910     0.8753  \n",
       "153561     0.8751  \n",
       "162188     0.8748  \n",
       "163506     0.8752  "
      ]
     },
     "execution_count": 13,
     "metadata": {},
     "output_type": "execute_result"
    }
   ],
   "source": [
    "dfm_query = '((n_pri + n_sec) < 3) and (n_pri==0 or n_sec==0)'\n",
    "candidates = obs.query(dfm_query)\n",
    "candidates"
   ]
  },
  {
   "cell_type": "markdown",
   "metadata": {},
   "source": [
    "Let's look at the depth vs. duration for these signals."
   ]
  },
  {
   "cell_type": "code",
   "execution_count": 14,
   "metadata": {
    "collapsed": false
   },
   "outputs": [
    {
     "data": {
      "text/plain": [
       "<matplotlib.text.Text at 0x7f2d0b14d190>"
      ]
     },
     "execution_count": 14,
     "metadata": {},
     "output_type": "execute_result"
    },
    {
     "data": {
      "image/png": "[encoded data removed]",
      "text/plain": [
       "<matplotlib.figure.Figure at 0x7f2d0b116150>"
      ]
     },
     "metadata": {},
     "output_type": "display_data"
    }
   ],
   "source": [
    "%matplotlib inline\n",
    "import matplotlib.pyplot as plt\n",
    "\n",
    "pri = candidates.n_pri > 0\n",
    "sec = candidates.n_sec > 0\n",
    "\n",
    "depth = pri*candidates.d_pri + sec*candidates.d_sec\n",
    "duration = pri*candidates.T14_pri + sec*candidates.T14_sec\n",
    "\n",
    "plt.plot(duration, np.log10(depth), 'x', ms=10);\n",
    "plt.xlabel('Duration [days]')\n",
    "plt.ylabel('log10(depth)')"
   ]
  },
  {
   "cell_type": "markdown",
   "metadata": {},
   "source": [
    "OK, so that's for unblended EBs.  What about background EBs?  We can pretty fairly ignore hierarchical systems at these long periods, I think.\n",
    "\n",
    "OK, for the BG population, we need to probabilistically populate each target star with background stars.  This background star probability can be taken from Morton & Johnson (2011).  \n",
    "\n",
    "$$P_{BG} = C(m_{Kp}) + A(m_{Kp}) e^{-b/B(m_{Kp})}$$\n",
    "\n",
    "where $A$, $B$, and $C$ are all polynomial functions of Kepler mag"
   ]
  },
  {
   "cell_type": "code",
   "execution_count": 15,
   "metadata": {
    "collapsed": true
   },
   "outputs": [],
   "source": [
    "pA = [-2.5038e-3, 0.12912, -2.4273, 19.980, -60.931]\n",
    "pB = [3.0668e-3, -0.15902, 3.0365, -25.320, 82.605]\n",
    "pC = [-1.5465e-5, 7.5396e-4, -1.2836e-2, 9.6434e-2, -0.27166]\n",
    "\n",
    "def Pbg(Kp, b, r=4):\n",
    "    \"\"\"Expected number of BG stars within r\", in magnitude range (Kp, Kp + 10)\n",
    "    \"\"\"\n",
    "    if Kp < 11:\n",
    "        Kp = 11\n",
    "    if Kp > 16:\n",
    "        Kp = 16\n",
    "    return (r/2)**2*(np.polyval(pC, Kp) + \n",
    "                     np.polyval(pA, Kp)*np.exp(-b/np.polyval(pB, Kp)))"
   ]
  },
  {
   "cell_type": "markdown",
   "metadata": {},
   "source": [
    "OK, so then let's create a new background \"target\" star population.  For each star in the target list, give it some BG stars."
   ]
  },
  {
   "cell_type": "code",
   "execution_count": 16,
   "metadata": {
    "collapsed": false
   },
   "outputs": [],
   "source": [
    "from astropy.coordinates import SkyCoord\n",
    "import pandas as pd\n",
    "from scipy.stats import poisson\n",
    "from astropy import constants as const\n",
    "\n",
    "G = const.G.cgs.value\n",
    "MSUN = const.M_sun.cgs.value\n",
    "RSUN = const.R_sun.cgs.value\n",
    "\n",
    "from vespa.stars.populations import BGStarPopulation_TRILEGAL\n",
    "\n",
    "ra, dec = 290.665452, 44.484019 #Center of Kepler field\n",
    "bgpop = BGStarPopulation_TRILEGAL('mod13_bg.h5',ra=ra, dec=dec)\n",
    "\n",
    "def generate_bg_targets(bg):\n",
    "\n",
    "    c = SkyCoord(targets.ra, targets.dec, unit='deg')\n",
    "    bs = c.galactic.b.deg\n",
    "\n",
    "    dataspan = []\n",
    "    dutycycle = []\n",
    "    mass_A = []\n",
    "    radius_A = []\n",
    "    age = []\n",
    "    feh = []\n",
    "    kepmag_target = []\n",
    "    kepmag_A = []\n",
    "    index = []\n",
    "    for (ix, s), b in zip(targets.iterrows(), bs):\n",
    "        n = poisson(Pbg(s.kepmag, b)).rvs()\n",
    "        for i in range(n):\n",
    "            bg_star = bg.stars.ix[np.random.randint(len(bg.stars))]\n",
    "            Kp = s.kepmag\n",
    "            while not ((bg_star.Kepler_mag > Kp) and \n",
    "                       (bg_star.Kepler_mag < Kp+10)):\n",
    "                bg_star = bg.stars.ix[np.random.randint(len(bg.stars))]\n",
    "            mass = bg_star.Mact\n",
    "            radius = np.sqrt(G * mass * MSUN / 10**bg_star.logg)/RSUN\n",
    "            dataspan.append(s.dataspan)\n",
    "            dutycycle.append(s.dutycycle)\n",
    "            mass_A.append(mass)\n",
    "            radius_A.append(radius)\n",
    "            kepmag_target.append(s.kepmag)\n",
    "            kepmag_A.append(bg_star.Kepler_mag)\n",
    "            age.append(bg_star.logAge)\n",
    "            feh.append(bg_star['[M/H]'])\n",
    "            index.append(ix)\n",
    "\n",
    "    bg_targets = pd.DataFrame({'dataspan':dataspan,\n",
    "                              'dutycycle':dutycycle,\n",
    "                              'mass_A':mass_A,\n",
    "                              'radius_A':radius_A,\n",
    "                               'age':age,\n",
    "                               'feh':feh,\n",
    "                               'kepmag_target':kepmag_target,\n",
    "                               'kepmag_A':kepmag_A}, index=index)\n",
    "    return bg_targets\n",
    "\n",
    "bg_targets = generate_bg_targets(bgpop)\n",
    "bg_targets.to_hdf('bg_targets.h5', 'df')\n",
    "bg_targets = pd.read_hdf('bg_targets.h5', 'df')"
   ]
  },
  {
   "cell_type": "code",
   "execution_count": 17,
   "metadata": {
    "collapsed": false
   },
   "outputs": [
    {
     "data": {
      "text/plain": [
       "22936"
      ]
     },
     "execution_count": 17,
     "metadata": {},
     "output_type": "execute_result"
    }
   ],
   "source": [
    "len(bg_targets)"
   ]
  },
  {
   "cell_type": "code",
   "execution_count": 18,
   "metadata": {
    "collapsed": false
   },
   "outputs": [
    {
     "data": {
      "text/plain": [
       "79"
      ]
     },
     "execution_count": 18,
     "metadata": {},
     "output_type": "execute_result"
    }
   ],
   "source": [
    "from sims import BG_BinaryPopulation\n",
    "bgs = BG_BinaryPopulation(bg_targets)\n",
    "bg_obs = bgs.observe(query='period > 5')\n",
    "len(bg_obs)"
   ]
  },
  {
   "cell_type": "code",
   "execution_count": 19,
   "metadata": {
    "collapsed": false
   },
   "outputs": [
    {
     "data": {
      "text/html": [
       "<div>\n",
       "<table border=\"1\" class=\"dataframe\">\n",
       "  <thead>\n",
       "    <tr style=\"text-align: right;\">\n",
       "      <th></th>\n",
       "      <th>period</th>\n",
       "      <th>d_pri</th>\n",
       "      <th>d_sec</th>\n",
       "      <th>T14_pri</th>\n",
       "      <th>T14_sec</th>\n",
       "      <th>b_pri</th>\n",
       "      <th>b_sec</th>\n",
       "      <th>k</th>\n",
       "      <th>n_pri</th>\n",
       "      <th>n_sec</th>\n",
       "      <th>radius_A</th>\n",
       "      <th>radius_B</th>\n",
       "      <th>flux_ratio</th>\n",
       "      <th>dutycycle</th>\n",
       "    </tr>\n",
       "  </thead>\n",
       "  <tbody>\n",
       "    <tr>\n",
       "      <th>16078</th>\n",
       "      <td>1099.848875</td>\n",
       "      <td>0.000000</td>\n",
       "      <td>0.000010</td>\n",
       "      <td>0.000000</td>\n",
       "      <td>0.040845</td>\n",
       "      <td>8.562929</td>\n",
       "      <td>1.428384</td>\n",
       "      <td>0.526708</td>\n",
       "      <td>0</td>\n",
       "      <td>1</td>\n",
       "      <td>0.72563</td>\n",
       "      <td>0.382196</td>\n",
       "      <td>0.035837</td>\n",
       "      <td>0.6989</td>\n",
       "    </tr>\n",
       "    <tr>\n",
       "      <th>116173</th>\n",
       "      <td>22954.401834</td>\n",
       "      <td>0.000577</td>\n",
       "      <td>0.000094</td>\n",
       "      <td>1.206407</td>\n",
       "      <td>1.225634</td>\n",
       "      <td>0.789221</td>\n",
       "      <td>0.854913</td>\n",
       "      <td>0.232871</td>\n",
       "      <td>0</td>\n",
       "      <td>1</td>\n",
       "      <td>0.55527</td>\n",
       "      <td>0.129306</td>\n",
       "      <td>0.009257</td>\n",
       "      <td>0.8751</td>\n",
       "    </tr>\n",
       "  </tbody>\n",
       "</table>\n",
       "</div>"
      ],
      "text/plain": [
       "              period     d_pri     d_sec   T14_pri   T14_sec     b_pri  \\\n",
       "16078    1099.848875  0.000000  0.000010  0.000000  0.040845  8.562929   \n",
       "116173  22954.401834  0.000577  0.000094  1.206407  1.225634  0.789221   \n",
       "\n",
       "           b_sec         k  n_pri  n_sec  radius_A  radius_B  flux_ratio  \\\n",
       "16078   1.428384  0.526708      0      1   0.72563  0.382196    0.035837   \n",
       "116173  0.854913  0.232871      0      1   0.55527  0.129306    0.009257   \n",
       "\n",
       "        dutycycle  \n",
       "16078      0.6989  \n",
       "116173     0.8751  "
      ]
     },
     "execution_count": 19,
     "metadata": {},
     "output_type": "execute_result"
    }
   ],
   "source": [
    "bg_obs.query(dfm_query)[obscols]"
   ]
  },
  {
   "cell_type": "markdown",
   "metadata": {},
   "source": [
    "This is a smaller number than the EBs, for several reasons.  Fewer target stars and smaller radii (lower transit probability) explain it all."
   ]
  },
  {
   "cell_type": "code",
   "execution_count": 21,
   "metadata": {
    "collapsed": false
   },
   "outputs": [
    {
     "data": {
      "text/plain": [
       "0.56807452903595945"
      ]
     },
     "execution_count": 21,
     "metadata": {},
     "output_type": "execute_result"
    }
   ],
   "source": [
    "ok = bgs.radius_B > 0\n",
    "np.median(bgs.radius_A[ok] + bgs.radius_B[ok])"
   ]
  },
  {
   "cell_type": "code",
   "execution_count": 22,
   "metadata": {
    "collapsed": false
   },
   "outputs": [
    {
     "data": {
      "text/plain": [
       "1.3747374721977597"
      ]
     },
     "execution_count": 22,
     "metadata": {},
     "output_type": "execute_result"
    }
   ],
   "source": [
    "ok = ebs.radius_B > 0\n",
    "np.median(ebs.radius_A[ok] + ebs.radius_B[ok])"
   ]
  },
  {
   "cell_type": "code",
   "execution_count": 23,
   "metadata": {
    "collapsed": false
   },
   "outputs": [
    {
     "data": {
      "text/plain": [
       "39626"
      ]
     },
     "execution_count": 23,
     "metadata": {},
     "output_type": "execute_result"
    }
   ],
   "source": [
    "len(targets)"
   ]
  },
  {
   "cell_type": "code",
   "execution_count": 25,
   "metadata": {
    "collapsed": false
   },
   "outputs": [
    {
     "data": {
      "text/plain": [
       "53.40857013072225"
      ]
     },
     "execution_count": 25,
     "metadata": {},
     "output_type": "execute_result"
    }
   ],
   "source": [
    "22770./39626 * (0.568/1.375) * 225"
   ]
  },
  {
   "cell_type": "markdown",
   "metadata": {},
   "source": [
    "OK, now let's write scripts to generate lots of these observed single-transit catalogs, to get some averages."
   ]
  },
  {
   "cell_type": "code",
   "execution_count": 27,
   "metadata": {
    "collapsed": false
   },
   "outputs": [],
   "source": [
    "from peerless.settings import PEERLESS_DATA_DIR"
   ]
  },
  {
   "cell_type": "code",
   "execution_count": 28,
   "metadata": {
    "collapsed": false
   },
   "outputs": [
    {
     "data": {
      "text/plain": [
       "'/u/tdm/peerless'"
      ]
     },
     "execution_count": 28,
     "metadata": {},
     "output_type": "execute_result"
    }
   ],
   "source": [
    "PEERLESS_DATA_DIR"
   ]
  },
  {
   "cell_type": "code",
   "execution_count": 29,
   "metadata": {
    "collapsed": false
   },
   "outputs": [
    {
     "name": "stdout",
     "output_type": "stream",
     "text": [
      "\u001b[0m\u001b[01;34mcatalogs\u001b[0m/\r\n",
      "\u001b[m"
     ]
    }
   ],
   "source": [
    "ls /u/tdm/peerless"
   ]
  },
  {
   "cell_type": "code",
   "execution_count": null,
   "metadata": {
    "collapsed": true
   },
   "outputs": [],
   "source": []
  }
 ],
 "metadata": {
  "kernelspec": {
   "display_name": "Python 2",
   "language": "python",
   "name": "python2"
  },
  "language_info": {
   "codemirror_mode": {
    "name": "ipython",
    "version": 2
   },
   "file_extension": ".py",
   "mimetype": "text/x-python",
   "name": "python",
   "nbconvert_exporter": "python",
   "pygments_lexer": "ipython2",
   "version": "2.7.10"
  }
 },
 "nbformat": 4,
 "nbformat_minor": 0
}
