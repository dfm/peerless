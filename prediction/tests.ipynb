{
 "cells": [
  {
   "cell_type": "code",
   "execution_count": 1,
   "metadata": {
    "collapsed": true
   },
   "outputs": [],
   "source": [
    "from peerless.catalogs import TargetCatalog, EBCatalog\n",
    "targets = TargetCatalog().df\n",
    "\n",
    "bad = targets.mass.isnull()\n",
    "targets.loc[bad, 'mass'] = targets.loc[bad, 'radius']"
   ]
  },
  {
   "cell_type": "code",
   "execution_count": 2,
   "metadata": {
    "collapsed": true
   },
   "outputs": [],
   "source": [
    "%run ../peerless/plot_setup.py"
   ]
  },
  {
   "cell_type": "code",
   "execution_count": 3,
   "metadata": {
    "collapsed": true
   },
   "outputs": [],
   "source": [
    "import numpy as np\n",
    "from exosyspop.populations import PlanetPopulation, REARTH, RSUN\n",
    "\n",
    "import astropy.constants as const\n",
    "RJUP = const.R_jup.cgs\n",
    "\n",
    "class SimplePlanetPopulation(PlanetPopulation):\n",
    "    \"\"\" Simple planet population for testing purposes\n",
    "    \n",
    "    Every star has exactly one planet.\n",
    "    All periods at a single period. \n",
    "    All radii at a single radius.\n",
    "    All circular orbits.\n",
    "    \"\"\"\n",
    "    single_period = 1*365.25\n",
    "    single_R = 1*RJUP/RSUN\n",
    "    \n",
    "    param_names = ()\n",
    "    default_params = {}\n",
    "    \n",
    "    def _sample_ecc(self, N):\n",
    "        return np.zeros(N)\n",
    "    \n",
    "    def _sample_period(self, N):\n",
    "        return np.ones(N)*self.single_period\n",
    "    \n",
    "    def _sample_Np(self, N):\n",
    "        return np.ones(N)\n",
    "        \n",
    "    def _sample_Rp(self, N):\n",
    "        return np.ones(N)*self.single_R"
   ]
  },
  {
   "cell_type": "code",
   "execution_count": 4,
   "metadata": {
    "collapsed": true
   },
   "outputs": [],
   "source": [
    "# Use an idealized population with all dutycycle=1\n",
    "targets_ideal = targets.copy()\n",
    "targets_ideal.dutycycle = 1.\n",
    "\n",
    "plpop = SimplePlanetPopulation(targets_ideal)"
   ]
  },
  {
   "cell_type": "code",
   "execution_count": 5,
   "metadata": {
    "collapsed": false
   },
   "outputs": [
    {
     "name": "stderr",
     "output_type": "stream",
     "text": [
      "/Users/tdm/repositories/exosyspop/exosyspop/populations.py:1541: VisibleDeprecationWarning: using a non-integer number instead of an integer will result in an error in the future\n",
      "  i_host = np.zeros(Ntot, dtype=int)\n",
      "/Users/tdm/repositories/exosyspop/exosyspop/populations.py:1544: VisibleDeprecationWarning: using a non-integer number instead of an integer will result in an error in the future\n",
      "  i_host[i:i+n] = ix\n",
      "/Users/tdm/anaconda/lib/python2.7/site-packages/numpy/core/numeric.py:190: VisibleDeprecationWarning: using a non-integer number instead of an integer will result in an error in the future\n",
      "  a = empty(shape, dtype, order)\n"
     ]
    },
    {
     "data": {
      "text/plain": [
       "181.17077719089406"
      ]
     },
     "execution_count": 5,
     "metadata": {},
     "output_type": "execute_result"
    }
   ],
   "source": [
    "# This is the expected number of detections: number of stars * average transit probability\n",
    "p_ecl = (1./plpop.aR) * (1+plpop.radius_B/plpop.radius_A)  # R*/a corrected for grazing eclipses\n",
    "n_exp = len(targets) * p_ecl.mean()\n",
    "n_exp"
   ]
  },
  {
   "cell_type": "code",
   "execution_count": 6,
   "metadata": {
    "collapsed": false
   },
   "outputs": [
    {
     "name": "stdout",
     "output_type": "stream",
     "text": [
      "Planet: Depth trained: R2=0.999862111038\n",
      "Planet: Duration trained: R2=0.999838731564\n",
      "Planet: Slope trained: R2=0.999369985322\n"
     ]
    }
   ],
   "source": [
    "n_obs = [len(plpop.observe(new_orbits=True, regr_trap=True).query('d_pri > 0')) for i in range(100)]"
   ]
  },
  {
   "cell_type": "code",
   "execution_count": 7,
   "metadata": {
    "collapsed": false
   },
   "outputs": [
    {
     "data": {
      "text/plain": [
       "<matplotlib.lines.Line2D at 0x12074d610>"
      ]
     },
     "execution_count": 7,
     "metadata": {},
     "output_type": "execute_result"
    },
    {
     "name": "stderr",
     "output_type": "stream",
     "text": [
      "/Users/tdm/anaconda/lib/python2.7/site-packages/matplotlib/figure.py:1744: UserWarning: This figure includes Axes that are not compatible with tight_layout, so its results might be incorrect.\n",
      "  warnings.warn(\"This figure includes Axes that are not \"\n"
     ]
    },
    {
     "data": {
      "image/png": "[encoded data removed]",
      "text/plain": [
       "<matplotlib.figure.Figure at 0x12074da50>"
      ]
     },
     "metadata": {},
     "output_type": "display_data"
    }
   ],
   "source": [
    "%matplotlib inline\n",
    "import matplotlib.pyplot as plt\n",
    "\n",
    "plt.hist(n_obs, histtype='step', lw=3);\n",
    "plt.axvline(n_exp, color='r', ls=':', lw=3)"
   ]
  },
  {
   "cell_type": "code",
   "execution_count": 8,
   "metadata": {
    "collapsed": false
   },
   "outputs": [
    {
     "data": {
      "text/plain": [
       "181.13999999999999"
      ]
     },
     "execution_count": 8,
     "metadata": {},
     "output_type": "execute_result"
    }
   ],
   "source": [
    "np.mean(n_obs)"
   ]
  },
  {
   "cell_type": "code",
   "execution_count": null,
   "metadata": {
    "collapsed": true
   },
   "outputs": [],
   "source": []
  }
 ],
 "metadata": {
  "kernelspec": {
   "display_name": "Python 2",
   "language": "python",
   "name": "python2"
  },
  "language_info": {
   "codemirror_mode": {
    "name": "ipython",
    "version": 2
   },
   "file_extension": ".py",
   "mimetype": "text/x-python",
   "name": "python",
   "nbconvert_exporter": "python",
   "pygments_lexer": "ipython2",
   "version": "2.7.11"
  }
 },
 "nbformat": 4,
 "nbformat_minor": 0
}
