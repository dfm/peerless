{
 "cells": [
  {
   "cell_type": "code",
   "execution_count": 1,
   "metadata": {
    "collapsed": false
   },
   "outputs": [],
   "source": [
    "# Set up plot stuff the DFM way:\n",
    "\n",
    "%run ../document/figures/plot_setup.py"
   ]
  },
  {
   "cell_type": "code",
   "execution_count": 2,
   "metadata": {
    "collapsed": false
   },
   "outputs": [],
   "source": [
    "# Get target list; this follows the selection in ../document/figures/targets.py \n",
    "import sys\n",
    "sys.path.append('..')\n",
    "\n",
    "from peerless.catalogs import KICatalog, KOICatalog, EBCatalog, BlacklistCatalog\n",
    "import numpy as np\n",
    "import pandas as pd\n",
    "\n",
    "stlr = KICatalog().df\n",
    "m = (4200 <= stlr.teff) & (stlr.teff <= 6100)\n",
    "m &= stlr.radius <= 1.15\n",
    "m &= stlr.dataspan > 365.25*2.\n",
    "m &= stlr.dutycycle > 0.6\n",
    "m &= stlr.rrmscdpp07p5 <= 1000.\n",
    "m &= stlr.kepmag < 15.\n",
    "\n",
    "# known EBs\n",
    "ebs = set(np.array(EBCatalog().df[\"#KIC\"]))\n",
    "\n",
    "# KOI false positives\n",
    "kois = KOICatalog().df\n",
    "kois = kois[kois.koi_disposition == \"FALSE POSITIVE\"]\n",
    "fps = set(np.array(kois.kepid))\n",
    "\n",
    "# And then finally the blacklist.\n",
    "bl = set(np.array(BlacklistCatalog().df.kicid))\n",
    "\n",
    "# The full list of ignores.\n",
    "ignore = fps | bl #ebs | fps | bl  #Don't ignore EBs for purposes of prediction\n",
    "m &= ~stlr.kepid.isin(ignore)\n",
    "\n",
    "targets = stlr[m]"
   ]
  },
  {
   "cell_type": "code",
   "execution_count": 3,
   "metadata": {
    "collapsed": false
   },
   "outputs": [
    {
     "data": {
      "text/plain": [
       "kepid    39626\n",
       "mass     38983\n",
       "feh      39626\n",
       "dtype: int64"
      ]
     },
     "execution_count": 3,
     "metadata": {},
     "output_type": "execute_result"
    }
   ],
   "source": [
    "targets[['kepid','mass','feh']].count()"
   ]
  },
  {
   "cell_type": "code",
   "execution_count": 4,
   "metadata": {
    "collapsed": false
   },
   "outputs": [
    {
     "name": "stderr",
     "output_type": "stream",
     "text": [
      "/u/tdm/anaconda/lib/python2.7/site-packages/pandas/core/indexing.py:426: SettingWithCopyWarning: \n",
      "A value is trying to be set on a copy of a slice from a DataFrame.\n",
      "Try using .loc[row_indexer,col_indexer] = value instead\n",
      "\n",
      "See the caveats in the documentation: http://pandas.pydata.org/pandas-docs/stable/indexing.html#indexing-view-versus-copy\n",
      "  self.obj[item] = s\n"
     ]
    }
   ],
   "source": [
    "# funny, there seem to be some missing masses.  Let's artificially add those in, with M=R\n",
    "bad = targets.mass.isnull()\n",
    "targets.loc[bad, 'mass'] = targets.loc[bad, 'radius']"
   ]
  },
  {
   "cell_type": "code",
   "execution_count": 5,
   "metadata": {
    "collapsed": false,
    "scrolled": true
   },
   "outputs": [
    {
     "name": "stderr",
     "output_type": "stream",
     "text": [
      "/u/tdm/anaconda/lib/python2.7/site-packages/matplotlib/font_manager.py:273: UserWarning: Matplotlib is building the font cache using fc-list. This may take a moment.\n",
      "  warnings.warn('Matplotlib is building the font cache using fc-list. This may take a moment.')\n",
      "WARNING:root:progressbar not imported\n"
     ]
    }
   ],
   "source": [
    "from exosyspop import KeplerBinaryPopulation, TRILEGAL_BGBinaryPopulation\n",
    "\n",
    "ebpop = KeplerBinaryPopulation(targets, ecc_empirical=True)\n",
    "bgstars = pd.read_hdf('bgstars.h5','df')\n",
    "bgpop = TRILEGAL_BGBinaryPopulation(targets, bgstars, ecc_empirical=True)"
   ]
  },
  {
   "cell_type": "code",
   "execution_count": 8,
   "metadata": {
    "collapsed": false
   },
   "outputs": [
    {
     "name": "stdout",
     "output_type": "stream",
     "text": [
      "EB: dmag regressor trained, R2=0.999481613511\n",
      "EB: qR regressor trained, R2=0.999497979346\n"
     ]
    },
    {
     "name": "stderr",
     "output_type": "stream",
     "text": [
      "/u/tdm/anaconda/lib/python2.7/site-packages/matplotlib/figure.py:1744: UserWarning: This figure includes Axes that are not compatible with tight_layout, so its results might be incorrect.\n",
      "  warnings.warn(\"This figure includes Axes that are not \"\n"
     ]
    },
    {
     "data": {
      "image/png": "[encoded data removed]",
      "text/plain": [
       "<matplotlib.figure.Figure at 0x7f45a4c06710>"
      ]
     },
     "metadata": {},
     "output_type": "display_data"
    }
   ],
   "source": [
    "%matplotlib inline\n",
    "import matplotlib.pyplot as plt\n",
    "\n",
    "plt.hist(np.log10(ebpop.period), bins=20, histtype='step', lw=3);\n",
    "plt.xlabel('log10(Period)');"
   ]
  },
  {
   "cell_type": "code",
   "execution_count": 19,
   "metadata": {
    "collapsed": false
   },
   "outputs": [
    {
     "data": {
      "text/plain": [
       "{'beta_a': 0.8,\n",
       " 'beta_b': 2.0,\n",
       " 'fB': 0.44,\n",
       " 'gamma': 0.3,\n",
       " 'mu_logp': 2.3979400086720375,\n",
       " 'period_min': 5.0,\n",
       " 'qmin': 0.1,\n",
       " 'sig_logp': 2.3}"
      ]
     },
     "execution_count": 19,
     "metadata": {},
     "output_type": "execute_result"
    }
   ],
   "source": [
    "ebpop.params"
   ]
  },
  {
   "cell_type": "code",
   "execution_count": 20,
   "metadata": {
    "collapsed": false
   },
   "outputs": [
    {
     "name": "stdout",
     "output_type": "stream",
     "text": [
      "66 EBs\n",
      "40 BEBs\n"
     ]
    }
   ],
   "source": [
    "q = 'period > 10 and period < 1000 and ' +\\\n",
    "    '((n_pri > 0 and n_sec > 0) or ' +\\\n",
    "     '(n_pri > 2 or n_sec > 2)) and (T14_pri < 2.5 or T14_sec < 2.5)'\n",
    "ebs = ebpop.observe(new=True).query(q)\n",
    "bgs = bgpop.observe(new=True, use_ic=True).query(q)\n",
    "print('{} EBs'.format(len(ebs)))\n",
    "print('{} BEBs'.format(len(bgs)))"
   ]
  },
  {
   "cell_type": "markdown",
   "metadata": {},
   "source": [
    "OK, this is how many EBs we predict there to be with periods between 10 and 1000 days.  How does this compare with the actual EB catalog?"
   ]
  },
  {
   "cell_type": "code",
   "execution_count": 21,
   "metadata": {
    "collapsed": false
   },
   "outputs": [
    {
     "data": {
      "text/plain": [
       "161.27563990248152"
      ]
     },
     "execution_count": 21,
     "metadata": {},
     "output_type": "execute_result"
    }
   ],
   "source": [
    "# Total number of Kepler EBs with 10 < P < 1000, scaled by number of targets\n",
    "from __future__ import division\n",
    "n_exp = len(EBCatalog().df.query('period>10 and period < 1000')) * (len(targets)/len(KICatalog().df))\n",
    "n_exp"
   ]
  },
  {
   "cell_type": "markdown",
   "metadata": {},
   "source": [
    "Let's do a bunch of these observation simulations and see what it looks like:"
   ]
  },
  {
   "cell_type": "code",
   "execution_count": 22,
   "metadata": {
    "collapsed": false
   },
   "outputs": [
    {
     "data": {
      "image/png": "[encoded data removed]",
      "text/plain": [
       "<matplotlib.figure.Figure at 0x7f946d1074d0>"
      ]
     },
     "metadata": {},
     "output_type": "display_data"
    }
   ],
   "source": [
    "n_obs = [len(ebpop.observe(new_orbits=True).query(q)) for i in range(200)]\n",
    "\n",
    "plt.hist(n_obs, histtype='step', lw=3, bins=10, color='k');\n",
    "plt.axvline(n_exp, color='r', ls='--', lw=3);"
   ]
  },
  {
   "cell_type": "markdown",
   "metadata": {},
   "source": [
    "OK, this looks like the default Raghavan binary population model underpredicts the number of EBs in this period range by about a factor of 2.\n",
    "\n",
    "Let's try to find a new EB population model that at least reproduces the right number of EBs.  Start with a powerlaw model rather than the log-normal from Raghavan+."
   ]
  },
  {
   "cell_type": "code",
   "execution_count": 10,
   "metadata": {
    "collapsed": false
   },
   "outputs": [
    {
     "data": {
      "text/plain": [
       "{'beta': -0.75,\n",
       " 'beta_a': 0.8,\n",
       " 'beta_b': 2.0,\n",
       " 'fB': 0.15,\n",
       " 'gamma': 0.3,\n",
       " 'period_max': 7300,\n",
       " 'period_min': 5,\n",
       " 'qmin': 0.1}"
      ]
     },
     "execution_count": 10,
     "metadata": {},
     "output_type": "execute_result"
    }
   ],
   "source": [
    "from exosyspop.populations import KeplerPowerLawBinaryPopulation\n",
    "\n",
    "ebpop = KeplerPowerLawBinaryPopulation(targets, ecc_empirical=True)\n",
    "ebpop.params"
   ]
  },
  {
   "cell_type": "code",
   "execution_count": 11,
   "metadata": {
    "collapsed": false
   },
   "outputs": [
    {
     "name": "stdout",
     "output_type": "stream",
     "text": [
      "0\n",
      "EB: dmag regressor trained, R2=0.999530371454\n",
      "EB: qR regressor trained, R2=0.999547613838\n",
      "99\n"
     ]
    },
    {
     "data": {
      "image/png": "[encoded data removed]",
      "text/plain": [
       "<matplotlib.figure.Figure at 0x7f45a4c06110>"
      ]
     },
     "metadata": {},
     "output_type": "display_data"
    }
   ],
   "source": [
    "min_period = 20\n",
    "ebpop.set_params(beta=-0.95, period_min=min_period, fB=0.14)\n",
    "\n",
    "q = 'period > {} and period < 1000 and '.format(min_period) +\\\n",
    "    '((n_pri > 0 and n_sec > 0) or ' +\\\n",
    "     '(n_pri > 2 or n_sec > 2)) and (T14_pri < 2.5 or T14_sec < 2.5)'\n",
    "\n",
    "kep_ebs = EBCatalog().df.query('{} < period < 1000'.format(min_period))\n",
    "n_exp = len(kep_ebs) * (len(targets)/len(KICatalog().df))\n",
    "print(n_exp)\n",
    "plt.hist(np.log10(kep_ebs.period), \n",
    "         histtype='step', lw=3, normed=True);\n",
    "new_obs = ebpop.observe(new_orbits=True).query(q)\n",
    "plt.hist(np.log10(new_obs.period),\n",
    "        histtype='step', lw=3, normed=True);\n",
    "print(len(new_obs))"
   ]
  },
  {
   "cell_type": "code",
   "execution_count": 12,
   "metadata": {
    "collapsed": false
   },
   "outputs": [
    {
     "data": {
      "image/png": "[encoded data removed]",
      "text/plain": [
       "<matplotlib.figure.Figure at 0x7f457a17c810>"
      ]
     },
     "metadata": {},
     "output_type": "display_data"
    }
   ],
   "source": [
    "n_obs = [len(ebpop.observe(new_orbits=True).query(q)) for i in range(200)]\n",
    "\n",
    "plt.hist(n_obs, histtype='step', lw=3, bins=10, color='k');\n",
    "plt.axvline(n_exp, color='r', ls='--', lw=3);"
   ]
  },
  {
   "cell_type": "code",
   "execution_count": 16,
   "metadata": {
    "collapsed": false
   },
   "outputs": [],
   "source": [
    "c = ebpop.observe()"
   ]
  },
  {
   "cell_type": "code",
   "execution_count": 26,
   "metadata": {
    "collapsed": false
   },
   "outputs": [
    {
     "data": {
      "text/html": [
       "<div>\n",
       "<table border=\"1\" class=\"dataframe\">\n",
       "  <thead>\n",
       "    <tr style=\"text-align: right;\">\n",
       "      <th></th>\n",
       "      <th>host</th>\n",
       "      <th>period</th>\n",
       "      <th>ecc</th>\n",
       "      <th>w</th>\n",
       "      <th>inc</th>\n",
       "      <th>a</th>\n",
       "      <th>aR</th>\n",
       "      <th>b_pri</th>\n",
       "      <th>b_sec</th>\n",
       "      <th>k</th>\n",
       "      <th>...</th>\n",
       "      <th>T23_pri</th>\n",
       "      <th>T23_sec</th>\n",
       "      <th>dataspan</th>\n",
       "      <th>dutycycle</th>\n",
       "      <th>b_target</th>\n",
       "      <th>flux_ratio</th>\n",
       "      <th>dilution</th>\n",
       "      <th>n_pri</th>\n",
       "      <th>n_sec</th>\n",
       "      <th>phase_sec</th>\n",
       "    </tr>\n",
       "  </thead>\n",
       "  <tbody>\n",
       "    <tr>\n",
       "      <th>0</th>\n",
       "      <td>1190</td>\n",
       "      <td>740.215783</td>\n",
       "      <td>0.625931</td>\n",
       "      <td>2.099396</td>\n",
       "      <td>1.565043</td>\n",
       "      <td>2.598295e+13</td>\n",
       "      <td>364.566571</td>\n",
       "      <td>0.828162</td>\n",
       "      <td>2.776465</td>\n",
       "      <td>0.330269</td>\n",
       "      <td>...</td>\n",
       "      <td>0.000000</td>\n",
       "      <td>0.000000</td>\n",
       "      <td>1459.789</td>\n",
       "      <td>0.8755</td>\n",
       "      <td>13.851932</td>\n",
       "      <td>0.006075</td>\n",
       "      <td>1</td>\n",
       "      <td>2</td>\n",
       "      <td>0</td>\n",
       "      <td>0.266869</td>\n",
       "    </tr>\n",
       "    <tr>\n",
       "      <th>1</th>\n",
       "      <td>3672</td>\n",
       "      <td>93.548023</td>\n",
       "      <td>0.663654</td>\n",
       "      <td>0.381173</td>\n",
       "      <td>1.545903</td>\n",
       "      <td>7.359202e+12</td>\n",
       "      <td>109.615596</td>\n",
       "      <td>1.224410</td>\n",
       "      <td>2.027180</td>\n",
       "      <td>0.792208</td>\n",
       "      <td>...</td>\n",
       "      <td>0.000000</td>\n",
       "      <td>0.000000</td>\n",
       "      <td>1459.789</td>\n",
       "      <td>0.8753</td>\n",
       "      <td>14.891845</td>\n",
       "      <td>0.353098</td>\n",
       "      <td>1</td>\n",
       "      <td>11</td>\n",
       "      <td>0</td>\n",
       "      <td>0.875490</td>\n",
       "    </tr>\n",
       "    <tr>\n",
       "      <th>2</th>\n",
       "      <td>3809</td>\n",
       "      <td>73.410919</td>\n",
       "      <td>0.250570</td>\n",
       "      <td>4.215533</td>\n",
       "      <td>1.557530</td>\n",
       "      <td>5.978814e+12</td>\n",
       "      <td>113.271095</td>\n",
       "      <td>1.806121</td>\n",
       "      <td>1.154073</td>\n",
       "      <td>0.999722</td>\n",
       "      <td>...</td>\n",
       "      <td>0.000000</td>\n",
       "      <td>0.000000</td>\n",
       "      <td>1459.789</td>\n",
       "      <td>0.8751</td>\n",
       "      <td>16.582071</td>\n",
       "      <td>0.999494</td>\n",
       "      <td>1</td>\n",
       "      <td>17</td>\n",
       "      <td>18</td>\n",
       "      <td>0.422244</td>\n",
       "    </tr>\n",
       "    <tr>\n",
       "      <th>3</th>\n",
       "      <td>7156</td>\n",
       "      <td>280.794317</td>\n",
       "      <td>0.498939</td>\n",
       "      <td>1.885877</td>\n",
       "      <td>1.560288</td>\n",
       "      <td>1.445402e+13</td>\n",
       "      <td>231.184227</td>\n",
       "      <td>1.237467</td>\n",
       "      <td>3.471102</td>\n",
       "      <td>0.641239</td>\n",
       "      <td>...</td>\n",
       "      <td>0.000000</td>\n",
       "      <td>0.000000</td>\n",
       "      <td>1459.789</td>\n",
       "      <td>0.8753</td>\n",
       "      <td>16.356929</td>\n",
       "      <td>0.066798</td>\n",
       "      <td>1</td>\n",
       "      <td>5</td>\n",
       "      <td>0</td>\n",
       "      <td>0.388763</td>\n",
       "    </tr>\n",
       "    <tr>\n",
       "      <th>4</th>\n",
       "      <td>9295</td>\n",
       "      <td>44.142544</td>\n",
       "      <td>0.336003</td>\n",
       "      <td>4.611192</td>\n",
       "      <td>1.567758</td>\n",
       "      <td>4.342152e+12</td>\n",
       "      <td>50.555094</td>\n",
       "      <td>0.204678</td>\n",
       "      <td>0.102120</td>\n",
       "      <td>0.545398</td>\n",
       "      <td>...</td>\n",
       "      <td>0.159619</td>\n",
       "      <td>0.086911</td>\n",
       "      <td>1459.789</td>\n",
       "      <td>0.8755</td>\n",
       "      <td>14.134066</td>\n",
       "      <td>0.095134</td>\n",
       "      <td>1</td>\n",
       "      <td>26</td>\n",
       "      <td>25</td>\n",
       "      <td>0.477076</td>\n",
       "    </tr>\n",
       "  </tbody>\n",
       "</table>\n",
       "<p>5 rows × 26 columns</p>\n",
       "</div>"
      ],
      "text/plain": [
       "   host      period       ecc         w       inc             a          aR  \\\n",
       "0  1190  740.215783  0.625931  2.099396  1.565043  2.598295e+13  364.566571   \n",
       "1  3672   93.548023  0.663654  0.381173  1.545903  7.359202e+12  109.615596   \n",
       "2  3809   73.410919  0.250570  4.215533  1.557530  5.978814e+12  113.271095   \n",
       "3  7156  280.794317  0.498939  1.885877  1.560288  1.445402e+13  231.184227   \n",
       "4  9295   44.142544  0.336003  4.611192  1.567758  4.342152e+12   50.555094   \n",
       "\n",
       "      b_pri     b_sec         k    ...       T23_pri   T23_sec  dataspan  \\\n",
       "0  0.828162  2.776465  0.330269    ...      0.000000  0.000000  1459.789   \n",
       "1  1.224410  2.027180  0.792208    ...      0.000000  0.000000  1459.789   \n",
       "2  1.806121  1.154073  0.999722    ...      0.000000  0.000000  1459.789   \n",
       "3  1.237467  3.471102  0.641239    ...      0.000000  0.000000  1459.789   \n",
       "4  0.204678  0.102120  0.545398    ...      0.159619  0.086911  1459.789   \n",
       "\n",
       "   dutycycle   b_target  flux_ratio  dilution  n_pri  n_sec  phase_sec  \n",
       "0     0.8755  13.851932    0.006075         1      2      0   0.266869  \n",
       "1     0.8753  14.891845    0.353098         1     11      0   0.875490  \n",
       "2     0.8751  16.582071    0.999494         1     17     18   0.422244  \n",
       "3     0.8753  16.356929    0.066798         1      5      0   0.388763  \n",
       "4     0.8755  14.134066    0.095134         1     26     25   0.477076  \n",
       "\n",
       "[5 rows x 26 columns]"
      ]
     },
     "execution_count": 26,
     "metadata": {},
     "output_type": "execute_result"
    }
   ],
   "source": [
    "c.head()"
   ]
  },
  {
   "cell_type": "code",
   "execution_count": 27,
   "metadata": {
    "collapsed": true
   },
   "outputs": [],
   "source": [
    "s = ebpop.get_target(1190)"
   ]
  },
  {
   "cell_type": "code",
   "execution_count": 29,
   "metadata": {
    "collapsed": false
   },
   "outputs": [
    {
     "data": {
      "text/plain": [
       "kepid    10075199\n",
       "kepid    10075199\n",
       "Name: 1190, dtype: object"
      ]
     },
     "execution_count": 29,
     "metadata": {},
     "output_type": "execute_result"
    }
   ],
   "source": [
    "s[['kepid', 'kepid']]"
   ]
  },
  {
   "cell_type": "code",
   "execution_count": 23,
   "metadata": {
    "collapsed": false
   },
   "outputs": [
    {
     "name": "stdout",
     "output_type": "stream",
     "text": [
      "1 loops, best of 3: 360 ms per loop\n"
     ]
    }
   ],
   "source": [
    "%timeit [ebpop.get_noise(c.host[0], 3.5) for i in range(1000)]"
   ]
  },
  {
   "cell_type": "markdown",
   "metadata": {},
   "source": [
    "OK, now that we can roughly match the Kepler EB catalog from 10 to 1000d with these EB population parameters, we want to know what's the typical number of single/double eclipse signals."
   ]
  },
  {
   "cell_type": "code",
   "execution_count": 26,
   "metadata": {
    "collapsed": false
   },
   "outputs": [],
   "source": [
    "dfm_q = 'n_pri < 3 and n_sec < 3 and (n_pri==0 or n_sec==0)'\n",
    "dfm_q += ' and ((T14_pri < 2.5 and n_pri > 0) or (T14_sec < 2.5 and n_sec > 0))'\n",
    "nobs_eb = [len(ebpop.observe(new_orbits=True).query(dfm_q)) for i in range(200)]\n",
    "nobs_bg = [len(bgpop.observe(new_orbits=True).query(dfm_q)) for i in range(200)]"
   ]
  },
  {
   "cell_type": "code",
   "execution_count": 27,
   "metadata": {
    "collapsed": false
   },
   "outputs": [
    {
     "data": {
      "image/png": "[encoded data removed]",
      "text/plain": [
       "<matplotlib.figure.Figure at 0x7ff080c5e690>"
      ]
     },
     "metadata": {},
     "output_type": "display_data"
    }
   ],
   "source": [
    "plt.hist(nobs_eb, histtype='step', lw=3, label='EB');\n",
    "plt.hist(nobs_bg, histtype='step', lw=3, label='BEB');\n",
    "plt.legend();"
   ]
  },
  {
   "cell_type": "markdown",
   "metadata": {},
   "source": [
    "OK, now let's determine the typical shapes.  Let's do this with a big sample of simulated observations.  First, train the trapezoid regressions."
   ]
  },
  {
   "cell_type": "code",
   "execution_count": 18,
   "metadata": {
    "collapsed": false
   },
   "outputs": [
    {
     "name": "stdout",
     "output_type": "stream",
     "text": [
      "EB: Depth trained: R2=0.999263944429\n",
      "EB: Duration trained: R2=0.996395358585\n",
      "EB: Slope trained: R2=0.974784712751\n"
     ]
    },
    {
     "data": {
      "text/plain": [
       "(Pipeline(steps=[('scale', StandardScaler(copy=True, with_mean=True, with_std=True)), ('regression', RandomForestRegressor(bootstrap=True, criterion='mse', max_depth=None,\n",
       "            max_features='auto', max_leaf_nodes=None, min_samples_leaf=1,\n",
       "            min_samples_split=2, min_weight_fraction_leaf=0.0,\n",
       "            n_estimators=10, n_jobs=1, oob_score=False, random_state=None,\n",
       "            verbose=0, warm_start=False))]),\n",
       " Pipeline(steps=[('scale', StandardScaler(copy=True, with_mean=True, with_std=True)), ('regression', RandomForestRegressor(bootstrap=True, criterion='mse', max_depth=None,\n",
       "            max_features='auto', max_leaf_nodes=None, min_samples_leaf=1,\n",
       "            min_samples_split=2, min_weight_fraction_leaf=0.0,\n",
       "            n_estimators=10, n_jobs=1, oob_score=False, random_state=None,\n",
       "            verbose=0, warm_start=False))]),\n",
       " Pipeline(steps=[('scale', StandardScaler(copy=True, with_mean=True, with_std=True)), ('regression', RandomForestRegressor(bootstrap=True, criterion='mse', max_depth=None,\n",
       "            max_features='auto', max_leaf_nodes=None, min_samples_leaf=1,\n",
       "            min_samples_split=2, min_weight_fraction_leaf=0.0,\n",
       "            n_estimators=10, n_jobs=1, oob_score=False, random_state=None,\n",
       "            verbose=0, warm_start=False))]))"
      ]
     },
     "execution_count": 18,
     "metadata": {},
     "output_type": "execute_result"
    }
   ],
   "source": [
    "ebpop._train_trap(N=1000);"
   ]
  },
  {
   "cell_type": "code",
   "execution_count": 19,
   "metadata": {
    "collapsed": false
   },
   "outputs": [
    {
     "name": "stdout",
     "output_type": "stream",
     "text": [
      "BGEB: Depth trained: R2=0.998516118526\n",
      "BGEB: Duration trained: R2=0.993863316155\n",
      "BGEB: Slope trained: R2=0.988613897698\n"
     ]
    },
    {
     "data": {
      "text/plain": [
       "(Pipeline(steps=[('scale', StandardScaler(copy=True, with_mean=True, with_std=True)), ('regression', RandomForestRegressor(bootstrap=True, criterion='mse', max_depth=None,\n",
       "            max_features='auto', max_leaf_nodes=None, min_samples_leaf=1,\n",
       "            min_samples_split=2, min_weight_fraction_leaf=0.0,\n",
       "            n_estimators=10, n_jobs=1, oob_score=False, random_state=None,\n",
       "            verbose=0, warm_start=False))]),\n",
       " Pipeline(steps=[('scale', StandardScaler(copy=True, with_mean=True, with_std=True)), ('regression', RandomForestRegressor(bootstrap=True, criterion='mse', max_depth=None,\n",
       "            max_features='auto', max_leaf_nodes=None, min_samples_leaf=1,\n",
       "            min_samples_split=2, min_weight_fraction_leaf=0.0,\n",
       "            n_estimators=10, n_jobs=1, oob_score=False, random_state=None,\n",
       "            verbose=0, warm_start=False))]),\n",
       " Pipeline(steps=[('scale', StandardScaler(copy=True, with_mean=True, with_std=True)), ('regression', RandomForestRegressor(bootstrap=True, criterion='mse', max_depth=None,\n",
       "            max_features='auto', max_leaf_nodes=None, min_samples_leaf=1,\n",
       "            min_samples_split=2, min_weight_fraction_leaf=0.0,\n",
       "            n_estimators=10, n_jobs=1, oob_score=False, random_state=None,\n",
       "            verbose=0, warm_start=False))]))"
      ]
     },
     "execution_count": 19,
     "metadata": {},
     "output_type": "execute_result"
    }
   ],
   "source": [
    "bgpop._train_trap(N=1000, use_ic=True);"
   ]
  },
  {
   "cell_type": "code",
   "execution_count": 30,
   "metadata": {
    "collapsed": false,
    "scrolled": true
   },
   "outputs": [],
   "source": [
    "N = 2000\n",
    "eb_obs = ebpop.get_N_observed(query=dfm_q, N=N, new_orbits=True)\n",
    "bg_obs = bgpop.get_N_observed(query=dfm_q, N=N, use_ic=True, new_orbits=True)"
   ]
  },
  {
   "cell_type": "code",
   "execution_count": 33,
   "metadata": {
    "collapsed": false
   },
   "outputs": [
    {
     "data": {
      "text/plain": [
       "Index([u'period', u'n_pri', u'logd_pri', u'dur_pri', u'slope_pri', u'n_sec',\n",
       "       u'logd_sec', u'dur_sec', u'slope_sec', u'phase_sec'],\n",
       "      dtype='object')"
      ]
     },
     "execution_count": 33,
     "metadata": {},
     "output_type": "execute_result"
    }
   ],
   "source": [
    "eb_obs.observed.columns"
   ]
  },
  {
   "cell_type": "markdown",
   "metadata": {},
   "source": [
    "OK, now let's load up the candidates."
   ]
  },
  {
   "cell_type": "code",
   "execution_count": 35,
   "metadata": {
    "collapsed": false
   },
   "outputs": [
    {
     "data": {
      "text/html": [
       "<div>\n",
       "<table border=\"1\" class=\"dataframe\">\n",
       "  <thead>\n",
       "    <tr style=\"text-align: right;\">\n",
       "      <th></th>\n",
       "      <th>depth</th>\n",
       "      <th>transit_duration</th>\n",
       "    </tr>\n",
       "  </thead>\n",
       "  <tbody>\n",
       "    <tr>\n",
       "      <th>17</th>\n",
       "      <td>0.003340</td>\n",
       "      <td>0.393807</td>\n",
       "    </tr>\n",
       "    <tr>\n",
       "      <th>27</th>\n",
       "      <td>0.078353</td>\n",
       "      <td>1.157742</td>\n",
       "    </tr>\n",
       "    <tr>\n",
       "      <th>39</th>\n",
       "      <td>0.015872</td>\n",
       "      <td>0.684503</td>\n",
       "    </tr>\n",
       "    <tr>\n",
       "      <th>40</th>\n",
       "      <td>0.015061</td>\n",
       "      <td>0.684186</td>\n",
       "    </tr>\n",
       "    <tr>\n",
       "      <th>43</th>\n",
       "      <td>0.023301</td>\n",
       "      <td>0.361075</td>\n",
       "    </tr>\n",
       "  </tbody>\n",
       "</table>\n",
       "</div>"
      ],
      "text/plain": [
       "       depth  transit_duration\n",
       "17  0.003340          0.393807\n",
       "27  0.078353          1.157742\n",
       "39  0.015872          0.684503\n",
       "40  0.015061          0.684186\n",
       "43  0.023301          0.361075"
      ]
     },
     "execution_count": 35,
     "metadata": {},
     "output_type": "execute_result"
    }
   ],
   "source": [
    "candidates = pd.read_csv('../results/candidates.csv').query('accept_bic and accept_time and num_peaks <= 2')\n",
    "candidates[['depth','transit_duration']].head()"
   ]
  },
  {
   "cell_type": "code",
   "execution_count": 53,
   "metadata": {
    "collapsed": false
   },
   "outputs": [
    {
     "data": {
      "image/png": "[encoded data removed]",
      "text/plain": [
       "<matplotlib.figure.Figure at 0x7ff08088ad10>"
      ]
     },
     "metadata": {},
     "output_type": "display_data"
    }
   ],
   "source": [
    "from corner import hist2d\n",
    "\n",
    "fix, (ax1, ax2) = plt.subplots(1,2, figsize=(10,4))\n",
    "\n",
    "hist2d(eb_obs.observed.dur_pri.values, eb_obs.observed.logd_pri.values,\n",
    "          plot_contours=False, ax=ax1);\n",
    "hist2d(bg_obs.observed.dur_pri.values, bg_obs.observed.logd_pri.values,\n",
    "          plot_contours=False, ax=ax2);\n",
    "\n",
    "for ax in (ax1, ax2):\n",
    "    ax.plot(candidates.transit_duration, np.log10(candidates.depth), 'rx', ms=10)\n"
   ]
  },
  {
   "cell_type": "code",
   "execution_count": 54,
   "metadata": {
    "collapsed": true
   },
   "outputs": [],
   "source": [
    "from scipy.stats import gaussian_kde\n",
    "\n",
    "eb_kde = gaussian_kde(np.array([eb_obs.observed.dur_pri, eb_obs.observed.logd_pri]))\n",
    "bg_kde = gaussian_kde(np.array([bg_obs.observed.dur_pri, bg_obs.observed.logd_pri]))"
   ]
  },
  {
   "cell_type": "code",
   "execution_count": 56,
   "metadata": {
    "collapsed": false
   },
   "outputs": [
    {
     "data": {
      "image/png": "[encoded data removed]",
      "text/plain": [
       "<matplotlib.figure.Figure at 0x7ff080561910>"
      ]
     },
     "metadata": {},
     "output_type": "display_data"
    }
   ],
   "source": [
    "def plot_kde(kde, ax=None, dur_range=(0,2.5), depth_range=(-5,0), \n",
    "            cands=candidates, **kwargs):\n",
    "    if ax is None:\n",
    "        fig, ax = plt.subplots(1,1)\n",
    "        \n",
    "    dur_grid = np.arange(dur_range[0], dur_range[1], 0.02)\n",
    "    depth_grid = np.arange(depth_range[0], depth_range[1], 0.02)\n",
    "    xx, yy = np.meshgrid(dur_grid, depth_grid)\n",
    "    f = kde(np.vstack([xx.ravel(),yy.ravel()])).reshape(xx.shape)\n",
    "    ax.imshow(f, origin='lower', extent=[dur_range[0], dur_range[1],\n",
    "                                         depth_range[0], depth_range[1]], \n",
    "               aspect='auto', cmap='binary', **kwargs)\n",
    "    ax.set_xlabel('Duration [days]')\n",
    "    ax.set_ylabel('log(depth)')\n",
    "    \n",
    "    if cands is not None:\n",
    "        ax.plot(cands.transit_duration, np.log10(cands.depth), 'rx', ms=10)\n",
    "    \n",
    "fig, axes = plt.subplots(1,2, figsize=(10,4), sharey=True)\n",
    "plot_kde(eb_kde, ax=axes[0])\n",
    "plot_kde(bg_kde, ax=axes[1])\n",
    "axes[1].set_ylabel('')\n",
    "plt.subplots_adjust(wspace=0)\n",
    "for ax,title in zip(axes, ['EB','BEB']):\n",
    "    ax.annotate(title, xy=(0.8,0.1), xycoords='axes fraction', fontsize=22)"
   ]
  },
  {
   "cell_type": "code",
   "execution_count": 65,
   "metadata": {
    "collapsed": false
   },
   "outputs": [
    {
     "data": {
      "text/plain": [
       "27"
      ]
     },
     "execution_count": 65,
     "metadata": {},
     "output_type": "execute_result"
    }
   ],
   "source": [
    "len(candidates)"
   ]
  },
  {
   "cell_type": "code",
   "execution_count": 5,
   "metadata": {
    "collapsed": false
   },
   "outputs": [
    {
     "name": "stderr",
     "output_type": "stream",
     "text": [
      "/u/tdm/anaconda/lib/python2.7/site-packages/matplotlib/font_manager.py:273: UserWarning: Matplotlib is building the font cache using fc-list. This may take a moment.\n",
      "  warnings.warn('Matplotlib is building the font cache using fc-list. This may take a moment.')\n",
      "WARNING:root:progressbar not imported\n"
     ]
    }
   ],
   "source": [
    "from exosyspop.populations import PoissonPlanetPopulation\n",
    "\n",
    "Rp_min = 0.1 * 11.2 # 0.1 RJ\n",
    "Rp_max = 11.2 # RJ\n",
    "\n",
    "plpop = PoissonPlanetPopulation(targets, period_min=2*365.25, period_max=15*365.25,\n",
    "                                   Rp_min=Rp_min, Rp_max = Rp_max)"
   ]
  },
  {
   "cell_type": "code",
   "execution_count": 6,
   "metadata": {
    "collapsed": false
   },
   "outputs": [
    {
     "name": "stdout",
     "output_type": "stream",
     "text": [
      "Planet: Depth trained: R2=0.999636092102\n",
      "Planet: Duration trained: R2=0.991688614518\n",
      "Planet: Slope trained: R2=0.977178161133\n"
     ]
    },
    {
     "data": {
      "text/plain": [
       "(Pipeline(steps=[('scale', StandardScaler(copy=True, with_mean=True, with_std=True)), ('regression', RandomForestRegressor(bootstrap=True, criterion='mse', max_depth=None,\n",
       "            max_features='auto', max_leaf_nodes=None, min_samples_leaf=1,\n",
       "            min_samples_split=2, min_weight_fraction_leaf=0.0,\n",
       "            n_estimators=10, n_jobs=1, oob_score=False, random_state=None,\n",
       "            verbose=0, warm_start=False))]),\n",
       " Pipeline(steps=[('scale', StandardScaler(copy=True, with_mean=True, with_std=True)), ('regression', RandomForestRegressor(bootstrap=True, criterion='mse', max_depth=None,\n",
       "            max_features='auto', max_leaf_nodes=None, min_samples_leaf=1,\n",
       "            min_samples_split=2, min_weight_fraction_leaf=0.0,\n",
       "            n_estimators=10, n_jobs=1, oob_score=False, random_state=None,\n",
       "            verbose=0, warm_start=False))]),\n",
       " Pipeline(steps=[('scale', StandardScaler(copy=True, with_mean=True, with_std=True)), ('regression', RandomForestRegressor(bootstrap=True, criterion='mse', max_depth=None,\n",
       "            max_features='auto', max_leaf_nodes=None, min_samples_leaf=1,\n",
       "            min_samples_split=2, min_weight_fraction_leaf=0.0,\n",
       "            n_estimators=10, n_jobs=1, oob_score=False, random_state=None,\n",
       "            verbose=0, warm_start=False))]))"
      ]
     },
     "execution_count": 6,
     "metadata": {},
     "output_type": "execute_result"
    }
   ],
   "source": [
    "plpop._train_trap(N=1000)"
   ]
  },
  {
   "cell_type": "code",
   "execution_count": 7,
   "metadata": {
    "collapsed": false
   },
   "outputs": [],
   "source": [
    "o = plpop.observe(regr_trap=True)"
   ]
  },
  {
   "cell_type": "code",
   "execution_count": 9,
   "metadata": {
    "collapsed": false
   },
   "outputs": [
    {
     "data": {
      "text/html": [
       "<div>\n",
       "<table border=\"1\" class=\"dataframe\">\n",
       "  <thead>\n",
       "    <tr style=\"text-align: right;\">\n",
       "      <th></th>\n",
       "      <th>k</th>\n",
       "      <th>d_pri</th>\n",
       "      <th>snr_pri</th>\n",
       "      <th>noise_pri</th>\n",
       "    </tr>\n",
       "  </thead>\n",
       "  <tbody>\n",
       "    <tr>\n",
       "      <th>0</th>\n",
       "      <td>0.015327</td>\n",
       "      <td>0.000267</td>\n",
       "      <td>2.407311</td>\n",
       "      <td>127.899459</td>\n",
       "    </tr>\n",
       "    <tr>\n",
       "      <th>1</th>\n",
       "      <td>0.065126</td>\n",
       "      <td>0.000000</td>\n",
       "      <td>NaN</td>\n",
       "      <td>117.358000</td>\n",
       "    </tr>\n",
       "    <tr>\n",
       "      <th>2</th>\n",
       "      <td>0.033897</td>\n",
       "      <td>0.001352</td>\n",
       "      <td>5.462966</td>\n",
       "      <td>197.927000</td>\n",
       "    </tr>\n",
       "    <tr>\n",
       "      <th>3</th>\n",
       "      <td>0.024596</td>\n",
       "      <td>0.000618</td>\n",
       "      <td>8.094914</td>\n",
       "      <td>61.171000</td>\n",
       "    </tr>\n",
       "    <tr>\n",
       "      <th>4</th>\n",
       "      <td>0.022123</td>\n",
       "      <td>0.000583</td>\n",
       "      <td>3.826995</td>\n",
       "      <td>175.845000</td>\n",
       "    </tr>\n",
       "    <tr>\n",
       "      <th>5</th>\n",
       "      <td>0.010825</td>\n",
       "      <td>0.000093</td>\n",
       "      <td>0.461298</td>\n",
       "      <td>229.823000</td>\n",
       "    </tr>\n",
       "    <tr>\n",
       "      <th>6</th>\n",
       "      <td>0.018848</td>\n",
       "      <td>0.000433</td>\n",
       "      <td>1.292634</td>\n",
       "      <td>273.859153</td>\n",
       "    </tr>\n",
       "    <tr>\n",
       "      <th>7</th>\n",
       "      <td>0.027947</td>\n",
       "      <td>0.000676</td>\n",
       "      <td>3.922094</td>\n",
       "      <td>134.161000</td>\n",
       "    </tr>\n",
       "    <tr>\n",
       "      <th>8</th>\n",
       "      <td>0.099680</td>\n",
       "      <td>0.011700</td>\n",
       "      <td>52.855339</td>\n",
       "      <td>171.603000</td>\n",
       "    </tr>\n",
       "    <tr>\n",
       "      <th>9</th>\n",
       "      <td>0.021874</td>\n",
       "      <td>0.000352</td>\n",
       "      <td>3.028783</td>\n",
       "      <td>124.829000</td>\n",
       "    </tr>\n",
       "    <tr>\n",
       "      <th>10</th>\n",
       "      <td>0.024776</td>\n",
       "      <td>0.000513</td>\n",
       "      <td>5.416898</td>\n",
       "      <td>69.899000</td>\n",
       "    </tr>\n",
       "    <tr>\n",
       "      <th>11</th>\n",
       "      <td>0.055950</td>\n",
       "      <td>0.002318</td>\n",
       "      <td>6.630142</td>\n",
       "      <td>229.657000</td>\n",
       "    </tr>\n",
       "    <tr>\n",
       "      <th>12</th>\n",
       "      <td>0.079997</td>\n",
       "      <td>0.002148</td>\n",
       "      <td>6.704370</td>\n",
       "      <td>191.140000</td>\n",
       "    </tr>\n",
       "    <tr>\n",
       "      <th>13</th>\n",
       "      <td>0.017220</td>\n",
       "      <td>0.000342</td>\n",
       "      <td>1.212905</td>\n",
       "      <td>230.880000</td>\n",
       "    </tr>\n",
       "    <tr>\n",
       "      <th>14</th>\n",
       "      <td>0.025628</td>\n",
       "      <td>0.000801</td>\n",
       "      <td>2.709709</td>\n",
       "      <td>241.980000</td>\n",
       "    </tr>\n",
       "    <tr>\n",
       "      <th>15</th>\n",
       "      <td>0.027206</td>\n",
       "      <td>0.000000</td>\n",
       "      <td>NaN</td>\n",
       "      <td>122.881000</td>\n",
       "    </tr>\n",
       "    <tr>\n",
       "      <th>16</th>\n",
       "      <td>0.036823</td>\n",
       "      <td>0.001654</td>\n",
       "      <td>8.657221</td>\n",
       "      <td>219.881000</td>\n",
       "    </tr>\n",
       "    <tr>\n",
       "      <th>17</th>\n",
       "      <td>0.111689</td>\n",
       "      <td>0.008796</td>\n",
       "      <td>23.834079</td>\n",
       "      <td>243.751000</td>\n",
       "    </tr>\n",
       "    <tr>\n",
       "      <th>18</th>\n",
       "      <td>0.052796</td>\n",
       "      <td>0.000000</td>\n",
       "      <td>NaN</td>\n",
       "      <td>195.470000</td>\n",
       "    </tr>\n",
       "    <tr>\n",
       "      <th>19</th>\n",
       "      <td>0.076066</td>\n",
       "      <td>0.007052</td>\n",
       "      <td>58.946755</td>\n",
       "      <td>130.661000</td>\n",
       "    </tr>\n",
       "    <tr>\n",
       "      <th>20</th>\n",
       "      <td>0.073292</td>\n",
       "      <td>0.000000</td>\n",
       "      <td>NaN</td>\n",
       "      <td>111.094000</td>\n",
       "    </tr>\n",
       "    <tr>\n",
       "      <th>21</th>\n",
       "      <td>0.038534</td>\n",
       "      <td>0.001783</td>\n",
       "      <td>14.223048</td>\n",
       "      <td>102.012000</td>\n",
       "    </tr>\n",
       "    <tr>\n",
       "      <th>22</th>\n",
       "      <td>0.028063</td>\n",
       "      <td>0.000857</td>\n",
       "      <td>3.963129</td>\n",
       "      <td>173.121000</td>\n",
       "    </tr>\n",
       "    <tr>\n",
       "      <th>23</th>\n",
       "      <td>0.014790</td>\n",
       "      <td>0.000264</td>\n",
       "      <td>0.762187</td>\n",
       "      <td>284.802000</td>\n",
       "    </tr>\n",
       "    <tr>\n",
       "      <th>24</th>\n",
       "      <td>0.011157</td>\n",
       "      <td>0.000116</td>\n",
       "      <td>1.011492</td>\n",
       "      <td>131.768000</td>\n",
       "    </tr>\n",
       "    <tr>\n",
       "      <th>25</th>\n",
       "      <td>0.089547</td>\n",
       "      <td>0.008982</td>\n",
       "      <td>39.561810</td>\n",
       "      <td>174.310000</td>\n",
       "    </tr>\n",
       "    <tr>\n",
       "      <th>26</th>\n",
       "      <td>0.014604</td>\n",
       "      <td>0.000210</td>\n",
       "      <td>0.715728</td>\n",
       "      <td>238.039000</td>\n",
       "    </tr>\n",
       "    <tr>\n",
       "      <th>27</th>\n",
       "      <td>0.018352</td>\n",
       "      <td>0.000341</td>\n",
       "      <td>1.472152</td>\n",
       "      <td>173.881000</td>\n",
       "    </tr>\n",
       "    <tr>\n",
       "      <th>28</th>\n",
       "      <td>0.078530</td>\n",
       "      <td>0.006300</td>\n",
       "      <td>37.231474</td>\n",
       "      <td>134.252000</td>\n",
       "    </tr>\n",
       "    <tr>\n",
       "      <th>29</th>\n",
       "      <td>0.044546</td>\n",
       "      <td>0.001039</td>\n",
       "      <td>2.383773</td>\n",
       "      <td>270.977000</td>\n",
       "    </tr>\n",
       "    <tr>\n",
       "      <th>...</th>\n",
       "      <td>...</td>\n",
       "      <td>...</td>\n",
       "      <td>...</td>\n",
       "      <td>...</td>\n",
       "    </tr>\n",
       "    <tr>\n",
       "      <th>54</th>\n",
       "      <td>0.017459</td>\n",
       "      <td>0.000361</td>\n",
       "      <td>3.102290</td>\n",
       "      <td>134.846000</td>\n",
       "    </tr>\n",
       "    <tr>\n",
       "      <th>55</th>\n",
       "      <td>0.034061</td>\n",
       "      <td>0.001309</td>\n",
       "      <td>10.208881</td>\n",
       "      <td>101.980000</td>\n",
       "    </tr>\n",
       "    <tr>\n",
       "      <th>56</th>\n",
       "      <td>0.066161</td>\n",
       "      <td>0.004323</td>\n",
       "      <td>18.070576</td>\n",
       "      <td>184.883000</td>\n",
       "    </tr>\n",
       "    <tr>\n",
       "      <th>57</th>\n",
       "      <td>0.029744</td>\n",
       "      <td>0.000960</td>\n",
       "      <td>0.000000</td>\n",
       "      <td>238.596000</td>\n",
       "    </tr>\n",
       "    <tr>\n",
       "      <th>58</th>\n",
       "      <td>0.012387</td>\n",
       "      <td>0.000138</td>\n",
       "      <td>1.597452</td>\n",
       "      <td>96.978000</td>\n",
       "    </tr>\n",
       "    <tr>\n",
       "      <th>59</th>\n",
       "      <td>0.010046</td>\n",
       "      <td>0.000117</td>\n",
       "      <td>0.942581</td>\n",
       "      <td>101.105000</td>\n",
       "    </tr>\n",
       "    <tr>\n",
       "      <th>60</th>\n",
       "      <td>0.055310</td>\n",
       "      <td>0.003218</td>\n",
       "      <td>13.255604</td>\n",
       "      <td>189.147000</td>\n",
       "    </tr>\n",
       "    <tr>\n",
       "      <th>61</th>\n",
       "      <td>0.020081</td>\n",
       "      <td>0.000458</td>\n",
       "      <td>1.667347</td>\n",
       "      <td>224.920000</td>\n",
       "    </tr>\n",
       "    <tr>\n",
       "      <th>62</th>\n",
       "      <td>0.065736</td>\n",
       "      <td>0.001400</td>\n",
       "      <td>0.000000</td>\n",
       "      <td>136.992000</td>\n",
       "    </tr>\n",
       "    <tr>\n",
       "      <th>63</th>\n",
       "      <td>0.011426</td>\n",
       "      <td>0.000159</td>\n",
       "      <td>1.206634</td>\n",
       "      <td>108.214000</td>\n",
       "    </tr>\n",
       "    <tr>\n",
       "      <th>64</th>\n",
       "      <td>0.009242</td>\n",
       "      <td>0.000000</td>\n",
       "      <td>NaN</td>\n",
       "      <td>314.520000</td>\n",
       "    </tr>\n",
       "    <tr>\n",
       "      <th>65</th>\n",
       "      <td>0.032035</td>\n",
       "      <td>0.001234</td>\n",
       "      <td>24.098325</td>\n",
       "      <td>41.886000</td>\n",
       "    </tr>\n",
       "    <tr>\n",
       "      <th>66</th>\n",
       "      <td>0.085689</td>\n",
       "      <td>0.005955</td>\n",
       "      <td>21.533274</td>\n",
       "      <td>248.395000</td>\n",
       "    </tr>\n",
       "    <tr>\n",
       "      <th>67</th>\n",
       "      <td>0.020956</td>\n",
       "      <td>0.000000</td>\n",
       "      <td>NaN</td>\n",
       "      <td>189.022000</td>\n",
       "    </tr>\n",
       "    <tr>\n",
       "      <th>68</th>\n",
       "      <td>0.017606</td>\n",
       "      <td>0.000000</td>\n",
       "      <td>NaN</td>\n",
       "      <td>196.801000</td>\n",
       "    </tr>\n",
       "    <tr>\n",
       "      <th>69</th>\n",
       "      <td>0.020375</td>\n",
       "      <td>0.000448</td>\n",
       "      <td>6.081313</td>\n",
       "      <td>59.723000</td>\n",
       "    </tr>\n",
       "    <tr>\n",
       "      <th>70</th>\n",
       "      <td>0.013425</td>\n",
       "      <td>0.000205</td>\n",
       "      <td>1.478321</td>\n",
       "      <td>114.694000</td>\n",
       "    </tr>\n",
       "    <tr>\n",
       "      <th>71</th>\n",
       "      <td>0.028736</td>\n",
       "      <td>0.000943</td>\n",
       "      <td>7.117081</td>\n",
       "      <td>105.930000</td>\n",
       "    </tr>\n",
       "    <tr>\n",
       "      <th>72</th>\n",
       "      <td>0.022417</td>\n",
       "      <td>0.000368</td>\n",
       "      <td>2.396494</td>\n",
       "      <td>162.300000</td>\n",
       "    </tr>\n",
       "    <tr>\n",
       "      <th>73</th>\n",
       "      <td>0.027206</td>\n",
       "      <td>0.000765</td>\n",
       "      <td>2.053780</td>\n",
       "      <td>270.283000</td>\n",
       "    </tr>\n",
       "    <tr>\n",
       "      <th>74</th>\n",
       "      <td>0.020130</td>\n",
       "      <td>0.000473</td>\n",
       "      <td>2.569201</td>\n",
       "      <td>150.353000</td>\n",
       "    </tr>\n",
       "    <tr>\n",
       "      <th>75</th>\n",
       "      <td>0.037318</td>\n",
       "      <td>0.001676</td>\n",
       "      <td>0.000000</td>\n",
       "      <td>152.860000</td>\n",
       "    </tr>\n",
       "    <tr>\n",
       "      <th>76</th>\n",
       "      <td>0.029402</td>\n",
       "      <td>0.000741</td>\n",
       "      <td>2.266026</td>\n",
       "      <td>242.773000</td>\n",
       "    </tr>\n",
       "    <tr>\n",
       "      <th>77</th>\n",
       "      <td>0.062353</td>\n",
       "      <td>0.004240</td>\n",
       "      <td>38.174491</td>\n",
       "      <td>87.046000</td>\n",
       "    </tr>\n",
       "    <tr>\n",
       "      <th>78</th>\n",
       "      <td>0.045539</td>\n",
       "      <td>0.002387</td>\n",
       "      <td>21.055265</td>\n",
       "      <td>89.306000</td>\n",
       "    </tr>\n",
       "    <tr>\n",
       "      <th>79</th>\n",
       "      <td>0.010667</td>\n",
       "      <td>0.000052</td>\n",
       "      <td>0.315030</td>\n",
       "      <td>115.266000</td>\n",
       "    </tr>\n",
       "    <tr>\n",
       "      <th>80</th>\n",
       "      <td>0.012999</td>\n",
       "      <td>0.000000</td>\n",
       "      <td>NaN</td>\n",
       "      <td>183.658000</td>\n",
       "    </tr>\n",
       "    <tr>\n",
       "      <th>81</th>\n",
       "      <td>0.024465</td>\n",
       "      <td>0.000602</td>\n",
       "      <td>4.533137</td>\n",
       "      <td>149.616000</td>\n",
       "    </tr>\n",
       "    <tr>\n",
       "      <th>82</th>\n",
       "      <td>0.142813</td>\n",
       "      <td>0.000000</td>\n",
       "      <td>NaN</td>\n",
       "      <td>117.145000</td>\n",
       "    </tr>\n",
       "    <tr>\n",
       "      <th>83</th>\n",
       "      <td>0.025385</td>\n",
       "      <td>0.000786</td>\n",
       "      <td>4.714689</td>\n",
       "      <td>193.697000</td>\n",
       "    </tr>\n",
       "  </tbody>\n",
       "</table>\n",
       "<p>84 rows × 4 columns</p>\n",
       "</div>"
      ],
      "text/plain": [
       "           k     d_pri    snr_pri   noise_pri\n",
       "0   0.015327  0.000267   2.407311  127.899459\n",
       "1   0.065126  0.000000        NaN  117.358000\n",
       "2   0.033897  0.001352   5.462966  197.927000\n",
       "3   0.024596  0.000618   8.094914   61.171000\n",
       "4   0.022123  0.000583   3.826995  175.845000\n",
       "5   0.010825  0.000093   0.461298  229.823000\n",
       "6   0.018848  0.000433   1.292634  273.859153\n",
       "7   0.027947  0.000676   3.922094  134.161000\n",
       "8   0.099680  0.011700  52.855339  171.603000\n",
       "9   0.021874  0.000352   3.028783  124.829000\n",
       "10  0.024776  0.000513   5.416898   69.899000\n",
       "11  0.055950  0.002318   6.630142  229.657000\n",
       "12  0.079997  0.002148   6.704370  191.140000\n",
       "13  0.017220  0.000342   1.212905  230.880000\n",
       "14  0.025628  0.000801   2.709709  241.980000\n",
       "15  0.027206  0.000000        NaN  122.881000\n",
       "16  0.036823  0.001654   8.657221  219.881000\n",
       "17  0.111689  0.008796  23.834079  243.751000\n",
       "18  0.052796  0.000000        NaN  195.470000\n",
       "19  0.076066  0.007052  58.946755  130.661000\n",
       "20  0.073292  0.000000        NaN  111.094000\n",
       "21  0.038534  0.001783  14.223048  102.012000\n",
       "22  0.028063  0.000857   3.963129  173.121000\n",
       "23  0.014790  0.000264   0.762187  284.802000\n",
       "24  0.011157  0.000116   1.011492  131.768000\n",
       "25  0.089547  0.008982  39.561810  174.310000\n",
       "26  0.014604  0.000210   0.715728  238.039000\n",
       "27  0.018352  0.000341   1.472152  173.881000\n",
       "28  0.078530  0.006300  37.231474  134.252000\n",
       "29  0.044546  0.001039   2.383773  270.977000\n",
       "..       ...       ...        ...         ...\n",
       "54  0.017459  0.000361   3.102290  134.846000\n",
       "55  0.034061  0.001309  10.208881  101.980000\n",
       "56  0.066161  0.004323  18.070576  184.883000\n",
       "57  0.029744  0.000960   0.000000  238.596000\n",
       "58  0.012387  0.000138   1.597452   96.978000\n",
       "59  0.010046  0.000117   0.942581  101.105000\n",
       "60  0.055310  0.003218  13.255604  189.147000\n",
       "61  0.020081  0.000458   1.667347  224.920000\n",
       "62  0.065736  0.001400   0.000000  136.992000\n",
       "63  0.011426  0.000159   1.206634  108.214000\n",
       "64  0.009242  0.000000        NaN  314.520000\n",
       "65  0.032035  0.001234  24.098325   41.886000\n",
       "66  0.085689  0.005955  21.533274  248.395000\n",
       "67  0.020956  0.000000        NaN  189.022000\n",
       "68  0.017606  0.000000        NaN  196.801000\n",
       "69  0.020375  0.000448   6.081313   59.723000\n",
       "70  0.013425  0.000205   1.478321  114.694000\n",
       "71  0.028736  0.000943   7.117081  105.930000\n",
       "72  0.022417  0.000368   2.396494  162.300000\n",
       "73  0.027206  0.000765   2.053780  270.283000\n",
       "74  0.020130  0.000473   2.569201  150.353000\n",
       "75  0.037318  0.001676   0.000000  152.860000\n",
       "76  0.029402  0.000741   2.266026  242.773000\n",
       "77  0.062353  0.004240  38.174491   87.046000\n",
       "78  0.045539  0.002387  21.055265   89.306000\n",
       "79  0.010667  0.000052   0.315030  115.266000\n",
       "80  0.012999  0.000000        NaN  183.658000\n",
       "81  0.024465  0.000602   4.533137  149.616000\n",
       "82  0.142813  0.000000        NaN  117.145000\n",
       "83  0.025385  0.000786   4.714689  193.697000\n",
       "\n",
       "[84 rows x 4 columns]"
      ]
     },
     "execution_count": 9,
     "metadata": {},
     "output_type": "execute_result"
    }
   ],
   "source": [
    "o[['k','d_pri', 'snr_pri', 'noise_pri']]"
   ]
  },
  {
   "cell_type": "code",
   "execution_count": 8,
   "metadata": {
    "collapsed": false
   },
   "outputs": [
    {
     "data": {
      "text/plain": [
       "Index([u'host', u'period', u'ecc', u'w', u'inc', u'a', u'aR', u'b_pri',\n",
       "       u'b_sec', u'k', u'tra', u'occ', u'd_pri', u'd_sec', u'T14_pri',\n",
       "       u'T14_sec', u'T23_pri', u'T23_sec', u'dataspan', u'dutycycle',\n",
       "       u'b_target', u'flux_ratio', u'dilution', u'n_pri', u'n_sec',\n",
       "       u'phase_sec', u'trap_dur_pri_regr', u'trap_depth_pri_regr',\n",
       "       u'trap_slope_pri_regr', u'trap_dur_sec_regr', u'trap_depth_sec_regr',\n",
       "       u'trap_slope_sec_regr', u'noise_pri', u'noise_sec', u'SNR_pri',\n",
       "       u'SNR_sec'],\n",
       "      dtype='object')"
      ]
     },
     "execution_count": 8,
     "metadata": {},
     "output_type": "execute_result"
    }
   ],
   "source": [
    "o.columns"
   ]
  },
  {
   "cell_type": "code",
   "execution_count": 9,
   "metadata": {
    "collapsed": false
   },
   "outputs": [
    {
     "data": {
      "text/plain": [
       "68"
      ]
     },
     "execution_count": 9,
     "metadata": {},
     "output_type": "execute_result"
    }
   ],
   "source": [
    "len(o)"
   ]
  },
  {
   "cell_type": "code",
   "execution_count": 62,
   "metadata": {
    "collapsed": false
   },
   "outputs": [],
   "source": [
    "\n",
    "nobs_pl = [len(plpop.observe(new_orbits=True).query(dfm_q)) for i in range(200)]"
   ]
  },
  {
   "cell_type": "code",
   "execution_count": 64,
   "metadata": {
    "collapsed": false
   },
   "outputs": [
    {
     "data": {
      "image/png": "[encoded data removed]",
      "text/plain": [
       "<matplotlib.figure.Figure at 0x7ff0824e4150>"
      ]
     },
     "metadata": {},
     "output_type": "display_data"
    }
   ],
   "source": [
    "plt.hist(nobs_pl, histtype='step', lw=3, label='planets');"
   ]
  },
  {
   "cell_type": "code",
   "execution_count": null,
   "metadata": {
    "collapsed": true
   },
   "outputs": [],
   "source": []
  }
 ],
 "metadata": {
  "kernelspec": {
   "display_name": "Python 2",
   "language": "python",
   "name": "python2"
  },
  "language_info": {
   "codemirror_mode": {
    "name": "ipython",
    "version": 2
   },
   "file_extension": ".py",
   "mimetype": "text/x-python",
   "name": "python",
   "nbconvert_exporter": "python",
   "pygments_lexer": "ipython2",
   "version": "2.7.11"
  }
 },
 "nbformat": 4,
 "nbformat_minor": 0
}
