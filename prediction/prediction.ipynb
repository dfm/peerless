{
 "cells": [
  {
   "cell_type": "code",
   "execution_count": 1,
   "metadata": {
    "collapsed": false,
    "scrolled": true
   },
   "outputs": [
    {
     "name": "stderr",
     "output_type": "stream",
     "text": [
      "/u/tdm/anaconda/lib/python2.7/site-packages/matplotlib/font_manager.py:273: UserWarning: Matplotlib is building the font cache using fc-list. This may take a moment.\n",
      "  warnings.warn('Matplotlib is building the font cache using fc-list. This may take a moment.')\n"
     ]
    }
   ],
   "source": [
    "# Set up plot stuff the DFM way:\n",
    "%matplotlib inline\n",
    "import matplotlib.pyplot as plt\n",
    "\n",
    "%run ../document/figures/plot_setup.py"
   ]
  },
  {
   "cell_type": "code",
   "execution_count": 2,
   "metadata": {
    "collapsed": false
   },
   "outputs": [],
   "source": [
    "# Get target list; this follows the selection in ../document/figures/targets.py \n",
    "\n",
    "from __future__ import print_function, division\n",
    "import sys\n",
    "sys.path.append('..')\n",
    "\n",
    "from peerless.catalogs import KICatalog, KOICatalog, EBCatalog, BlacklistCatalog\n",
    "import numpy as np\n",
    "import pandas as pd\n",
    "\n",
    "stlr = KICatalog().df\n",
    "m = (4200 <= stlr.teff) & (stlr.teff <= 6100)\n",
    "m &= stlr.radius <= 1.15\n",
    "m &= stlr.dataspan > 365.25*2.\n",
    "m &= stlr.dutycycle > 0.6\n",
    "m &= stlr.rrmscdpp07p5 <= 1000.\n",
    "m &= stlr.kepmag < 15.\n",
    "\n",
    "# known EBs\n",
    "ebs = set(np.array(EBCatalog().df[\"#KIC\"]))\n",
    "\n",
    "# KOI false positives\n",
    "kois = KOICatalog().df\n",
    "kois = kois[kois.koi_disposition == \"FALSE POSITIVE\"]\n",
    "fps = set(np.array(kois.kepid))\n",
    "\n",
    "# And then finally the blacklist.\n",
    "bl = set(np.array(BlacklistCatalog().df.kicid))\n",
    "\n",
    "# The full list of ignores.\n",
    "ignore = fps | bl #ebs | fps | bl  #Don't ignore EBs for purposes of prediction\n",
    "m &= ~stlr.kepid.isin(ignore)\n",
    "\n",
    "targets = stlr[m]"
   ]
  },
  {
   "cell_type": "code",
   "execution_count": 3,
   "metadata": {
    "collapsed": false
   },
   "outputs": [
    {
     "data": {
      "text/plain": [
       "kepid    39626\n",
       "mass     38983\n",
       "feh      39626\n",
       "dtype: int64"
      ]
     },
     "execution_count": 3,
     "metadata": {},
     "output_type": "execute_result"
    }
   ],
   "source": [
    "targets[['kepid','mass','feh']].count()"
   ]
  },
  {
   "cell_type": "code",
   "execution_count": 4,
   "metadata": {
    "collapsed": false
   },
   "outputs": [
    {
     "name": "stderr",
     "output_type": "stream",
     "text": [
      "/u/tdm/anaconda/lib/python2.7/site-packages/pandas/core/indexing.py:426: SettingWithCopyWarning: \n",
      "A value is trying to be set on a copy of a slice from a DataFrame.\n",
      "Try using .loc[row_indexer,col_indexer] = value instead\n",
      "\n",
      "See the caveats in the documentation: http://pandas.pydata.org/pandas-docs/stable/indexing.html#indexing-view-versus-copy\n",
      "  self.obj[item] = s\n"
     ]
    }
   ],
   "source": [
    "# funny, there seem to be some missing masses.  Let's artificially add those in, with M=R\n",
    "bad = targets.mass.isnull()\n",
    "targets.loc[bad, 'mass'] = targets.loc[bad, 'radius']"
   ]
  },
  {
   "cell_type": "code",
   "execution_count": 5,
   "metadata": {
    "collapsed": false
   },
   "outputs": [
    {
     "name": "stderr",
     "output_type": "stream",
     "text": [
      "WARNING:root:progressbar not imported\n"
     ]
    }
   ],
   "source": [
    "from exosyspop.populations import KeplerPowerLawBinaryPopulation\n",
    "from exosyspop.populations import TRILEGAL_BGPowerLawBinaryPopulation\n",
    "\n",
    "ebpop = KeplerPowerLawBinaryPopulation(targets, ecc_empirical=True)\n",
    "bgstars = pd.read_hdf('bgstars.h5', 'df')\n",
    "bgpop = TRILEGAL_BGPowerLawBinaryPopulation(targets, bgstars, ecc_empirical=True, use_ic=True)"
   ]
  },
  {
   "cell_type": "code",
   "execution_count": 12,
   "metadata": {
    "collapsed": false
   },
   "outputs": [
    {
     "name": "stdout",
     "output_type": "stream",
     "text": [
      "104.739898977\n",
      "121\n"
     ]
    },
    {
     "data": {
      "image/png": "[encoded data removed]",
      "text/plain": [
       "<matplotlib.figure.Figure at 0x7f8305709bd0>"
      ]
     },
     "metadata": {},
     "output_type": "display_data"
    }
   ],
   "source": [
    "from __future__ import division\n",
    "\n",
    "min_period = 20\n",
    "max_period = 15*365.25\n",
    "ebpop.set_params(beta=-0.95, period_min=min_period, period_max=max_period, fB=0.14)\n",
    "\n",
    "q = 'period > {} and period < 1000 and '.format(min_period) +\\\n",
    "    '((n_pri > 0 and n_sec > 0) or ' +\\\n",
    "     '(n_pri > 2 or n_sec > 2)) and (T14_pri < 2.5 or T14_sec < 2.5)'\n",
    "\n",
    "kep_ebs = EBCatalog().df.query('{} < period < 1000'.format(min_period))\n",
    "n_exp = len(kep_ebs) * (len(targets)/len(KICatalog().df))\n",
    "print(n_exp)\n",
    "plt.hist(np.log10(kep_ebs.period), \n",
    "         histtype='step', lw=3, normed=True);\n",
    "new_obs = ebpop.observe(new_orbits=True).query(q)\n",
    "plt.hist(np.log10(new_obs.period),\n",
    "        histtype='step', lw=3, normed=True);\n",
    "print(len(new_obs))"
   ]
  },
  {
   "cell_type": "code",
   "execution_count": 13,
   "metadata": {
    "collapsed": false
   },
   "outputs": [
    {
     "data": {
      "text/plain": [
       "{'beta': -0.95,\n",
       " 'beta_a': 0.8,\n",
       " 'beta_b': 2.0,\n",
       " 'fB': 0.14,\n",
       " 'gamma': 0.3,\n",
       " 'period_max': 5478.75,\n",
       " 'period_min': 20,\n",
       " 'qmin': 0.1}"
      ]
     },
     "execution_count": 13,
     "metadata": {},
     "output_type": "execute_result"
    }
   ],
   "source": [
    "ebpop.params"
   ]
  },
  {
   "cell_type": "code",
   "execution_count": 14,
   "metadata": {
    "collapsed": true
   },
   "outputs": [],
   "source": [
    "# Set params to match above\n",
    "pars = dict(period_min=20, period_max=15*365.25, beta=-0.95, fB=0.14)\n",
    "ebpop.set_params(**pars)\n",
    "bgpop.set_params(**pars)\n",
    "ebpop._generate_binaries()\n",
    "bgpop._generate_binaries()"
   ]
  },
  {
   "cell_type": "markdown",
   "metadata": {},
   "source": [
    "Let's do a bunch of these observation simulations and see what it looks like:"
   ]
  },
  {
   "cell_type": "code",
   "execution_count": 15,
   "metadata": {
    "collapsed": false
   },
   "outputs": [
    {
     "data": {
      "image/png": "[encoded data removed]",
      "text/plain": [
       "<matplotlib.figure.Figure at 0x7f8305c4e210>"
      ]
     },
     "metadata": {},
     "output_type": "display_data"
    }
   ],
   "source": [
    "n_obs = [len(ebpop.observe(new_orbits=True).query(q)) for i in range(200)]\n",
    "\n",
    "plt.hist(n_obs, histtype='step', lw=3, bins=10, color='k');\n",
    "plt.axvline(n_exp, color='r', ls='--', lw=3);"
   ]
  },
  {
   "cell_type": "markdown",
   "metadata": {},
   "source": [
    "OK, now that we can roughly match the Kepler EB catalog from 10 to 1000d with these EB population parameters, we want to know what's the typical number of single/double eclipse signals."
   ]
  },
  {
   "cell_type": "code",
   "execution_count": 16,
   "metadata": {
    "collapsed": false
   },
   "outputs": [
    {
     "name": "stdout",
     "output_type": "stream",
     "text": [
      "EB: Depth trained: R2=0.998098072353\n",
      "EB: Duration trained: R2=0.953733923826\n",
      "EB: Slope trained: R2=0.761430316126\n",
      "BGEB: Depth trained: R2=0.999606420731\n",
      "BGEB: Duration trained: R2=0.998523699654\n",
      "BGEB: Slope trained: R2=0.978825206063\n"
     ]
    }
   ],
   "source": [
    "ebpop._train_trap(N=1000);\n",
    "bgpop._train_trap(N=1000);"
   ]
  },
  {
   "cell_type": "code",
   "execution_count": 17,
   "metadata": {
    "collapsed": false
   },
   "outputs": [],
   "source": [
    "dfm_q = 'n_pri < 3 and n_sec < 3 and ((n_pri==0 and snr_sec > 15) or (n_sec==0 and snr_pri > 15))'\n",
    "dfm_q += ' and ((T14_pri < 2.5 and n_pri > 0) or (T14_sec < 2.5 and n_sec > 0))'\n",
    "nobs_eb = [len(ebpop.observe(new_orbits=True, regr_trap=True).query(dfm_q)) for i in range(200)]\n",
    "nobs_bg = [len(bgpop.observe(new_orbits=True, regr_trap=True).query(dfm_q)) for i in range(200)]"
   ]
  },
  {
   "cell_type": "code",
   "execution_count": 18,
   "metadata": {
    "collapsed": false
   },
   "outputs": [
    {
     "data": {
      "image/png": "[encoded data removed]",
      "text/plain": [
       "<matplotlib.figure.Figure at 0x7f8304a828d0>"
      ]
     },
     "metadata": {},
     "output_type": "display_data"
    }
   ],
   "source": [
    "plt.hist(nobs_eb, histtype='step', lw=3, label='EB');\n",
    "plt.hist(nobs_bg, histtype='step', lw=3, label='BEB');\n",
    "plt.legend();"
   ]
  },
  {
   "cell_type": "markdown",
   "metadata": {},
   "source": [
    "OK, now let's determine the typical shapes.  Let's do this with a big sample of simulated observations."
   ]
  },
  {
   "cell_type": "code",
   "execution_count": 121,
   "metadata": {
    "collapsed": false
   },
   "outputs": [
    {
     "data": {
      "text/plain": [
       "(6.5700000000000003, 0.27000000000000002)"
      ]
     },
     "execution_count": 121,
     "metadata": {},
     "output_type": "execute_result"
    }
   ],
   "source": [
    "np.mean(nobs_eb), np.mean(nobs_bg)"
   ]
  },
  {
   "cell_type": "code",
   "execution_count": 19,
   "metadata": {
    "collapsed": false,
    "scrolled": true
   },
   "outputs": [],
   "source": [
    "eb_obs = ebpop.get_N_observed(query=dfm_q, N=2000, new_orbits=True)\n",
    "bg_obs = bgpop.get_N_observed(query=dfm_q, N=200, use_ic=True, new_orbits=True) #takes longer; use fewer"
   ]
  },
  {
   "cell_type": "markdown",
   "metadata": {},
   "source": [
    "OK, now let's load up the candidates."
   ]
  },
  {
   "cell_type": "code",
   "execution_count": 20,
   "metadata": {
    "collapsed": false
   },
   "outputs": [
    {
     "data": {
      "text/html": [
       "<div>\n",
       "<table border=\"1\" class=\"dataframe\">\n",
       "  <thead>\n",
       "    <tr style=\"text-align: right;\">\n",
       "      <th></th>\n",
       "      <th>depth</th>\n",
       "      <th>transit_duration</th>\n",
       "      <th>s2n</th>\n",
       "    </tr>\n",
       "  </thead>\n",
       "  <tbody>\n",
       "    <tr>\n",
       "      <th>17</th>\n",
       "      <td>0.003340</td>\n",
       "      <td>0.393807</td>\n",
       "      <td>52.678551</td>\n",
       "    </tr>\n",
       "    <tr>\n",
       "      <th>27</th>\n",
       "      <td>0.078353</td>\n",
       "      <td>1.157742</td>\n",
       "      <td>803.421212</td>\n",
       "    </tr>\n",
       "    <tr>\n",
       "      <th>39</th>\n",
       "      <td>0.015872</td>\n",
       "      <td>0.684503</td>\n",
       "      <td>392.762344</td>\n",
       "    </tr>\n",
       "    <tr>\n",
       "      <th>40</th>\n",
       "      <td>0.015061</td>\n",
       "      <td>0.684186</td>\n",
       "      <td>390.821950</td>\n",
       "    </tr>\n",
       "    <tr>\n",
       "      <th>43</th>\n",
       "      <td>0.023301</td>\n",
       "      <td>0.361075</td>\n",
       "      <td>632.248098</td>\n",
       "    </tr>\n",
       "  </tbody>\n",
       "</table>\n",
       "</div>"
      ],
      "text/plain": [
       "       depth  transit_duration         s2n\n",
       "17  0.003340          0.393807   52.678551\n",
       "27  0.078353          1.157742  803.421212\n",
       "39  0.015872          0.684503  392.762344\n",
       "40  0.015061          0.684186  390.821950\n",
       "43  0.023301          0.361075  632.248098"
      ]
     },
     "execution_count": 20,
     "metadata": {},
     "output_type": "execute_result"
    }
   ],
   "source": [
    "candidates = pd.read_csv('../results/candidates.csv').query('accept_bic and accept_time and num_peaks <= 2')\n",
    "candidates[['depth','transit_duration','s2n']].head()"
   ]
  },
  {
   "cell_type": "code",
   "execution_count": 21,
   "metadata": {
    "collapsed": false
   },
   "outputs": [
    {
     "data": {
      "text/plain": [
       "18.096212254112913"
      ]
     },
     "execution_count": 21,
     "metadata": {},
     "output_type": "execute_result"
    }
   ],
   "source": [
    "candidates.s2n.min()"
   ]
  },
  {
   "cell_type": "code",
   "execution_count": 110,
   "metadata": {
    "collapsed": false
   },
   "outputs": [
    {
     "data": {
      "image/png": "[encoded data removed]",
      "text/plain": [
       "<matplotlib.figure.Figure at 0x7f8305c5d1d0>"
      ]
     },
     "metadata": {},
     "output_type": "display_data"
    }
   ],
   "source": [
    "from corner import hist2d\n",
    "\n",
    "fix, (ax1, ax2) = plt.subplots(1,2, figsize=(10,4))\n",
    "\n",
    "hist2d(eb_obs.observed.dur_pri.values, eb_obs.observed.logd_pri.values,\n",
    "          plot_contours=False, ax=ax1, range=[(0,2.5), (-3, -0.3)], bins=10);\n",
    "hist2d(bg_obs.observed.dur_pri.values, bg_obs.observed.logd_pri.values,\n",
    "          plot_contours=False, ax=ax2, range=[(0,2.5), (-3, -0.3)], bins=10);\n",
    "\n",
    "for ax in (ax1, ax2):\n",
    "    ax.plot(candidates.transit_duration, np.log10(candidates.transit_depth), 'rx', ms=10)\n"
   ]
  },
  {
   "cell_type": "code",
   "execution_count": 24,
   "metadata": {
    "collapsed": true
   },
   "outputs": [],
   "source": [
    "from scipy.stats import gaussian_kde\n",
    "\n",
    "eb_kde = gaussian_kde(np.array([eb_obs.observed.dur_pri, eb_obs.observed.logd_pri]))\n",
    "bg_kde = gaussian_kde(np.array([bg_obs.observed.dur_pri, bg_obs.observed.logd_pri]))"
   ]
  },
  {
   "cell_type": "code",
   "execution_count": 113,
   "metadata": {
    "collapsed": false
   },
   "outputs": [
    {
     "data": {
      "image/png": "[encoded data removed]",
      "text/plain": [
       "<matplotlib.figure.Figure at 0x7f830558ccd0>"
      ]
     },
     "metadata": {},
     "output_type": "display_data"
    }
   ],
   "source": [
    "def plot_kde(kde, ax=None, dur_range=(0,2.5), depth_range=(-3.5,-0.5), \n",
    "            cands=candidates, **kwargs):\n",
    "    if ax is None:\n",
    "        fig, ax = plt.subplots(1,1)\n",
    "        \n",
    "    dur_grid = np.arange(dur_range[0], dur_range[1], 0.02)\n",
    "    depth_grid = np.arange(depth_range[0], depth_range[1], 0.02)\n",
    "    xx, yy = np.meshgrid(dur_grid, depth_grid)\n",
    "    f = kde(np.vstack([xx.ravel(),yy.ravel()])).reshape(xx.shape)\n",
    "    ax.imshow(f, origin='lower', extent=[dur_range[0], dur_range[1],\n",
    "                                         depth_range[0], depth_range[1]], \n",
    "               aspect='auto', cmap='binary', **kwargs)\n",
    "    ax.set_xlabel('Duration [days]')\n",
    "    ax.set_ylabel('log(depth)')\n",
    "    \n",
    "    if cands is not None:\n",
    "        ax.plot(cands.transit_duration, np.log10(cands.transit_depth), 'rx', ms=10)\n",
    "    \n",
    "fig, axes = plt.subplots(1,2, figsize=(10,4), sharey=True)\n",
    "plot_kde(eb_kde, ax=axes[0])\n",
    "plot_kde(bg_kde, ax=axes[1])\n",
    "axes[1].set_ylabel('')\n",
    "plt.subplots_adjust(wspace=0)\n",
    "for ax,title in zip(axes, ['EB','BEB']):\n",
    "    ax.annotate(title, xy=(0.8,0.1), xycoords='axes fraction', fontsize=22)"
   ]
  },
  {
   "cell_type": "code",
   "execution_count": 27,
   "metadata": {
    "collapsed": false
   },
   "outputs": [
    {
     "data": {
      "text/plain": [
       "27"
      ]
     },
     "execution_count": 27,
     "metadata": {},
     "output_type": "execute_result"
    }
   ],
   "source": [
    "len(candidates)"
   ]
  },
  {
   "cell_type": "code",
   "execution_count": 28,
   "metadata": {
    "collapsed": false
   },
   "outputs": [],
   "source": [
    "from exosyspop.populations import PoissonPlanetPopulation\n",
    "\n",
    "Rp_min = 0.1 * 11.2 # 0.1 RJ\n",
    "Rp_max = 11.2 # RJ\n",
    "\n",
    "plpop = PoissonPlanetPopulation(targets, period_min=2*365.25, period_max=15*365.25,\n",
    "                                   Rp_min=Rp_min, Rp_max = Rp_max)"
   ]
  },
  {
   "cell_type": "code",
   "execution_count": 29,
   "metadata": {
    "collapsed": false
   },
   "outputs": [
    {
     "name": "stdout",
     "output_type": "stream",
     "text": [
      "Planet: Depth trained: R2=0.997254547441\n",
      "Planet: Duration trained: R2=0.989982151104\n",
      "Planet: Slope trained: R2=0.977031732341\n"
     ]
    },
    {
     "data": {
      "text/plain": [
       "(Pipeline(steps=[('scale', StandardScaler(copy=True, with_mean=True, with_std=True)), ('regression', RandomForestRegressor(bootstrap=True, criterion='mse', max_depth=None,\n",
       "            max_features='auto', max_leaf_nodes=None, min_samples_leaf=1,\n",
       "            min_samples_split=2, min_weight_fraction_leaf=0.0,\n",
       "            n_estimators=10, n_jobs=1, oob_score=False, random_state=None,\n",
       "            verbose=0, warm_start=False))]),\n",
       " Pipeline(steps=[('scale', StandardScaler(copy=True, with_mean=True, with_std=True)), ('regression', RandomForestRegressor(bootstrap=True, criterion='mse', max_depth=None,\n",
       "            max_features='auto', max_leaf_nodes=None, min_samples_leaf=1,\n",
       "            min_samples_split=2, min_weight_fraction_leaf=0.0,\n",
       "            n_estimators=10, n_jobs=1, oob_score=False, random_state=None,\n",
       "            verbose=0, warm_start=False))]),\n",
       " Pipeline(steps=[('scale', StandardScaler(copy=True, with_mean=True, with_std=True)), ('regression', RandomForestRegressor(bootstrap=True, criterion='mse', max_depth=None,\n",
       "            max_features='auto', max_leaf_nodes=None, min_samples_leaf=1,\n",
       "            min_samples_split=2, min_weight_fraction_leaf=0.0,\n",
       "            n_estimators=10, n_jobs=1, oob_score=False, random_state=None,\n",
       "            verbose=0, warm_start=False))]))"
      ]
     },
     "execution_count": 29,
     "metadata": {},
     "output_type": "execute_result"
    }
   ],
   "source": [
    "plpop._train_trap(N=1000)"
   ]
  },
  {
   "cell_type": "code",
   "execution_count": 30,
   "metadata": {
    "collapsed": false
   },
   "outputs": [
    {
     "data": {
      "text/plain": [
       "{'N_pl': 1.0,\n",
       " 'Rp_max': 11.2,\n",
       " 'Rp_min': 2.2399999999999998,\n",
       " 'alpha': -1.6,\n",
       " 'beta': -0.75,\n",
       " 'beta_a': 0.8,\n",
       " 'beta_b': 2.0,\n",
       " 'period_max': 5478.75,\n",
       " 'period_min': 730.5}"
      ]
     },
     "execution_count": 30,
     "metadata": {},
     "output_type": "execute_result"
    }
   ],
   "source": [
    "plpop.params"
   ]
  },
  {
   "cell_type": "code",
   "execution_count": 92,
   "metadata": {
    "collapsed": false
   },
   "outputs": [
    {
     "data": {
      "image/png": "[encoded data removed]",
      "text/plain": [
       "<matplotlib.figure.Figure at 0x7f83062dd190>"
      ]
     },
     "metadata": {},
     "output_type": "display_data"
    }
   ],
   "source": [
    "# OK, checking out a hypothetical planet population\n",
    "# Rp from 0.3 to 1 RJup\n",
    "plpop.set_params(alpha=-1, Rp_min=0.3*11.2, Rp_max=11.2, beta=-1.0, N_pl=0.5)\n",
    "plpop._generate_planets()\n",
    "fig, (ax1, ax2) = plt.subplots(1, 2, figsize=(10,4))\n",
    "ax1.hist(plpop.period, histtype='step', lw=3);\n",
    "ax1.set_yticks([])\n",
    "ax2.hist(plpop.radius_B*6.96e10/6.37e8, histtype='step', lw=3);\n",
    "ax2.set_yticks([]);\n"
   ]
  },
  {
   "cell_type": "code",
   "execution_count": 97,
   "metadata": {
    "collapsed": false
   },
   "outputs": [
    {
     "data": {
      "image/png": "[encoded data removed]",
      "text/plain": [
       "<matplotlib.figure.Figure at 0x7f8306cf9710>"
      ]
     },
     "metadata": {},
     "output_type": "display_data"
    }
   ],
   "source": [
    "dfm_q_pl = 'n_pri < 3 and snr_pri > 15 and T14_pri < 2.5'\n",
    "dfm_q_pl_nosnr = 'n_pri < 3 and T14_pri < 2.5 and snr_pri > 0'\n",
    "\n",
    "nobs_pl = [len(plpop.observe(new_orbits=True, regr_trap=True).query(dfm_q_pl)) for i in range(100)]\n",
    "nobs_pl2 = [len(plpop.observe(new_orbits=True, regr_trap=True).query(dfm_q_pl_nosnr)) for i in range(100)]\n",
    "\n",
    "plt.hist(nobs_pl, histtype='step', lw=3, label='SNR $>$ 15');\n",
    "plt.hist(nobs_pl2, histtype='step', lw=3, color='k', ls=':', label='all')\n",
    "plt.legend(loc='upper right');"
   ]
  },
  {
   "cell_type": "code",
   "execution_count": 122,
   "metadata": {
    "collapsed": false
   },
   "outputs": [
    {
     "data": {
      "text/plain": [
       "16.780000000000001"
      ]
     },
     "execution_count": 122,
     "metadata": {},
     "output_type": "execute_result"
    }
   ],
   "source": [
    "np.mean(nobs_pl)"
   ]
  },
  {
   "cell_type": "code",
   "execution_count": 108,
   "metadata": {
    "collapsed": false
   },
   "outputs": [
    {
     "data": {
      "image/png": "[encoded data removed]",
      "text/plain": [
       "<matplotlib.figure.Figure at 0x7f8305e58bd0>"
      ]
     },
     "metadata": {},
     "output_type": "display_data"
    }
   ],
   "source": [
    "N = 1000\n",
    "pl_obs = plpop.get_N_observed(query=dfm_q_pl, N=N)\n",
    "\n",
    "hist2d(pl_obs.observed.dur_pri.values, pl_obs.observed.logd_pri.values,\n",
    "          plot_contours=False, bins=10);\n",
    "\n",
    "plt.plot(candidates.transit_duration, np.log10(candidates.transit_depth), 'rx', ms=10);"
   ]
  },
  {
   "cell_type": "code",
   "execution_count": 114,
   "metadata": {
    "collapsed": false
   },
   "outputs": [
    {
     "data": {
      "image/png": "[encoded data removed]",
      "text/plain": [
       "<matplotlib.figure.Figure at 0x7f83055c7390>"
      ]
     },
     "metadata": {},
     "output_type": "display_data"
    }
   ],
   "source": [
    "pl_kde = gaussian_kde(np.array([pl_obs.observed.dur_pri, pl_obs.observed.logd_pri]))\n",
    "plot_kde(pl_kde)"
   ]
  },
  {
   "cell_type": "code",
   "execution_count": 96,
   "metadata": {
    "collapsed": false
   },
   "outputs": [
    {
     "data": {
      "image/png": "[encoded data removed]",
      "text/plain": [
       "<matplotlib.figure.Figure at 0x7f8305e50cd0>"
      ]
     },
     "metadata": {},
     "output_type": "display_data"
    }
   ],
   "source": [
    "plt.hist(np.log10(pl_obs.observed.snr_pri), normed=True);\n",
    "plt.hist(np.log10(candidates.s2n.values), histtype='step', color='r', lw=3, normed=True);"
   ]
  },
  {
   "cell_type": "markdown",
   "metadata": {},
   "source": [
    "OK, now we can guess as to the nature of each individual signal, given our predicted rates and the depth-duration shape information:"
   ]
  },
  {
   "cell_type": "code",
   "execution_count": 127,
   "metadata": {
    "collapsed": true
   },
   "outputs": [],
   "source": [
    "pts = [candidates.transit_duration, np.log10(candidates.transit_depth)]\n",
    "L_eb = eb_kde(pts)\n",
    "L_bg = bg_kde(pts)\n",
    "L_pl = pl_kde(pts)\n",
    "\n",
    "pi_eb = 7.\n",
    "pi_bg = 0.25\n",
    "pi_pl = 20\n",
    "\n",
    "norm = L_eb*pi_eb + L_bg*pi_bg + L_pl*pi_pl\n",
    "\n",
    "candidates['pr_eb'] = L_eb*pi_eb / norm\n",
    "candidates['pr_bg'] = L_bg*pi_bg / norm\n",
    "candidates['pr_pl'] = L_pl*pi_pl / norm"
   ]
  },
  {
   "cell_type": "code",
   "execution_count": 132,
   "metadata": {
    "collapsed": false
   },
   "outputs": [
    {
     "data": {
      "text/plain": [
       "pr_eb     7.967018\n",
       "pr_bg     0.845612\n",
       "pr_pl    18.187371\n",
       "dtype: float64"
      ]
     },
     "execution_count": 132,
     "metadata": {},
     "output_type": "execute_result"
    }
   ],
   "source": [
    "candidates[['pr_eb', 'pr_bg', 'pr_pl']].sum()"
   ]
  },
  {
   "cell_type": "code",
   "execution_count": 129,
   "metadata": {
    "collapsed": false
   },
   "outputs": [
    {
     "data": {
      "text/html": [
       "<div>\n",
       "<table border=\"1\" class=\"dataframe\">\n",
       "  <thead>\n",
       "    <tr style=\"text-align: right;\">\n",
       "      <th></th>\n",
       "      <th>transit_depth</th>\n",
       "      <th>transit_duration</th>\n",
       "      <th>pr_eb</th>\n",
       "      <th>pr_bg</th>\n",
       "      <th>pr_pl</th>\n",
       "    </tr>\n",
       "  </thead>\n",
       "  <tbody>\n",
       "    <tr>\n",
       "      <th>17</th>\n",
       "      <td>0.009891</td>\n",
       "      <td>0.393807</td>\n",
       "      <td>0.100521</td>\n",
       "      <td>0.006526</td>\n",
       "      <td>8.929526e-01</td>\n",
       "    </tr>\n",
       "    <tr>\n",
       "      <th>27</th>\n",
       "      <td>0.099859</td>\n",
       "      <td>1.157742</td>\n",
       "      <td>0.983571</td>\n",
       "      <td>0.016429</td>\n",
       "      <td>1.625674e-10</td>\n",
       "    </tr>\n",
       "    <tr>\n",
       "      <th>39</th>\n",
       "      <td>0.019413</td>\n",
       "      <td>0.684503</td>\n",
       "      <td>0.119688</td>\n",
       "      <td>0.007541</td>\n",
       "      <td>8.727710e-01</td>\n",
       "    </tr>\n",
       "    <tr>\n",
       "      <th>40</th>\n",
       "      <td>0.018614</td>\n",
       "      <td>0.684186</td>\n",
       "      <td>0.105281</td>\n",
       "      <td>0.006634</td>\n",
       "      <td>8.880846e-01</td>\n",
       "    </tr>\n",
       "    <tr>\n",
       "      <th>43</th>\n",
       "      <td>0.061088</td>\n",
       "      <td>0.361075</td>\n",
       "      <td>0.985850</td>\n",
       "      <td>0.013016</td>\n",
       "      <td>1.134098e-03</td>\n",
       "    </tr>\n",
       "    <tr>\n",
       "      <th>135</th>\n",
       "      <td>0.001466</td>\n",
       "      <td>0.368496</td>\n",
       "      <td>0.038147</td>\n",
       "      <td>0.019330</td>\n",
       "      <td>9.425233e-01</td>\n",
       "    </tr>\n",
       "    <tr>\n",
       "      <th>139</th>\n",
       "      <td>0.005940</td>\n",
       "      <td>0.504267</td>\n",
       "      <td>0.034349</td>\n",
       "      <td>0.004657</td>\n",
       "      <td>9.609945e-01</td>\n",
       "    </tr>\n",
       "    <tr>\n",
       "      <th>146</th>\n",
       "      <td>0.008761</td>\n",
       "      <td>0.736594</td>\n",
       "      <td>0.018510</td>\n",
       "      <td>0.001806</td>\n",
       "      <td>9.796848e-01</td>\n",
       "    </tr>\n",
       "    <tr>\n",
       "      <th>151</th>\n",
       "      <td>0.005943</td>\n",
       "      <td>1.514634</td>\n",
       "      <td>0.020482</td>\n",
       "      <td>0.003661</td>\n",
       "      <td>9.758570e-01</td>\n",
       "    </tr>\n",
       "    <tr>\n",
       "      <th>186</th>\n",
       "      <td>0.008697</td>\n",
       "      <td>0.295183</td>\n",
       "      <td>0.152245</td>\n",
       "      <td>0.008694</td>\n",
       "      <td>8.390618e-01</td>\n",
       "    </tr>\n",
       "    <tr>\n",
       "      <th>188</th>\n",
       "      <td>0.002987</td>\n",
       "      <td>0.664201</td>\n",
       "      <td>0.012503</td>\n",
       "      <td>0.003628</td>\n",
       "      <td>9.838690e-01</td>\n",
       "    </tr>\n",
       "    <tr>\n",
       "      <th>189</th>\n",
       "      <td>0.003059</td>\n",
       "      <td>0.662760</td>\n",
       "      <td>0.012325</td>\n",
       "      <td>0.003521</td>\n",
       "      <td>9.841537e-01</td>\n",
       "    </tr>\n",
       "    <tr>\n",
       "      <th>194</th>\n",
       "      <td>0.123015</td>\n",
       "      <td>0.378785</td>\n",
       "      <td>0.994018</td>\n",
       "      <td>0.005982</td>\n",
       "      <td>6.139100e-10</td>\n",
       "    </tr>\n",
       "    <tr>\n",
       "      <th>233</th>\n",
       "      <td>0.002963</td>\n",
       "      <td>0.627701</td>\n",
       "      <td>0.013655</td>\n",
       "      <td>0.004230</td>\n",
       "      <td>9.821149e-01</td>\n",
       "    </tr>\n",
       "    <tr>\n",
       "      <th>265</th>\n",
       "      <td>0.034482</td>\n",
       "      <td>0.203551</td>\n",
       "      <td>0.908369</td>\n",
       "      <td>0.009871</td>\n",
       "      <td>8.175969e-02</td>\n",
       "    </tr>\n",
       "    <tr>\n",
       "      <th>266</th>\n",
       "      <td>0.034398</td>\n",
       "      <td>0.202660</td>\n",
       "      <td>0.907845</td>\n",
       "      <td>0.009851</td>\n",
       "      <td>8.230394e-02</td>\n",
       "    </tr>\n",
       "    <tr>\n",
       "      <th>276</th>\n",
       "      <td>0.011701</td>\n",
       "      <td>1.058227</td>\n",
       "      <td>0.034806</td>\n",
       "      <td>0.005583</td>\n",
       "      <td>9.596118e-01</td>\n",
       "    </tr>\n",
       "    <tr>\n",
       "      <th>277</th>\n",
       "      <td>0.017266</td>\n",
       "      <td>0.419086</td>\n",
       "      <td>0.192645</td>\n",
       "      <td>0.007559</td>\n",
       "      <td>7.997957e-01</td>\n",
       "    </tr>\n",
       "    <tr>\n",
       "      <th>316</th>\n",
       "      <td>0.000381</td>\n",
       "      <td>0.687075</td>\n",
       "      <td>0.214556</td>\n",
       "      <td>0.637013</td>\n",
       "      <td>1.484317e-01</td>\n",
       "    </tr>\n",
       "    <tr>\n",
       "      <th>330</th>\n",
       "      <td>0.005500</td>\n",
       "      <td>1.632334</td>\n",
       "      <td>0.039407</td>\n",
       "      <td>0.002575</td>\n",
       "      <td>9.580183e-01</td>\n",
       "    </tr>\n",
       "    <tr>\n",
       "      <th>337</th>\n",
       "      <td>0.005094</td>\n",
       "      <td>0.886823</td>\n",
       "      <td>0.015500</td>\n",
       "      <td>0.003048</td>\n",
       "      <td>9.814518e-01</td>\n",
       "    </tr>\n",
       "    <tr>\n",
       "      <th>360</th>\n",
       "      <td>0.088258</td>\n",
       "      <td>0.541822</td>\n",
       "      <td>0.983990</td>\n",
       "      <td>0.016002</td>\n",
       "      <td>8.676198e-06</td>\n",
       "    </tr>\n",
       "    <tr>\n",
       "      <th>374</th>\n",
       "      <td>0.005743</td>\n",
       "      <td>0.841285</td>\n",
       "      <td>0.015214</td>\n",
       "      <td>0.002462</td>\n",
       "      <td>9.823238e-01</td>\n",
       "    </tr>\n",
       "    <tr>\n",
       "      <th>375</th>\n",
       "      <td>0.005847</td>\n",
       "      <td>0.831796</td>\n",
       "      <td>0.015090</td>\n",
       "      <td>0.002374</td>\n",
       "      <td>9.825365e-01</td>\n",
       "    </tr>\n",
       "    <tr>\n",
       "      <th>390</th>\n",
       "      <td>0.063346</td>\n",
       "      <td>0.322461</td>\n",
       "      <td>0.988569</td>\n",
       "      <td>0.011026</td>\n",
       "      <td>4.048678e-04</td>\n",
       "    </tr>\n",
       "    <tr>\n",
       "      <th>416</th>\n",
       "      <td>0.001045</td>\n",
       "      <td>0.444890</td>\n",
       "      <td>0.041701</td>\n",
       "      <td>0.023589</td>\n",
       "      <td>9.347101e-01</td>\n",
       "    </tr>\n",
       "    <tr>\n",
       "      <th>430</th>\n",
       "      <td>0.001823</td>\n",
       "      <td>0.847062</td>\n",
       "      <td>0.018180</td>\n",
       "      <td>0.009008</td>\n",
       "      <td>9.728125e-01</td>\n",
       "    </tr>\n",
       "  </tbody>\n",
       "</table>\n",
       "</div>"
      ],
      "text/plain": [
       "     transit_depth  transit_duration     pr_eb     pr_bg         pr_pl\n",
       "17        0.009891          0.393807  0.100521  0.006526  8.929526e-01\n",
       "27        0.099859          1.157742  0.983571  0.016429  1.625674e-10\n",
       "39        0.019413          0.684503  0.119688  0.007541  8.727710e-01\n",
       "40        0.018614          0.684186  0.105281  0.006634  8.880846e-01\n",
       "43        0.061088          0.361075  0.985850  0.013016  1.134098e-03\n",
       "135       0.001466          0.368496  0.038147  0.019330  9.425233e-01\n",
       "139       0.005940          0.504267  0.034349  0.004657  9.609945e-01\n",
       "146       0.008761          0.736594  0.018510  0.001806  9.796848e-01\n",
       "151       0.005943          1.514634  0.020482  0.003661  9.758570e-01\n",
       "186       0.008697          0.295183  0.152245  0.008694  8.390618e-01\n",
       "188       0.002987          0.664201  0.012503  0.003628  9.838690e-01\n",
       "189       0.003059          0.662760  0.012325  0.003521  9.841537e-01\n",
       "194       0.123015          0.378785  0.994018  0.005982  6.139100e-10\n",
       "233       0.002963          0.627701  0.013655  0.004230  9.821149e-01\n",
       "265       0.034482          0.203551  0.908369  0.009871  8.175969e-02\n",
       "266       0.034398          0.202660  0.907845  0.009851  8.230394e-02\n",
       "276       0.011701          1.058227  0.034806  0.005583  9.596118e-01\n",
       "277       0.017266          0.419086  0.192645  0.007559  7.997957e-01\n",
       "316       0.000381          0.687075  0.214556  0.637013  1.484317e-01\n",
       "330       0.005500          1.632334  0.039407  0.002575  9.580183e-01\n",
       "337       0.005094          0.886823  0.015500  0.003048  9.814518e-01\n",
       "360       0.088258          0.541822  0.983990  0.016002  8.676198e-06\n",
       "374       0.005743          0.841285  0.015214  0.002462  9.823238e-01\n",
       "375       0.005847          0.831796  0.015090  0.002374  9.825365e-01\n",
       "390       0.063346          0.322461  0.988569  0.011026  4.048678e-04\n",
       "416       0.001045          0.444890  0.041701  0.023589  9.347101e-01\n",
       "430       0.001823          0.847062  0.018180  0.009008  9.728125e-01"
      ]
     },
     "execution_count": 129,
     "metadata": {},
     "output_type": "execute_result"
    }
   ],
   "source": [
    "candidates[['transit_depth', 'transit_duration', 'pr_eb', 'pr_bg', 'pr_pl']]"
   ]
  },
  {
   "cell_type": "code",
   "execution_count": null,
   "metadata": {
    "collapsed": true
   },
   "outputs": [],
   "source": []
  }
 ],
 "metadata": {
  "kernelspec": {
   "display_name": "Python 2",
   "language": "python",
   "name": "python2"
  },
  "language_info": {
   "codemirror_mode": {
    "name": "ipython",
    "version": 2
   },
   "file_extension": ".py",
   "mimetype": "text/x-python",
   "name": "python",
   "nbconvert_exporter": "python",
   "pygments_lexer": "ipython2",
   "version": "2.7.11"
  }
 },
 "nbformat": 4,
 "nbformat_minor": 0
}
